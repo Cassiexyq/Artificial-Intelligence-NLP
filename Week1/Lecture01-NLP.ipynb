{
 "cells": [
  {
   "cell_type": "markdown",
   "metadata": {},
   "source": [
    "### Part one-map Search "
   ]
  },
  {
   "cell_type": "code",
   "execution_count": 95,
   "metadata": {},
   "outputs": [],
   "source": [
    "case = \"BEIJING CHANGCHUN MULUMUQI WUHAN GUANGZHOU SHENZHEN BANGKOK SHANGHAI NEWYORK\"\n",
    "BEIJING ,CHANGCHUN, MULUMUQI, WUHAN, GUANGZHOU, SHENZHEN, BANGKOK, SHANGHAI, NEWYORK = case.split()"
   ]
  },
  {
   "cell_type": "code",
   "execution_count": 3,
   "metadata": {},
   "outputs": [],
   "source": [
    "dict = {}"
   ]
  },
  {
   "cell_type": "code",
   "execution_count": 96,
   "metadata": {},
   "outputs": [],
   "source": [
    "connection = {\n",
    "    CHANGCHUN:[BEIJING],\n",
    "    MULUMUQI:[BEIJING],\n",
    "    BEIJING:[MULUMUQI,CHANGCHUN,WUHAN,SHENZHEN,NEWYORK],\n",
    "    NEWYORK:[BEIJING, SHANGHAI],\n",
    "    SHANGHAI:[NEWYORK, WUHAN],\n",
    "    GUANGZHOU: [WUHAN, BANGKOK],\n",
    "    SHENZHEN: [WUHAN, BANGKOK],\n",
    "    BANGKOK: [SHENZHEN, GUANGZHOU],\n",
    "    WUHAN: [SHANGHAI, BEIJING, GUANGZHOU]\n",
    "}"
   ]
  },
  {
   "cell_type": "code",
   "execution_count": 17,
   "metadata": {},
   "outputs": [],
   "source": [
    "import networkx as nx"
   ]
  },
  {
   "cell_type": "code",
   "execution_count": 18,
   "metadata": {},
   "outputs": [],
   "source": [
    "%matplotlib inline"
   ]
  },
  {
   "cell_type": "code",
   "execution_count": 19,
   "metadata": {},
   "outputs": [],
   "source": [
    "graph = connection"
   ]
  },
  {
   "cell_type": "code",
   "execution_count": 20,
   "metadata": {},
   "outputs": [],
   "source": [
    "g = nx.Graph(graph)"
   ]
  },
  {
   "cell_type": "code",
   "execution_count": 21,
   "metadata": {},
   "outputs": [
    {
     "data": {
      "image/png": "[encoded data removed]",
      "text/plain": [
       "<Figure size 432x288 with 1 Axes>"
      ]
     },
     "metadata": {},
     "output_type": "display_data"
    }
   ],
   "source": [
    "nx.draw(g)"
   ]
  },
  {
   "cell_type": "code",
   "execution_count": 151,
   "metadata": {},
   "outputs": [],
   "source": [
    "def nagivator(start, dest, connection_graph): # 找到一条路径，不是最短路径是随机的一条，不会去访问已经访问过的点\n",
    "    paths = [start, ]\n",
    "    seen = set()\n",
    "    path = []\n",
    "    while paths:\n",
    "        froniter = paths.pop()\n",
    "        if froniter in seen: continue\n",
    "        print('standing at:{}'.format(froniter))\n",
    "        path.append(froniter) # 记录每次访问的点\n",
    "        seen.add(froniter)\n",
    "        successors = connection_graph[froniter]\n",
    "        for s in successors:\n",
    "            print('\\t---I am looking forward: {}'.format(s))\n",
    "            if s == dest: # 找到终点返回\n",
    "                path.append(s)\n",
    "                return path\n",
    "            paths += successors # 会有重复点放入，但seen可以pop出已经访问过的点\n",
    "            "
   ]
  },
  {
   "cell_type": "code",
   "execution_count": 25,
   "metadata": {},
   "outputs": [],
   "source": [
    "def draw_route(routes):\n",
    "    print('→'.join(routes))"
   ]
  },
  {
   "cell_type": "code",
   "execution_count": 152,
   "metadata": {},
   "outputs": [
    {
     "name": "stdout",
     "output_type": "stream",
     "text": [
      "standing at:CHANGCHUN\n",
      "\t---I am looking forward: BEIJING\n",
      "standing at:BEIJING\n",
      "\t---I am looking forward: MULUMUQI\n",
      "\t---I am looking forward: CHANGCHUN\n",
      "\t---I am looking forward: WUHAN\n",
      "\t---I am looking forward: SHENZHEN\n",
      "\t---I am looking forward: NEWYORK\n",
      "standing at:NEWYORK\n",
      "\t---I am looking forward: BEIJING\n",
      "\t---I am looking forward: SHANGHAI\n",
      "standing at:SHANGHAI\n",
      "\t---I am looking forward: NEWYORK\n",
      "\t---I am looking forward: WUHAN\n",
      "standing at:WUHAN\n",
      "\t---I am looking forward: SHANGHAI\n",
      "\t---I am looking forward: BEIJING\n",
      "\t---I am looking forward: GUANGZHOU\n",
      "CHANGCHUN→BEIJING→NEWYORK→SHANGHAI→WUHAN→GUANGZHOU\n"
     ]
    }
   ],
   "source": [
    "draw_route(nagivator(CHANGCHUN,GUANGZHOU,connection))"
   ]
  },
  {
   "cell_type": "code",
   "execution_count": 155,
   "metadata": {},
   "outputs": [],
   "source": [
    "def nagivator2(start, dest, connect_graph):#记录路径寻找过程，但这个方法没法找到所有满足起点到终点的路径，因为当找到了一条就返回了。\n",
    "    paths = [[start]]\n",
    "    seen = set()\n",
    "    while paths:\n",
    "        path = paths.pop(0) # 这句相当于是在pop出最短的路径\n",
    "        froniter = path[-1]\n",
    "        if froniter in seen: continue\n",
    "        succesors = connect_graph[froniter]\n",
    "        for s in succesors:\n",
    "            if s == dest:\n",
    "                path.append(s)\n",
    "                return path\n",
    "            else:\n",
    "                paths.append(path+[s])\n",
    "        print(paths)\n",
    "#         paths = sorted(paths, key = len)# 这句实际上没有用，因为每一次都会把有新增的点的路径加入路径集合，说明一定是比前面路径来的长！\n",
    "        seen.add(froniter)"
   ]
  },
  {
   "cell_type": "code",
   "execution_count": 156,
   "metadata": {},
   "outputs": [
    {
     "name": "stdout",
     "output_type": "stream",
     "text": [
      "[['SHENZHEN', 'WUHAN'], ['SHENZHEN', 'BANGKOK']]\n",
      "[['SHENZHEN', 'BANGKOK'], ['SHENZHEN', 'WUHAN', 'SHANGHAI'], ['SHENZHEN', 'WUHAN', 'BEIJING'], ['SHENZHEN', 'WUHAN', 'GUANGZHOU']]\n",
      "[['SHENZHEN', 'WUHAN', 'SHANGHAI'], ['SHENZHEN', 'WUHAN', 'BEIJING'], ['SHENZHEN', 'WUHAN', 'GUANGZHOU'], ['SHENZHEN', 'BANGKOK', 'SHENZHEN'], ['SHENZHEN', 'BANGKOK', 'GUANGZHOU']]\n"
     ]
    },
    {
     "data": {
      "text/plain": [
       "['SHENZHEN', 'WUHAN', 'SHANGHAI', 'NEWYORK']"
      ]
     },
     "execution_count": 156,
     "metadata": {},
     "output_type": "execute_result"
    }
   ],
   "source": [
    "nagivator2(SHENZHEN,NEWYORK,connection)"
   ]
  },
  {
   "cell_type": "code",
   "execution_count": 76,
   "metadata": {},
   "outputs": [],
   "source": [
    "graph2 = {\n",
    "    0: [1, 5], \n",
    "    1: [0, 2], \n",
    "    2: [1, 3], \n",
    "    3: [2, 4], \n",
    "    4: [3],\n",
    "    5: [0, 6], \n",
    "    6: [5, 7],\n",
    "    7: [6]\n",
    "}"
   ]
  },
  {
   "cell_type": "markdown",
   "metadata": {},
   "source": [
    "#### dfs: 0-1-2-3-4-5-6-7\n",
    "#### bfs:0-1-5-2-6-3-7-4"
   ]
  },
  {
   "cell_type": "code",
   "execution_count": 83,
   "metadata": {},
   "outputs": [
    {
     "data": {
      "image/png": "[encoded data removed]",
      "text/plain": [
       "<Figure size 432x288 with 1 Axes>"
      ]
     },
     "metadata": {},
     "output_type": "display_data"
    }
   ],
   "source": [
    "nx.draw(nx.Graph(graph2))"
   ]
  },
  {
   "cell_type": "code",
   "execution_count": 103,
   "metadata": {},
   "outputs": [],
   "source": [
    "def nagivator_bfs(start, connect_graph):\n",
    "    paths = [start]\n",
    "    path = []\n",
    "    seen = set()\n",
    "    while paths:\n",
    "        froniter = paths.pop(0)\n",
    "        \n",
    "        if froniter in seen: continue\n",
    "        path.append(froniter)\n",
    "        succesors = connect_graph[froniter]\n",
    "        print('stand on:{} look forward:{}'.format(froniter,succesors))\n",
    "        paths = paths+succesors\n",
    "        seen.add(froniter)\n",
    "    return path"
   ]
  },
  {
   "cell_type": "code",
   "execution_count": 105,
   "metadata": {},
   "outputs": [],
   "source": [
    "def nagivator_dfs(start, connect_graph):\n",
    "    paths = [start]\n",
    "    path = []\n",
    "    seen = set()\n",
    "    while paths:\n",
    "        froniter = paths.pop(0)\n",
    "        if froniter in seen: continue\n",
    "        path.append(froniter)\n",
    "        succesors = connect_graph[froniter]\n",
    "        print('stand on:{} look forward:{}'.format(froniter,succesors))\n",
    "        paths = succesors + paths\n",
    "        seen.add(froniter)\n",
    "    return path"
   ]
  },
  {
   "cell_type": "code",
   "execution_count": 104,
   "metadata": {},
   "outputs": [
    {
     "name": "stdout",
     "output_type": "stream",
     "text": [
      "stand on:0 look forward:[1, 5]\n",
      "stand on:1 look forward:[0, 2]\n",
      "stand on:5 look forward:[0, 6]\n",
      "stand on:2 look forward:[1, 3]\n",
      "stand on:6 look forward:[5, 7]\n",
      "stand on:3 look forward:[2, 4]\n",
      "stand on:7 look forward:[6]\n",
      "stand on:4 look forward:[3]\n"
     ]
    },
    {
     "data": {
      "text/plain": [
       "[0, 1, 5, 2, 6, 3, 7, 4]"
      ]
     },
     "execution_count": 104,
     "metadata": {},
     "output_type": "execute_result"
    }
   ],
   "source": [
    "nagivator_bfs(0, graph2)"
   ]
  },
  {
   "cell_type": "code",
   "execution_count": 106,
   "metadata": {},
   "outputs": [
    {
     "name": "stdout",
     "output_type": "stream",
     "text": [
      "stand on:0 look forward:[1, 5]\n",
      "stand on:1 look forward:[0, 2]\n",
      "stand on:2 look forward:[1, 3]\n",
      "stand on:3 look forward:[2, 4]\n",
      "stand on:4 look forward:[3]\n",
      "stand on:5 look forward:[0, 6]\n",
      "stand on:6 look forward:[5, 7]\n",
      "stand on:7 look forward:[6]\n"
     ]
    },
    {
     "data": {
      "text/plain": [
       "[0, 1, 2, 3, 4, 5, 6, 7]"
      ]
     },
     "execution_count": 106,
     "metadata": {},
     "output_type": "execute_result"
    }
   ],
   "source": [
    "nagivator_dfs(0,graph2)"
   ]
  },
  {
   "cell_type": "markdown",
   "metadata": {},
   "source": [
    "### part2-基于规则"
   ]
  },
  {
   "cell_type": "code",
   "execution_count": 157,
   "metadata": {},
   "outputs": [],
   "source": [
    "grammar = \"\"\"\n",
    "sentence => noun_phrase verb_phrase \n",
    "noun_phrase => Article Adj* noun\n",
    "Adj* => null | Adj Adj*\n",
    "verb_phrase => verb noun_phrase\n",
    "Article =>  一个 | 这个\n",
    "noun =>   女人 |  篮球 | 桌子 | 小猫\n",
    "verb => 看着   |  坐在 |  听着 | 看见\n",
    "Adj =>   蓝色的 |  好看的 | 小小的\n",
    "\"\"\""
   ]
  },
  {
   "cell_type": "code",
   "execution_count": 161,
   "metadata": {},
   "outputs": [],
   "source": [
    "def parse_grammar(grammar_str, sep = '=>'):\n",
    "    grammar = {}\n",
    "    for line in grammar_str.split('\\n'):\n",
    "        line = line.strip()\n",
    "        if not line: continue\n",
    "        target, rules = line.split(sep)\n",
    "        grammar[target.strip()] = [r.split() for r in rules.split('|')]\n",
    "    return grammar"
   ]
  },
  {
   "cell_type": "code",
   "execution_count": 164,
   "metadata": {},
   "outputs": [
    {
     "data": {
      "text/plain": [
       "{'sentence': [['noun_phrase', 'verb_phrase']],\n",
       " 'noun_phrase': [['Article', 'Adj*', 'noun']],\n",
       " 'Adj*': [['null'], ['Adj', 'Adj*']],\n",
       " 'verb_phrase': [['verb', 'noun_phrase']],\n",
       " 'Article': [['一个'], ['这个']],\n",
       " 'noun': [['女人'], ['篮球'], ['桌子'], ['小猫']],\n",
       " 'verb': [['看着'], ['坐在'], ['听着'], ['看见']],\n",
       " 'Adj': [['蓝色的'], ['好看的'], ['小小的']]}"
      ]
     },
     "execution_count": 164,
     "metadata": {},
     "output_type": "execute_result"
    }
   ],
   "source": [
    "parse_grammar(grammar)"
   ]
  },
  {
   "cell_type": "code",
   "execution_count": 174,
   "metadata": {},
   "outputs": [],
   "source": [
    "import random"
   ]
  },
  {
   "cell_type": "code",
   "execution_count": 184,
   "metadata": {},
   "outputs": [],
   "source": [
    "def gene(grammar_parsed, target = 'sentence'):\n",
    "    if target not in grammar_parsed: return target\n",
    "    rules = random.choice(grammar_parsed[target])\n",
    "    return ''.join(gene(grammar_parsed, target = r) for r in rules if r!='null')"
   ]
  },
  {
   "cell_type": "code",
   "execution_count": 178,
   "metadata": {},
   "outputs": [],
   "source": [
    "g = parse_grammar(grammar)"
   ]
  },
  {
   "cell_type": "code",
   "execution_count": 179,
   "metadata": {},
   "outputs": [
    {
     "data": {
      "text/plain": [
       "{'sentence': [['noun_phrase', 'verb_phrase']],\n",
       " 'noun_phrase': [['Article', 'Adj*', 'noun']],\n",
       " 'Adj*': [['null'], ['Adj', 'Adj*']],\n",
       " 'verb_phrase': [['verb', 'noun_phrase']],\n",
       " 'Article': [['一个'], ['这个']],\n",
       " 'noun': [['女人'], ['篮球'], ['桌子'], ['小猫']],\n",
       " 'verb': [['看着'], ['坐在'], ['听着'], ['看见']],\n",
       " 'Adj': [['蓝色的'], ['好看的'], ['小小的']]}"
      ]
     },
     "execution_count": 179,
     "metadata": {},
     "output_type": "execute_result"
    }
   ],
   "source": [
    "g"
   ]
  },
  {
   "cell_type": "code",
   "execution_count": 180,
   "metadata": {},
   "outputs": [
    {
     "data": {
      "text/plain": [
       "[['noun_phrase', 'verb_phrase']]"
      ]
     },
     "execution_count": 180,
     "metadata": {},
     "output_type": "execute_result"
    }
   ],
   "source": [
    "g['sentence']"
   ]
  },
  {
   "cell_type": "code",
   "execution_count": 187,
   "metadata": {},
   "outputs": [
    {
     "data": {
      "text/plain": [
       "'这个好看的桌子看着这个小小的女人'"
      ]
     },
     "execution_count": 187,
     "metadata": {},
     "output_type": "execute_result"
    }
   ],
   "source": [
    "gene(g)"
   ]
  },
  {
   "cell_type": "code",
   "execution_count": 199,
   "metadata": {},
   "outputs": [],
   "source": [
    "decimal_grammar = \"\"\"\n",
    "experssion = operator op operator\n",
    "operator = num op num\n",
    "num = 0 | 1 | 2 | 3 | 4| 5| 6| 7| 8| 9\n",
    "op = + | - | * | /\n",
    "\"\"\""
   ]
  },
  {
   "cell_type": "code",
   "execution_count": 198,
   "metadata": {},
   "outputs": [
    {
     "data": {
      "text/plain": [
       "'1/2'"
      ]
     },
     "execution_count": 198,
     "metadata": {},
     "output_type": "execute_result"
    }
   ],
   "source": [
    "gene(parse_grammar(decimal_grammar, sep = '='), target = 'operator')"
   ]
  },
  {
   "cell_type": "code",
   "execution_count": 203,
   "metadata": {},
   "outputs": [
    {
     "data": {
      "text/plain": [
       "'0-3/0+9'"
      ]
     },
     "execution_count": 203,
     "metadata": {},
     "output_type": "execute_result"
    }
   ],
   "source": [
    "gene(parse_grammar(decimal_grammar, sep='='),target='experssion')"
   ]
  }
 ],
 "metadata": {
  "kernelspec": {
   "display_name": "Python 3",
   "language": "python",
   "name": "python3"
  },
  "language_info": {
   "codemirror_mode": {
    "name": "ipython",
    "version": 3
   },
   "file_extension": ".py",
   "mimetype": "text/x-python",
   "name": "python",
   "nbconvert_exporter": "python",
   "pygments_lexer": "ipython3",
   "version": "3.6.5"
  }
 },
 "nbformat": 4,
 "nbformat_minor": 2
}
