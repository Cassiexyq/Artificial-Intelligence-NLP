{
 "cells": [
  {
   "cell_type": "markdown",
   "metadata": {},
   "source": [
    "### 编辑距离\n",
    "- 优点：可解释性强，在论文判重中就可以知道哪里增删改查\n",
    "- 缺点：对句子很长时效率低，两个句子的相似性不涉及逻辑问题"
   ]
  },
  {
   "cell_type": "markdown",
   "metadata": {},
   "source": [
    "### 单词的表征\n",
    "##### One-hot 表征\n",
    "   - 如果单词很长，占空间大\n",
    "   - 利用率不高，稀疏矩阵的情况\n",
    "   \n",
    "##### PCA方法 \n",
    "    将多维降下来的方法，降维过程会产生一定损失，在单词表征中，用一个单词矩阵表示，如果有新的语料，需要整个矩阵的重新计算\n",
    "#### 好的单词的表征方法\n",
    "   - 节省空间\n",
    "   - 可调整更新，（adaptive update）\n",
    "   - 可表征语义相似性\n",
    "   \n",
    "**单词为何表征为向量**：用于计算"
   ]
  },
  {
   "cell_type": "markdown",
   "metadata": {},
   "source": [
    "## Part1:  Word2Vec"
   ]
  },
  {
   "cell_type": "markdown",
   "metadata": {},
   "source": [
    "    gensim的输入只要求序列化的句子，而不需要将所有输入都存储在内存中，简单说，可以输入一个句子，处理，删除，再载入新的\n",
    "    例如分散在硬盘的多个文件，每个句子一行，不需要将所有的输入先行存储在内存中，word2vec可以一个一个文件一行一行进行处理\n",
    "    \n",
    "    调用 Word2Vec(sentences, iter=1) 会调用句子迭代器运行两次（一般来说，会运行 iter+1 次，默认情况下  iter=5）。第一次运行负责收集单词和它们的出现频率，从而构造一个内部字典树。第二次以及以后的运行负责训练神经模型。\n",
    "    \n",
    "   ### 训练\n",
    "    Word2vec 有多个影响训练速度和质量的参数。\n",
    "   - **min_count** :\n",
    "       \n",
    "     其中之一是用来修剪内部字典树的。在一个数以亿计的预料中出现一到两次的单词非常有可能是噪音或不需要被关注的。另外，也没有足够的数据对他们进行有意义的训练。因此，最好的办法就是直接将他们忽略掉。\n",
    "    <br><code>model = Word2Vec(sentences, min_count=10) # default value is 5</code>\n",
    "     <br>对于设定 min_count 的值，合理的范围是0 - 100，可以根据数据集的规模进行调整。\n",
    "    \n",
    "   - **size** \n",
    "    \n",
    "    另一个参数是神经网络 NN 层单元数，它也对应了训练算法的自由程度。\n",
    "   <br><code>model = Word2Vec(sentences, size=200) # default value is 100</code>\n",
    "     <br>更大的 size 值需要更多的训练数据，但也同时可以得到更准确的模型。合理的取值范围是几十到几百。\n",
    "   - **workers** \n",
    "        \n",
    "    最后一个主要参数是训练并行粒度，用来加速训练。\n",
    "   <br><code>model = Word2Vec(sentences, workers=4) # default = 1 worker = no parallelization</code>\n",
    "        <br>该参数只有在机器已安装 Cython 情况下才会起到作用。如没有 Cython，则只能单核运行。\n"
   ]
  },
  {
   "cell_type": "code",
   "execution_count": 2,
   "metadata": {},
   "outputs": [],
   "source": [
    "from gensim.models.Word2Vec import LineSentence"
   ]
  },
  {
   "cell_type": "code",
   "execution_count": 7,
   "metadata": {},
   "outputs": [],
   "source": [
    "from gensim.models import Word2Vec"
   ]
  },
  {
   "cell_type": "code",
   "execution_count": 3,
   "metadata": {},
   "outputs": [],
   "source": [
    "senetences = [['cat','say','meow'],['dog','say','woof']]"
   ]
  },
  {
   "cell_type": "code",
   "execution_count": 8,
   "metadata": {},
   "outputs": [],
   "source": [
    "model = Word2Vec(senetences, min_count=1)"
   ]
  },
  {
   "cell_type": "code",
   "execution_count": 9,
   "metadata": {},
   "outputs": [
    {
     "data": {
      "text/plain": [
       "{'cat': <gensim.models.keyedvectors.Vocab at 0x204986646d8>,\n",
       " 'say': <gensim.models.keyedvectors.Vocab at 0x20498664710>,\n",
       " 'meow': <gensim.models.keyedvectors.Vocab at 0x20498664748>,\n",
       " 'dog': <gensim.models.keyedvectors.Vocab at 0x20498664780>,\n",
       " 'woof': <gensim.models.keyedvectors.Vocab at 0x204986647b8>}"
      ]
     },
     "execution_count": 9,
     "metadata": {},
     "output_type": "execute_result"
    }
   ],
   "source": [
    "model.wv.vocab"
   ]
  },
  {
   "cell_type": "code",
   "execution_count": 10,
   "metadata": {},
   "outputs": [
    {
     "name": "stderr",
     "output_type": "stream",
     "text": [
      "D:\\Program Files\\Anaconda3\\lib\\site-packages\\ipykernel_launcher.py:1: DeprecationWarning: Call to deprecated `most_similar` (Method will be removed in 4.0.0, use self.wv.most_similar() instead).\n",
      "  \"\"\"Entry point for launching an IPython kernel.\n"
     ]
    },
    {
     "data": {
      "text/plain": [
       "[('woof', 0.11478932201862335),\n",
       " ('dog', 0.1006193608045578),\n",
       " ('meow', 0.05883640795946121),\n",
       " ('say', -0.07562532275915146)]"
      ]
     },
     "execution_count": 10,
     "metadata": {},
     "output_type": "execute_result"
    }
   ],
   "source": [
    "model.most_similar('cat')"
   ]
  },
  {
   "cell_type": "code",
   "execution_count": 12,
   "metadata": {},
   "outputs": [],
   "source": [
    "database = 'F:/Jupyter/NLP/Artificial-Intelligence-NLP/Project1/sqlResult_1558435.csv'"
   ]
  },
  {
   "cell_type": "code",
   "execution_count": 13,
   "metadata": {},
   "outputs": [],
   "source": [
    "import pandas as pd"
   ]
  },
  {
   "cell_type": "code",
   "execution_count": 43,
   "metadata": {},
   "outputs": [],
   "source": [
    "content = pd.read_csv(database)"
   ]
  },
  {
   "cell_type": "code",
   "execution_count": 51,
   "metadata": {},
   "outputs": [],
   "source": [
    "samples = content['content'].tolist()"
   ]
  },
  {
   "cell_type": "code",
   "execution_count": 32,
   "metadata": {},
   "outputs": [],
   "source": [
    "import jieba"
   ]
  },
  {
   "cell_type": "code",
   "execution_count": 69,
   "metadata": {},
   "outputs": [],
   "source": [
    "def cut(string): return ' '.join(list(jieba.cut(string)))"
   ]
  },
  {
   "cell_type": "code",
   "execution_count": 76,
   "metadata": {},
   "outputs": [],
   "source": [
    "import re\n",
    "def token(content):\n",
    "    return \"\".join(re.findall('[\\w|\\d]+', content))"
   ]
  },
  {
   "cell_type": "code",
   "execution_count": 77,
   "metadata": {},
   "outputs": [
    {
     "data": {
      "text/plain": [
       "'骁龙 835 作为 唯一 通过 Windows10 桌面 平台 认证 的 ARM 处理器 高通 强调 不会 因为 只 考虑 性能 而 去 屏蔽掉 小 核心 相反 他们 正 联手 微软 找到 一种 适合 桌面 平台 的 兼顾 性能 和 功耗 的 完美 方案 报道 称 微软 已经 拿到 了 一些 新 的 源码 以便 Windows10 更好 地 理解 biglittle 架构 资料 显示 骁龙 835 作为 一款 集成 了 CPUGPU 基带 蓝牙 WiFi 的 SoC 比 传统 的 Wintel 方案 可以 节省 至少 30 的 PCB 空间 按计划 今年 Q4 华硕 惠普 联想 将 首发 骁龙 835Win10 电脑 预计 均 是 二合一 形态 的 产品 当然 高通 骁龙 只是 个 开始 未来 也许 还 能 见到 三星 Exynos 联发科 华为 麒麟 小米 澎湃 等 进入 Windows10 桌面 平台'"
      ]
     },
     "execution_count": 77,
     "metadata": {},
     "output_type": "execute_result"
    }
   ],
   "source": [
    "cut(token(samples[1]))"
   ]
  },
  {
   "cell_type": "markdown",
   "metadata": {},
   "source": [
    "### Try a larger corpus(新闻语料库)"
   ]
  },
  {
   "cell_type": "code",
   "execution_count": 79,
   "metadata": {},
   "outputs": [],
   "source": [
    "with open('corpus_samples.txt','w', encoding='utf-8') as f:\n",
    "    for s in samples:\n",
    "        f.write(cut(token(str(s))) + '\\n')"
   ]
  },
  {
   "cell_type": "code",
   "execution_count": 80,
   "metadata": {},
   "outputs": [],
   "source": [
    "sentences = LineSentence('corpus_samples.txt')  # 传入的可以是文件，自动一行一行处理，但是序列化的，分好词的"
   ]
  },
  {
   "cell_type": "code",
   "execution_count": 81,
   "metadata": {},
   "outputs": [],
   "source": [
    "model = Word2Vec(sentences, min_count=1)"
   ]
  },
  {
   "cell_type": "code",
   "execution_count": 83,
   "metadata": {},
   "outputs": [
    {
     "data": {
      "text/plain": [
       "array([-0.13104406,  0.38645142, -0.07911395, -0.6025887 , -1.4590093 ,\n",
       "       -0.641312  ,  0.23608142,  0.44704896, -0.17430197,  0.5703797 ,\n",
       "       -0.7349662 ,  0.6174384 , -0.19381727,  0.4355138 , -0.14908443,\n",
       "        0.08480924,  0.1478671 ,  0.65789557, -1.6371346 , -1.6961427 ,\n",
       "       -0.6820333 , -0.76239157,  0.11705615,  0.60525763, -1.3686242 ,\n",
       "       -0.641274  ,  0.4820115 , -0.5392673 ,  0.6774031 , -0.8671957 ,\n",
       "        0.41286898,  0.15779582,  0.49609366, -0.25388467, -0.6672813 ,\n",
       "        1.1358349 ,  0.49193388,  0.4392241 ,  0.2954627 , -1.6753192 ,\n",
       "        0.05976949, -0.35856354, -1.1684122 , -1.3162006 , -0.91744447,\n",
       "        1.1383    ,  0.01991438,  0.14978853,  0.94313556, -0.1938932 ,\n",
       "       -0.24554539,  0.927059  , -0.84104836,  0.8830491 , -0.3140727 ,\n",
       "        0.45615208,  0.1681259 ,  0.53862   , -0.5258455 , -0.69867676,\n",
       "       -0.7801806 ,  1.0568571 ,  0.25144058,  1.4197085 ,  1.0986097 ,\n",
       "        0.5151397 ,  1.3575599 ,  0.5901367 , -0.35268053,  1.0191829 ,\n",
       "        0.20293932,  1.2092674 , -0.37973946,  1.00192   , -0.18654977,\n",
       "       -0.06070024,  1.8624537 , -0.45236695,  0.09764955, -0.17117886,\n",
       "       -1.1407561 , -0.6098384 , -0.4872876 ,  0.8240453 , -0.37545845,\n",
       "       -0.12333173,  1.7664577 ,  1.404353  , -0.23805328,  0.14740962,\n",
       "       -0.5864067 ,  1.0857421 ,  0.5651798 ,  0.3259462 , -1.3882018 ,\n",
       "       -0.45303664, -0.38979006,  2.1750312 ,  0.43956375, -0.65985006],\n",
       "      dtype=float32)"
      ]
     },
     "execution_count": 83,
     "metadata": {},
     "output_type": "execute_result"
    }
   ],
   "source": [
    "model.wv['小米']"
   ]
  },
  {
   "cell_type": "code",
   "execution_count": 82,
   "metadata": {},
   "outputs": [
    {
     "name": "stderr",
     "output_type": "stream",
     "text": [
      "D:\\Program Files\\Anaconda3\\lib\\site-packages\\ipykernel_launcher.py:1: DeprecationWarning: Call to deprecated `most_similar` (Method will be removed in 4.0.0, use self.wv.most_similar() instead).\n",
      "  \"\"\"Entry point for launching an IPython kernel.\n"
     ]
    },
    {
     "data": {
      "text/plain": [
       "[('苹果', 0.7384345531463623),\n",
       " ('华为', 0.7256077527999878),\n",
       " ('天猫', 0.7211840748786926),\n",
       " ('格力', 0.7203738689422607),\n",
       " ('三星', 0.714936375617981),\n",
       " ('商城', 0.7115495800971985),\n",
       " ('京东', 0.7076677680015564),\n",
       " ('家电', 0.7018177509307861),\n",
       " ('沃尔玛', 0.6988679766654968),\n",
       " ('亚马逊', 0.6985962390899658)]"
      ]
     },
     "execution_count": 82,
     "metadata": {},
     "output_type": "execute_result"
    }
   ],
   "source": [
    "model.most_similar('小米')"
   ]
  },
  {
   "cell_type": "code",
   "execution_count": 84,
   "metadata": {},
   "outputs": [
    {
     "name": "stderr",
     "output_type": "stream",
     "text": [
      "D:\\Program Files\\Anaconda3\\lib\\site-packages\\ipykernel_launcher.py:1: DeprecationWarning: Call to deprecated `most_similar` (Method will be removed in 4.0.0, use self.wv.most_similar() instead).\n",
      "  \"\"\"Entry point for launching an IPython kernel.\n"
     ]
    },
    {
     "data": {
      "text/plain": [
       "[('三星', 0.8133171796798706),\n",
       " ('谷歌', 0.7662756443023682),\n",
       " ('英特尔', 0.7578772306442261),\n",
       " ('微软', 0.7469288110733032),\n",
       " ('旗下', 0.7316062450408936),\n",
       " ('IT', 0.7305045127868652),\n",
       " ('阿里巴巴', 0.7290788888931274),\n",
       " ('西门子', 0.7272427082061768),\n",
       " ('小米', 0.7256077527999878),\n",
       " ('中国电信', 0.7227927446365356)]"
      ]
     },
     "execution_count": 84,
     "metadata": {},
     "output_type": "execute_result"
    }
   ],
   "source": [
    "model.most_similar('华为')"
   ]
  },
  {
   "cell_type": "markdown",
   "metadata": {},
   "source": [
    "## Part2 : Name Entity Recognition\n",
    "\n",
    "     区分出什么是人名，机构组织名，地点"
   ]
  },
  {
   "cell_type": "code",
   "execution_count": 91,
   "metadata": {},
   "outputs": [],
   "source": [
    "from jieba import posseg"
   ]
  },
  {
   "cell_type": "markdown",
   "metadata": {},
   "source": [
    "     jieba.posseg 标注分词后每个词的词性，采用ictclas的标记法，对于此行注释\n",
    "     https://blog.csdn.net/suibianshen2012/article/details/53487157"
   ]
  },
  {
   "cell_type": "code",
   "execution_count": 94,
   "metadata": {},
   "outputs": [],
   "source": [
    "\n",
    "text = \"\"\"新华社华盛顿4月26日电 美国总统特朗普26日表示，美国将撤销在《武器贸易条约》上的签字。\n",
    "\n",
    "特朗普当天在美国印第安纳州首府印第安纳波利斯举行的美国全国步枪协会年会上说，《武器贸易条约》是一个“严重误导的条约”，美国将撤销在该条约上的签字，联合国将很快收到美国正式拒绝该条约的通知。\"\"\""
   ]
  },
  {
   "cell_type": "code",
   "execution_count": 95,
   "metadata": {},
   "outputs": [],
   "source": [
    "words = posseg.cut(text)"
   ]
  },
  {
   "cell_type": "code",
   "execution_count": 99,
   "metadata": {
    "scrolled": true
   },
   "outputs": [
    {
     "name": "stdout",
     "output_type": "stream",
     "text": [
      "新华社/nt\n",
      "华盛顿/ns\n",
      "4/m\n",
      "月/m\n",
      "26/m\n",
      "日电/j\n",
      " /x\n",
      "美国/ns\n",
      "总统/n\n",
      "特朗普/nr\n",
      "26/m\n",
      "日/m\n",
      "表示/v\n",
      "，/x\n",
      "美国/ns\n",
      "将/d\n",
      "撤销/v\n",
      "在/p\n",
      "《/x\n",
      "武器/n\n",
      "贸易/vn\n",
      "条约/n\n",
      "》/x\n",
      "上/f\n",
      "的/uj\n",
      "签字/v\n",
      "。/x\n",
      "\n",
      "/x\n",
      "\n",
      "/x\n",
      "特朗普/nr\n",
      "当天/t\n",
      "在/p\n",
      "美国/ns\n",
      "印第安纳州/ns\n",
      "首府/n\n",
      "印第安纳波利斯/ns\n",
      "举行/v\n",
      "的/uj\n",
      "美国/ns\n",
      "全国/n\n",
      "步枪/n\n",
      "协会/n\n",
      "年/m\n",
      "会上/t\n",
      "说/v\n",
      "，/x\n",
      "《/x\n",
      "武器/n\n",
      "贸易/vn\n",
      "条约/n\n",
      "》/x\n",
      "是/v\n",
      "一个/m\n",
      "“/x\n",
      "严重/a\n",
      "误导/n\n",
      "的/uj\n",
      "条约/n\n",
      "”/x\n",
      "，/x\n",
      "美国/ns\n",
      "将/d\n",
      "撤销/v\n",
      "在/p\n",
      "该/r\n",
      "条约/n\n",
      "上/f\n",
      "的/uj\n",
      "签字/v\n",
      "，/x\n",
      "联合国/nt\n",
      "将/d\n",
      "很快/d\n",
      "收到/v\n",
      "美国/ns\n",
      "正式/ad\n",
      "拒绝/v\n",
      "该/r\n",
      "条约/n\n",
      "的/uj\n",
      "通知/v\n",
      "。/x\n"
     ]
    }
   ],
   "source": [
    "for w in posseg.cut(text):\n",
    "    print(w)"
   ]
  },
  {
   "cell_type": "code",
   "execution_count": null,
   "metadata": {},
   "outputs": [],
   "source": []
  }
 ],
 "metadata": {
  "kernelspec": {
   "display_name": "Python 3",
   "language": "python",
   "name": "python3"
  },
  "language_info": {
   "codemirror_mode": {
    "name": "ipython",
    "version": 3
   },
   "file_extension": ".py",
   "mimetype": "text/x-python",
   "name": "python",
   "nbconvert_exporter": "python",
   "pygments_lexer": "ipython3",
   "version": "3.6.5"
  }
 },
 "nbformat": 4,
 "nbformat_minor": 2
}
