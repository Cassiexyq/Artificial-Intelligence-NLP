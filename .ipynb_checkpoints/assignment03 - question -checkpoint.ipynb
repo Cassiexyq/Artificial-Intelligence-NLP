{
 "cells": [
  {
   "cell_type": "markdown",
   "metadata": {},
   "source": [
    "### Assignment03"
   ]
  },
  {
   "cell_type": "markdown",
   "metadata": {},
   "source": [
    "#### 1. 复现titanic机器学习\n",
    "    ans : 参考lecture03\n",
    "#### 2. Why we need machine learning methods instead of creating a complicated formula\n",
    "    ans: 一个复杂的公式可能并不能解决所有的问题，即便真的可以解决，也会造成非常大的计算代价\n",
    "#### 3. Wha't's the disadvantages of the 1st Random Choosen methods in our course?\n",
    "    ans: 第一种利用随机选择参数的方式，随机性太大，不一定能得到最优解，且达到一定程度后loss很难下降\n",
    "#### 4. Is the 2nd method supervised direction better than 1st one? What's the disadvantages of the 2nd supversied directin method?\n",
    "    ans: 第二种比第一种好一点，原因是加入了方向，\n",
    "#### 5. Why do we use Derivative / Gredient to fit a target function?\n",
    "#### 6. In the words 'Gredient Descent', what's the Gredient and what's the Descent?\n",
    "#### 7. What's the advantages of the 3rd gradient descent method compared to the previous methods\n",
    "#### 8. Using the simple words to describe: What's the machine leanring."
   ]
  }
 ],
 "metadata": {
  "kernelspec": {
   "display_name": "Python 3",
   "language": "python",
   "name": "python3"
  },
  "language_info": {
   "codemirror_mode": {
    "name": "ipython",
    "version": 3
   },
   "file_extension": ".py",
   "mimetype": "text/x-python",
   "name": "python",
   "nbconvert_exporter": "python",
   "pygments_lexer": "ipython3",
   "version": "3.6.5"
  }
 },
 "nbformat": 4,
 "nbformat_minor": 2
}
