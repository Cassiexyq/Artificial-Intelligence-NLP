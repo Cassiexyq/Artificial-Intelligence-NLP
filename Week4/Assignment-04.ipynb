{
 "cells": [
  {
   "cell_type": "markdown",
   "metadata": {},
   "source": [
    "## Assignment of Lecture 04"
   ]
  },
  {
   "cell_type": "markdown",
   "metadata": {},
   "source": [
    "In this week, we need complete following tasks:\n",
    "+ Re-review the course online programming; \n",
    "+ Choose 1 - 2 books which you interested and keep reading; \n",
    "+ Answer the review questions\n",
    "+ Prepare the basic requirement of our 1st project. "
   ]
  },
  {
   "cell_type": "markdown",
   "metadata": {},
   "source": [
    "### Part I Review the online programming. "
   ]
  },
  {
   "cell_type": "markdown",
   "metadata": {},
   "source": [
    "### Part1-2: Finish the Solution Parse Part of Edit-Distance"
   ]
  },
  {
   "cell_type": "markdown",
   "metadata": {},
   "source": [
    "### Part 2 Choose 1 - 2 books to keep reading: \n",
    "\n",
    "+ SICP, Structure and Interpretation of Computer Programming. \n",
    "+ Introduction to Algorithms \n",
    "+ Artificial Intelligence A Modern Approach (3rd Edition) \n",
    "+ Code Complete 2 \n",
    "+ Programming Pearls \n",
    "+ Deep Learning  ---> reading\n",
    "+ 黑客与画家 --->  看过\n",
    "+ 数学之美\n",
    "+ Fluent Python\n",
    "+ Hands on Tensorflow\n",
    "+ Conference: NIPS_ ICML_ ICLR_ ACL_ AAAI\n",
    "\n",
    "> most books you may find in our github: https://github.com/Computing-Intelligence/References"
   ]
  },
  {
   "cell_type": "markdown",
   "metadata": {},
   "source": [
    "### Part 3: Answer following questions: "
   ]
  },
  {
   "cell_type": "markdown",
   "metadata": {},
   "source": [
    "1. Why do we need dynamic programming? What's the difference of dynamic programming and previous talked `search` problme? "
   ]
  },
  {
   "cell_type": "markdown",
   "metadata": {},
   "source": [
    "Ans: 遇到有重复子问题组成的复杂问题，可以采用动态规划，本质为不断查表过程，节省时间，提高效率，搜索包括深度搜索，广度搜索，这个问题一般不是由一系列的子问题组成的。"
   ]
  },
  {
   "cell_type": "markdown",
   "metadata": {},
   "source": [
    "2. Why do we still need dynamic programming? Why not we train a machine learning to fit a function which could get the `right` answer based on inputs?"
   ]
  },
  {
   "cell_type": "markdown",
   "metadata": {},
   "source": [
    "Ans:能用动态规划解决的问题没有必要使用机器学习方法，动态规划利用子问题求解，得到的答案是高度正确的，机器学习方法用于很难获得right的回答，通过学习帮助得到一个近似正确的解"
   ]
  },
  {
   "cell_type": "markdown",
   "metadata": {},
   "source": [
    "3. Can you catch up at least 3 problems which could solved by Dynamic Programming? "
   ]
  },
  {
   "cell_type": "markdown",
   "metadata": {},
   "source": [
    "Ans:论文查重， 旅行商问题，字符串搜索，手写字符识别，etc"
   ]
  },
  {
   "cell_type": "markdown",
   "metadata": {},
   "source": [
    "4. Can you catch up at least 3 problems wich could sloved by Edit Distance? "
   ]
  },
  {
   "cell_type": "markdown",
   "metadata": {},
   "source": [
    "Ans: DNA检测，错别字修改，论文查重，搜狗拼音， 机器翻译与原文比对相似度，etc"
   ]
  },
  {
   "cell_type": "markdown",
   "metadata": {},
   "source": [
    "5. Please summarize the three main features of Dynamic Programming, and make a concise explain for each feature. "
   ]
  },
  {
   "cell_type": "markdown",
   "metadata": {},
   "source": [
    "+  不断递归的查找子问题与复杂问题之间的联系\n",
    "+  过程存储子问题的解决方案\n",
    "+  解决同样的子问题通过不断查表得出结果"
   ]
  },
  {
   "cell_type": "markdown",
   "metadata": {},
   "source": [
    "6. What's the disadvantages of Dynamic Programming? (You may need search by yourself in Internet)"
   ]
  },
  {
   "cell_type": "markdown",
   "metadata": {},
   "source": [
    "Ans:空间换时间，如果子问题很多，查表速率很慢，对于高维度的问题不能很好解决"
   ]
  },
  {
   "cell_type": "markdown",
   "metadata": {},
   "source": [
    "## Part 4 Preparation of Project-01  "
   ]
  },
  {
   "cell_type": "markdown",
   "metadata": {},
   "source": [
    "1. Using python Flask or Bottle to finish your first simple web app:\n",
    "> https://bottlepy.org/\n",
    "\n",
    "2. Learn what's the SQL, and try some simple SQL operations:\n",
    "> https://www.w3schools.com/sql/sql_intro.asp\n",
    "\n",
    "3. Learn what's the HTML ( *ONLY* need to know the basic things)\n",
    "> https://getbootstrap.com/; https://www.w3schools.com/html/"
   ]
  },
  {
   "cell_type": "markdown",
   "metadata": {},
   "source": [
    "### (Optinal) Finish the k-person-salesman problem:"
   ]
  },
  {
   "cell_type": "code",
   "execution_count": 1,
   "metadata": {},
   "outputs": [],
   "source": [
    "import random\n",
    "import matplotlib.pylab as plt"
   ]
  },
  {
   "cell_type": "code",
   "execution_count": 2,
   "metadata": {},
   "outputs": [],
   "source": [
    "latitudes = [random.randint(-100, 100) for _ in range(20)]\n",
    "longitude = [random.randint(-100, 100) for _ in range(20)]"
   ]
  },
  {
   "cell_type": "code",
   "execution_count": 3,
   "metadata": {},
   "outputs": [
    {
     "data": {
      "text/plain": [
       "<matplotlib.collections.PathCollection at 0x287feafc1d0>"
      ]
     },
     "execution_count": 3,
     "metadata": {},
     "output_type": "execute_result"
    },
    {
     "data": {
      "image/png": "[encoded data removed]",
      "text/plain": [
       "<Figure size 432x288 with 1 Axes>"
      ]
     },
     "metadata": {},
     "output_type": "display_data"
    }
   ],
   "source": [
    "plt.scatter(latitudes, longitude)"
   ]
  },
  {
   "cell_type": "markdown",
   "metadata": {},
   "source": [
    "给定一个初始点 $P$, 已经 $k$个车辆，如何从该点出发，经这 k 个车辆经过所以的点全部一次，而且所走过的路程最短? "
   ]
  },
  {
   "cell_type": "markdown",
   "metadata": {},
   "source": [
    "例如： "
   ]
  },
  {
   "cell_type": "code",
   "execution_count": 7,
   "metadata": {},
   "outputs": [],
   "source": [
    "chosen_p = (5, 10)"
   ]
  },
  {
   "cell_type": "code",
   "execution_count": 8,
   "metadata": {},
   "outputs": [
    {
     "data": {
      "text/plain": [
       "<matplotlib.collections.PathCollection at 0x287fecafe10>"
      ]
     },
     "execution_count": 8,
     "metadata": {},
     "output_type": "execute_result"
    },
    {
     "data": {
      "image/png": "[encoded data removed]",
      "text/plain": [
       "<Figure size 432x288 with 1 Axes>"
      ]
     },
     "metadata": {},
     "output_type": "display_data"
    }
   ],
   "source": [
    "plt.scatter(latitudes, longitude)\n",
    "plt.scatter([chosen_p[0]], [chosen_p[1]], color='r')"
   ]
  },
  {
   "cell_type": "code",
   "execution_count": 9,
   "metadata": {},
   "outputs": [
    {
     "data": {
      "text/plain": [
       "{0: (5, 10),\n",
       " 1: (64, -36),\n",
       " 2: (-19, -30),\n",
       " 3: (11, -77),\n",
       " 4: (-79, 25),\n",
       " 5: (13, 86),\n",
       " 6: (92, 35),\n",
       " 7: (-79, 16),\n",
       " 8: (-67, 45),\n",
       " 9: (-71, 20),\n",
       " 10: (65, 33),\n",
       " 11: (-44, -82),\n",
       " 12: (80, 46),\n",
       " 13: (-44, 1),\n",
       " 14: (-33, -88),\n",
       " 15: (-29, 47),\n",
       " 16: (4, 11),\n",
       " 17: (-20, -76),\n",
       " 18: (7, -57),\n",
       " 19: (-97, -89),\n",
       " 20: (-42, -82)}"
      ]
     },
     "execution_count": 9,
     "metadata": {},
     "output_type": "execute_result"
    }
   ],
   "source": [
    "coord_point = []\n",
    "points = {}\n",
    "points[0] = chosen_p\n",
    "for i in range(len(latitudes)):\n",
    "    points[i+1] = (latitudes[i], longitude[i])\n",
    "points"
   ]
  },
  {
   "cell_type": "markdown",
   "metadata": {},
   "source": [
    "> 想法是：从初始点开始，从剩余点找距离最短的点，再从找到的点开始找距离最小的点，也就是不断找在当前剩余点中距离最小的点"
   ]
  },
  {
   "cell_type": "code",
   "execution_count": 10,
   "metadata": {},
   "outputs": [],
   "source": [
    "import math"
   ]
  },
  {
   "cell_type": "code",
   "execution_count": 14,
   "metadata": {},
   "outputs": [],
   "source": [
    "def get_distance(point1, point2):\n",
    "    return math.sqrt(pow(point1[0]-point2[0],2)+ pow(point1[1]-point2[1],2))"
   ]
  },
  {
   "cell_type": "code",
   "execution_count": 38,
   "metadata": {},
   "outputs": [],
   "source": [
    "distance_map = {}\n",
    "for bh, point in points.items():\n",
    "    point_temp = {}\n",
    "    for bg_in, point_in in points.items():\n",
    "        if bh == bg_in: continue\n",
    "        if bg_in in distance_map:\n",
    "            point_temp[(bg_in,bh)] = distance_map[bg_in][(bh, bg_in)]\n",
    "        else:\n",
    "            point_temp[(bg_in,bh)] = get_distance(point, point_in)\n",
    "    distance_map[bh] = point_temp   "
   ]
  },
  {
   "cell_type": "code",
   "execution_count": 69,
   "metadata": {},
   "outputs": [],
   "source": [
    "sorted_map = []\n",
    "for i,points_temp in distance_map.items():\n",
    "    sorted_map.append(sorted(points_temp.items(), key = lambda item:item[1]))"
   ]
  },
  {
   "cell_type": "code",
   "execution_count": 70,
   "metadata": {},
   "outputs": [
    {
     "data": {
      "text/plain": [
       "[((16, 0), 1.4142135623730951),\n",
       " ((2, 0), 46.647615158762406),\n",
       " ((13, 0), 49.8196748283246),\n",
       " ((15, 0), 50.24937810560445),\n",
       " ((10, 0), 64.25729530566937),\n",
       " ((18, 0), 67.02984409947557),\n",
       " ((1, 0), 74.81310045707235),\n",
       " ((5, 0), 76.4198926981712),\n",
       " ((9, 0), 76.6550715869472),\n",
       " ((8, 0), 80.05623023850174),\n",
       " ((12, 0), 83.19254774317228),\n",
       " ((7, 0), 84.2140130857092),\n",
       " ((4, 0), 85.32877591996736),\n",
       " ((3, 0), 87.20665112249179),\n",
       " ((17, 0), 89.56003573022959),\n",
       " ((6, 0), 90.52071586106685),\n",
       " ((20, 0), 103.31021246711285),\n",
       " ((11, 0), 104.23531071570709),\n",
       " ((14, 0), 105.1094667477673),\n",
       " ((19, 0), 142.1442928857856)]"
      ]
     },
     "execution_count": 70,
     "metadata": {},
     "output_type": "execute_result"
    }
   ],
   "source": [
    "sorted_map[0]"
   ]
  },
  {
   "cell_type": "code",
   "execution_count": 81,
   "metadata": {},
   "outputs": [
    {
     "data": {
      "text/plain": [
       "16"
      ]
     },
     "execution_count": 81,
     "metadata": {},
     "output_type": "execute_result"
    }
   ],
   "source": [
    "sorted_map[0][0][0][0]"
   ]
  },
  {
   "cell_type": "code",
   "execution_count": 91,
   "metadata": {},
   "outputs": [
    {
     "name": "stdout",
     "output_type": "stream",
     "text": [
      "0->16:1.4142135623730951\n",
      "16->2:47.01063709417264\n",
      "2->18:37.48332962798263\n",
      "18->3:20.396078054371138\n",
      "3->17:31.016124838541646\n",
      "17->14:17.69180601295413\n",
      "14->20:10.816653826391969\n",
      "20->11:2.0\n",
      "11->19:53.46026561849464\n",
      "19->13:104.44615837837216\n",
      "13->9:33.015148038438355\n",
      "9->7:8.94427190999916\n",
      "7->4:9.0\n",
      "4->8:23.323807579381203\n",
      "8->15:38.05259518088089\n",
      "15->5:57.3149195236284\n",
      "5->10:74.24957912338628\n",
      "10->12:19.849433241279208\n",
      "12->6:16.278820596099706\n",
      "6->1:76.32168761236873\n"
     ]
    }
   ],
   "source": [
    "path = [] # 记录的是点的编号\n",
    "ans = 0\n",
    "while True:\n",
    "    if len(path) == len(points): break\n",
    "    if len(path) == 0:  # 假设起始点为点0\n",
    "        path.append(0)\n",
    "    frontitor = path[-1]\n",
    "    for i in sorted_map[frontitor]:\n",
    "        if i[0][0] in path: continue\n",
    "        path.append(i[0][0])\n",
    "        print('{}->{}:{}'.format(frontitor,i[0][0],i[1]))\n",
    "        ans += i[1]\n",
    "        break"
   ]
  },
  {
   "cell_type": "code",
   "execution_count": 92,
   "metadata": {},
   "outputs": [
    {
     "data": {
      "text/plain": [
       "[0, 16, 2, 18, 3, 17, 14, 20, 11, 19, 13, 9, 7, 4, 8, 15, 5, 10, 12, 6, 1]"
      ]
     },
     "execution_count": 92,
     "metadata": {},
     "output_type": "execute_result"
    }
   ],
   "source": [
    "path"
   ]
  },
  {
   "cell_type": "code",
   "execution_count": 93,
   "metadata": {},
   "outputs": [
    {
     "data": {
      "text/plain": [
       "[(5, 10),\n",
       " (4, 11),\n",
       " (-19, -30),\n",
       " (7, -57),\n",
       " (11, -77),\n",
       " (-20, -76),\n",
       " (-33, -88),\n",
       " (-42, -82),\n",
       " (-44, -82),\n",
       " (-97, -89),\n",
       " (-44, 1),\n",
       " (-71, 20),\n",
       " (-79, 16),\n",
       " (-79, 25),\n",
       " (-67, 45),\n",
       " (-29, 47),\n",
       " (13, 86),\n",
       " (65, 33),\n",
       " (80, 46),\n",
       " (92, 35),\n",
       " (64, -36)]"
      ]
     },
     "execution_count": 93,
     "metadata": {},
     "output_type": "execute_result"
    }
   ],
   "source": [
    "[points[item] for item in path]"
   ]
  },
  {
   "cell_type": "code",
   "execution_count": 94,
   "metadata": {},
   "outputs": [
    {
     "data": {
      "text/plain": [
       "682.085529819116"
      ]
     },
     "execution_count": 94,
     "metadata": {},
     "output_type": "execute_result"
    }
   ],
   "source": [
    "ans"
   ]
  }
 ],
 "metadata": {
  "kernelspec": {
   "display_name": "Python 3",
   "language": "python",
   "name": "python3"
  },
  "language_info": {
   "codemirror_mode": {
    "name": "ipython",
    "version": 3
   },
   "file_extension": ".py",
   "mimetype": "text/x-python",
   "name": "python",
   "nbconvert_exporter": "python",
   "pygments_lexer": "ipython3",
   "version": "3.6.5"
  }
 },
 "nbformat": 4,
 "nbformat_minor": 2
}
