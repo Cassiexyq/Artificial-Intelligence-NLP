{
 "cells": [
  {
   "cell_type": "markdown",
   "metadata": {},
   "source": [
    "## Assignment of Lecture 04"
   ]
  },
  {
   "cell_type": "markdown",
   "metadata": {},
   "source": [
    "In this week, we need complete following tasks:\n",
    "+ Re-review the course online programming; \n",
    "+ Choose 1 - 2 books which you interested and keep reading; \n",
    "+ Answer the review questions\n",
    "+ Prepare the basic requirement of our 1st project. "
   ]
  },
  {
   "cell_type": "markdown",
   "metadata": {},
   "source": [
    "### Part I Review the online programming. "
   ]
  },
  {
   "cell_type": "markdown",
   "metadata": {},
   "source": [
    "### Part1-2: Finish the Solution Parse Part of Edit-Distance"
   ]
  },
  {
   "cell_type": "markdown",
   "metadata": {},
   "source": [
    "### Part 2 Choose 1 - 2 books to keep reading: \n",
    "\n",
    "+ SICP, Structure and Interpretation of Computer Programming. \n",
    "+ Introduction to Algorithms \n",
    "+ Artificial Intelligence A Modern Approach (3rd Edition) \n",
    "+ Code Complete 2 \n",
    "+ Programming Pearls \n",
    "+ Deep Learning  ---> reading\n",
    "+ 黑客与画家 --->  看过\n",
    "+ 数学之美\n",
    "+ Fluent Python\n",
    "+ Hands on Tensorflow\n",
    "+ Conference: NIPS_ ICML_ ICLR_ ACL_ AAAI\n",
    "\n",
    "> most books you may find in our github: https://github.com/Computing-Intelligence/References"
   ]
  },
  {
   "cell_type": "markdown",
   "metadata": {},
   "source": [
    "### Part 3: Answer following questions: "
   ]
  },
  {
   "cell_type": "markdown",
   "metadata": {},
   "source": [
    "1. Why do we need dynamic programming? What's the difference of dynamic programming and previous talked `search` problme? "
   ]
  },
  {
   "cell_type": "markdown",
   "metadata": {},
   "source": [
    "Ans: 遇到有重复子问题组成的复杂问题，可以采用动态规划，本质为不断查表过程，节省时间，提高效率，搜索包括深度搜索，广度搜索，这个问题一般不是由一系列的子问题组成的。"
   ]
  },
  {
   "cell_type": "markdown",
   "metadata": {},
   "source": [
    "2. Why do we still need dynamic programming? Why not we train a machine learning to fit a function which could get the `right` answer based on inputs?"
   ]
  },
  {
   "cell_type": "markdown",
   "metadata": {},
   "source": [
    "Ans:能用动态规划解决的问题没有必要使用机器学习方法，动态规划利用子问题求解，得到的答案是高度正确的，机器学习方法用于很难获得right的回答，通过学习帮助得到一个近似正确的解"
   ]
  },
  {
   "cell_type": "markdown",
   "metadata": {},
   "source": [
    "3. Can you catch up at least 3 problems which could solved by Dynamic Programming? "
   ]
  },
  {
   "cell_type": "markdown",
   "metadata": {},
   "source": [
    "Ans:论文查重， 旅行商问题，字符串搜索，手写字符识别，etc"
   ]
  },
  {
   "cell_type": "markdown",
   "metadata": {},
   "source": [
    "4. Can you catch up at least 3 problems wich could sloved by Edit Distance? "
   ]
  },
  {
   "cell_type": "markdown",
   "metadata": {},
   "source": [
    "Ans: DNA检测，错别字修改，论文查重，搜狗拼音， 机器翻译与原文比对相似度，etc"
   ]
  },
  {
   "cell_type": "markdown",
   "metadata": {},
   "source": [
    "5. Please summarize the three main features of Dynamic Programming, and make a concise explain for each feature. "
   ]
  },
  {
   "cell_type": "markdown",
   "metadata": {},
   "source": [
    "+  不断递归的查找子问题与复杂问题之间的联系\n",
    "+  过程存储子问题的解决方案\n",
    "+  解决同样的子问题通过不断查表得出结果"
   ]
  },
  {
   "cell_type": "markdown",
   "metadata": {},
   "source": [
    "6. What's the disadvantages of Dynamic Programming? (You may need search by yourself in Internet)"
   ]
  },
  {
   "cell_type": "markdown",
   "metadata": {},
   "source": [
    "Ans:空间换时间，如果子问题很多，查表速率很慢，对于高维度的问题不能很好解决"
   ]
  },
  {
   "cell_type": "markdown",
   "metadata": {},
   "source": [
    "## Part 4 Preparation of Project-01  "
   ]
  },
  {
   "cell_type": "markdown",
   "metadata": {},
   "source": [
    "1. Using python Flask or Bottle to finish your first simple web app:\n",
    "> https://bottlepy.org/\n",
    "\n",
    "2. Learn what's the SQL, and try some simple SQL operations:\n",
    "> https://www.w3schools.com/sql/sql_intro.asp\n",
    "\n",
    "3. Learn what's the HTML ( *ONLY* need to know the basic things)\n",
    "> https://getbootstrap.com/; https://www.w3schools.com/html/"
   ]
  },
  {
   "cell_type": "markdown",
   "metadata": {},
   "source": [
    "### (Optinal) Finish the k-person-salesman problem:"
   ]
  },
  {
   "cell_type": "code",
   "execution_count": 1,
   "metadata": {},
   "outputs": [],
   "source": [
    "import random\n",
    "import matplotlib.pylab as plt"
   ]
  },
  {
   "cell_type": "code",
   "execution_count": 28,
   "metadata": {},
   "outputs": [],
   "source": [
    "latitudes = [random.randint(-100, 100) for _ in range(10)]\n",
    "longitude = [random.randint(-100, 100) for _ in range(10)]"
   ]
  },
  {
   "cell_type": "code",
   "execution_count": 29,
   "metadata": {},
   "outputs": [
    {
     "data": {
      "text/plain": [
       "<matplotlib.collections.PathCollection at 0x177e23cbf98>"
      ]
     },
     "execution_count": 29,
     "metadata": {},
     "output_type": "execute_result"
    },
    {
     "data": {
      "image/png": "[encoded data removed]",
      "text/plain": [
       "<Figure size 432x288 with 1 Axes>"
      ]
     },
     "metadata": {},
     "output_type": "display_data"
    }
   ],
   "source": [
    "plt.scatter(latitudes, longitude)"
   ]
  },
  {
   "cell_type": "markdown",
   "metadata": {},
   "source": [
    "给定一个初始点 $P$, 已经 $k$个车辆，如何从该点出发，经这 k 个车辆经过所以的点全部一次，而且所走过的路程最短? "
   ]
  },
  {
   "cell_type": "markdown",
   "metadata": {},
   "source": [
    "例如： "
   ]
  },
  {
   "cell_type": "code",
   "execution_count": 30,
   "metadata": {},
   "outputs": [],
   "source": [
    "chosen_p = (5, 10)"
   ]
  },
  {
   "cell_type": "code",
   "execution_count": 31,
   "metadata": {},
   "outputs": [
    {
     "data": {
      "text/plain": [
       "<matplotlib.collections.PathCollection at 0x177e23cb7b8>"
      ]
     },
     "execution_count": 31,
     "metadata": {},
     "output_type": "execute_result"
    },
    {
     "data": {
      "image/png": "[encoded data removed]",
      "text/plain": [
       "<Figure size 432x288 with 1 Axes>"
      ]
     },
     "metadata": {},
     "output_type": "display_data"
    }
   ],
   "source": [
    "plt.scatter(latitudes, longitude)\n",
    "plt.scatter([chosen_p[0]], [chosen_p[1]], color='r')"
   ]
  },
  {
   "cell_type": "code",
   "execution_count": 32,
   "metadata": {},
   "outputs": [],
   "source": [
    "all_point = {(i,j) for i,j in zip(latitudes,longitude)}"
   ]
  },
  {
   "cell_type": "code",
   "execution_count": 33,
   "metadata": {},
   "outputs": [
    {
     "data": {
      "text/plain": [
       "{0: (5, 10),\n",
       " 1: (74, 13),\n",
       " 2: (-45, 53),\n",
       " 3: (-57, 92),\n",
       " 4: (90, 37),\n",
       " 5: (17, 53),\n",
       " 6: (85, -93),\n",
       " 7: (98, -82),\n",
       " 8: (-2, 92),\n",
       " 9: (60, -8),\n",
       " 10: (-74, -33)}"
      ]
     },
     "execution_count": 33,
     "metadata": {},
     "output_type": "execute_result"
    }
   ],
   "source": [
    "coord_point = []\n",
    "points = {}\n",
    "points[0] = chosen_p\n",
    "for i in range(len(latitudes)):\n",
    "    points[i+1] = (latitudes[i], longitude[i])\n",
    "points"
   ]
  },
  {
   "cell_type": "markdown",
   "metadata": {},
   "source": [
    "### 问题分析\n",
    "\n",
    "     贪心：局部最优到全局最优\n",
    "         从初始点开始，从剩余点找距离最短的点，再从找到的点开始找距离最小的点，也就是不断找在当前剩余点中距离最小的点\n",
    "   \n",
    "     动态规划：对其他子问题求解\n",
    "   "
   ]
  },
  {
   "cell_type": "code",
   "execution_count": 7,
   "metadata": {},
   "outputs": [],
   "source": [
    "import math"
   ]
  },
  {
   "cell_type": "code",
   "execution_count": 8,
   "metadata": {},
   "outputs": [],
   "source": [
    "def get_distance(point1, point2):\n",
    "    return math.sqrt(pow(point1[0]-point2[0],2)+ pow(point1[1]-point2[1],2))"
   ]
  },
  {
   "cell_type": "code",
   "execution_count": 34,
   "metadata": {},
   "outputs": [],
   "source": [
    "distance_map = {}\n",
    "for bh, point in points.items():\n",
    "    point_temp = {}\n",
    "    for bg_in, point_in in points.items():\n",
    "        if bh == bg_in: continue\n",
    "        if bg_in in distance_map:\n",
    "            point_temp[(bg_in,bh)] = distance_map[bg_in][(bh, bg_in)]\n",
    "        else:\n",
    "            point_temp[(bg_in,bh)] = get_distance(point, point_in)\n",
    "    distance_map[bh] = point_temp   "
   ]
  },
  {
   "cell_type": "code",
   "execution_count": 35,
   "metadata": {},
   "outputs": [],
   "source": [
    "sorted_map = []\n",
    "for i,points_temp in distance_map.items():\n",
    "    sorted_map.append(sorted(points_temp.items(), key = lambda item:item[1]))"
   ]
  },
  {
   "cell_type": "code",
   "execution_count": 36,
   "metadata": {},
   "outputs": [
    {
     "data": {
      "text/plain": [
       "[((5, 0), 44.64302857109943),\n",
       " ((9, 0), 57.87054518492115),\n",
       " ((2, 0), 65.94694837519019),\n",
       " ((1, 0), 69.06518659932803),\n",
       " ((8, 0), 82.29823813423954),\n",
       " ((4, 0), 89.1852005660132),\n",
       " ((10, 0), 89.94442728707543),\n",
       " ((3, 0), 102.80077820717118),\n",
       " ((6, 0), 130.41855696180662),\n",
       " ((7, 0), 130.8166656049603)]"
      ]
     },
     "execution_count": 36,
     "metadata": {},
     "output_type": "execute_result"
    }
   ],
   "source": [
    "sorted_map[0]"
   ]
  },
  {
   "cell_type": "code",
   "execution_count": 37,
   "metadata": {},
   "outputs": [
    {
     "data": {
      "text/plain": [
       "5"
      ]
     },
     "execution_count": 37,
     "metadata": {},
     "output_type": "execute_result"
    }
   ],
   "source": [
    "sorted_map[0][0][0][0]"
   ]
  },
  {
   "cell_type": "code",
   "execution_count": 38,
   "metadata": {},
   "outputs": [
    {
     "name": "stdout",
     "output_type": "stream",
     "text": [
      "0->5:44.64302857109943\n",
      "5->8:43.382023926967726\n",
      "8->3:55.0\n",
      "3->2:40.80441152620633\n",
      "2->10:90.75791976461338\n",
      "10->9:136.31214179228496\n",
      "9->1:25.238858928247925\n",
      "1->4:28.844410203711913\n",
      "4->7:119.26860441876563\n",
      "7->6:17.029386365926403\n"
     ]
    }
   ],
   "source": [
    "path = [] # 记录的是点的编号\n",
    "ans = 0\n",
    "while True:\n",
    "    if len(path) == len(points): break\n",
    "    if len(path) == 0:  # 假设起始点为点0\n",
    "        path.append(0)\n",
    "    frontitor = path[-1]\n",
    "    for i in sorted_map[frontitor]:\n",
    "        if i[0][0] in path: continue\n",
    "        path.append(i[0][0])\n",
    "        print('{}->{}:{}'.format(frontitor,i[0][0],i[1]))\n",
    "        ans += i[1]\n",
    "        break"
   ]
  },
  {
   "cell_type": "code",
   "execution_count": 39,
   "metadata": {},
   "outputs": [
    {
     "data": {
      "text/plain": [
       "[0, 5, 8, 3, 2, 10, 9, 1, 4, 7, 6]"
      ]
     },
     "execution_count": 39,
     "metadata": {},
     "output_type": "execute_result"
    }
   ],
   "source": [
    "path"
   ]
  },
  {
   "cell_type": "code",
   "execution_count": 40,
   "metadata": {},
   "outputs": [
    {
     "data": {
      "text/plain": [
       "[(5, 10),\n",
       " (17, 53),\n",
       " (-2, 92),\n",
       " (-57, 92),\n",
       " (-45, 53),\n",
       " (-74, -33),\n",
       " (60, -8),\n",
       " (74, 13),\n",
       " (90, 37),\n",
       " (98, -82),\n",
       " (85, -93)]"
      ]
     },
     "execution_count": 40,
     "metadata": {},
     "output_type": "execute_result"
    }
   ],
   "source": [
    "[points[item] for item in path]"
   ]
  },
  {
   "cell_type": "code",
   "execution_count": 41,
   "metadata": {},
   "outputs": [
    {
     "data": {
      "text/plain": [
       "601.2807854978237"
      ]
     },
     "execution_count": 41,
     "metadata": {},
     "output_type": "execute_result"
    }
   ],
   "source": [
    "ans"
   ]
  },
  {
   "cell_type": "code",
   "execution_count": 42,
   "metadata": {},
   "outputs": [
    {
     "data": {
      "text/plain": [
       "{(-74, -33),\n",
       " (-57, 92),\n",
       " (-45, 53),\n",
       " (-2, 92),\n",
       " (17, 53),\n",
       " (60, -8),\n",
       " (74, 13),\n",
       " (85, -93),\n",
       " (90, 37),\n",
       " (98, -82)}"
      ]
     },
     "execution_count": 42,
     "metadata": {},
     "output_type": "execute_result"
    }
   ],
   "source": [
    "all_point"
   ]
  },
  {
   "cell_type": "code",
   "execution_count": 21,
   "metadata": {},
   "outputs": [],
   "source": [
    "from functools import lru_cache"
   ]
  },
  {
   "cell_type": "code",
   "execution_count": 10,
   "metadata": {},
   "outputs": [],
   "source": [
    "solution = {}"
   ]
  },
  {
   "cell_type": "code",
   "execution_count": 26,
   "metadata": {},
   "outputs": [],
   "source": [
    "seen ={}\n",
    "\n",
    "@lru_cache(maxsize = 2**10)\n",
    "def shortest_solution(p):\n",
    "    if p in seen: return 0\n",
    "#     if p in points_set and  len(points_set) == 0: return 0 # 如果只有一个点了而且又刚好是这个点\n",
    "    if len(seen) == 20: return 0 # 如果点都遍历过了退出\n",
    "    min_dis, point = min(\n",
    "        [(get_distance(p, k) + shortest_solution(k), k) for k in all_point if k not in seen] ,key=lambda x: x[0]\n",
    "    )\n",
    "     # 每个点加过来选择比较使距离最小的点\n",
    "        \n",
    "    sees.add(point)\n",
    "    solution[seen] = min_dis\n",
    "    \n",
    "    return min_dis\n",
    "    \n",
    "        "
   ]
  },
  {
   "cell_type": "code",
   "execution_count": null,
   "metadata": {},
   "outputs": [],
   "source": []
  }
 ],
 "metadata": {
  "kernelspec": {
   "display_name": "Python 3",
   "language": "python",
   "name": "python3"
  },
  "language_info": {
   "codemirror_mode": {
    "name": "ipython",
    "version": 3
   },
   "file_extension": ".py",
   "mimetype": "text/x-python",
   "name": "python",
   "nbconvert_exporter": "python",
   "pygments_lexer": "ipython3",
   "version": "3.6.5"
  }
 },
 "nbformat": 4,
 "nbformat_minor": 2
}
