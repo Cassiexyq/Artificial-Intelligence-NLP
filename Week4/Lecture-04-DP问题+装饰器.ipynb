{
 "cells": [
  {
   "cell_type": "markdown",
   "metadata": {},
   "source": [
    "### DP问题"
   ]
  },
  {
   "cell_type": "markdown",
   "metadata": {},
   "source": [
    "**1. 分析子问题是否重复**\n",
    "\n",
    "**2. 子问题存储**\n",
    "\n",
    "**3. solution方法**"
   ]
  },
  {
   "cell_type": "code",
   "execution_count": 125,
   "metadata": {},
   "outputs": [],
   "source": [
    "from collections import defaultdict\n",
    "\n",
    "origin_price= [1,5,8,9,10,17,17,20,24,30]\n",
    "price = defaultdict(int)\n",
    "for i,p in enumerate(origin_price):\n",
    "    price[i+1] = p\n",
    "assert price[1] == 1"
   ]
  },
  {
   "cell_type": "markdown",
   "metadata": {},
   "source": [
    "![](Picture1.png)"
   ]
  },
  {
   "cell_type": "code",
   "execution_count": 2,
   "metadata": {},
   "outputs": [],
   "source": [
    "def r(n):\n",
    "    return max(\n",
    "        [price[n]] + [r(i) + r(n-i) for i in range(1,n)] # 这是个list，左右两边做比较取最大\n",
    "    )"
   ]
  },
  {
   "cell_type": "code",
   "execution_count": 22,
   "metadata": {},
   "outputs": [
    {
     "data": {
      "text/plain": [
       "48"
      ]
     },
     "execution_count": 22,
     "metadata": {},
     "output_type": "execute_result"
    }
   ],
   "source": [
    "r(12)"
   ]
  },
  {
   "cell_type": "code",
   "execution_count": 126,
   "metadata": {},
   "outputs": [],
   "source": [
    "solution = {}"
   ]
  },
  {
   "cell_type": "code",
   "execution_count": 127,
   "metadata": {},
   "outputs": [],
   "source": [
    "@memo\n",
    "def r(n):\n",
    "    max_price, split_point = max(\n",
    "        [(price[n],0)] + [(r(i) + r(n-i), i) for i in range(1,n)], key= lambda x:x[0] # max函数，里面有两个参数的比较，需要key指定如何比较\n",
    "    )\n",
    "    solution[n] = (split_point, n-split_point)\n",
    "    return max_price"
   ]
  },
  {
   "cell_type": "code",
   "execution_count": 128,
   "metadata": {},
   "outputs": [
    {
     "data": {
      "text/plain": [
       "35"
      ]
     },
     "execution_count": 128,
     "metadata": {},
     "output_type": "execute_result"
    }
   ],
   "source": [
    "r(12)"
   ]
  },
  {
   "cell_type": "code",
   "execution_count": 129,
   "metadata": {},
   "outputs": [
    {
     "data": {
      "text/plain": [
       "{1: (0, 1),\n",
       " 2: (0, 2),\n",
       " 3: (0, 3),\n",
       " 4: (2, 2),\n",
       " 5: (2, 3),\n",
       " 6: (0, 6),\n",
       " 7: (1, 6),\n",
       " 8: (2, 6),\n",
       " 9: (3, 6),\n",
       " 10: (0, 10),\n",
       " 11: (1, 10),\n",
       " 12: (2, 10)}"
      ]
     },
     "execution_count": 129,
     "metadata": {},
     "output_type": "execute_result"
    }
   ],
   "source": [
    "solution"
   ]
  },
  {
   "cell_type": "code",
   "execution_count": 17,
   "metadata": {},
   "outputs": [],
   "source": [
    "from functools import wraps"
   ]
  },
  {
   "cell_type": "code",
   "execution_count": 130,
   "metadata": {},
   "outputs": [],
   "source": [
    "def memo(func):\n",
    "    cache = {}\n",
    "    @wraps(func)\n",
    "    def _wrap(n):\n",
    "        if n in cache: result = cache[n]\n",
    "        else:\n",
    "            result = func(n)\n",
    "            cache[n] = result\n",
    "        return result\n",
    "    return _wrap"
   ]
  },
  {
   "cell_type": "code",
   "execution_count": 131,
   "metadata": {},
   "outputs": [
    {
     "data": {
      "text/plain": [
       "691"
      ]
     },
     "execution_count": 131,
     "metadata": {},
     "output_type": "execute_result"
    }
   ],
   "source": [
    "r(231)"
   ]
  },
  {
   "cell_type": "code",
   "execution_count": 139,
   "metadata": {},
   "outputs": [],
   "source": [
    "from functools import lru_cache\n",
    "@lru_cache(maxsize=2**10)\n",
    "def r_new(n):\n",
    "    max_price, split_point = max(\n",
    "        [(price[n],0)] + [(r(i) + r(n-i), i) for i in range(1,n)], key= lambda x:x[0] # max函数，里面有两个参数的比较，需要key指定如何比较\n",
    "    )\n",
    "    solution[n] = (split_point, n-split_point)\n",
    "    return max_price"
   ]
  },
  {
   "cell_type": "code",
   "execution_count": 140,
   "metadata": {},
   "outputs": [
    {
     "data": {
      "text/plain": [
       "2995"
      ]
     },
     "execution_count": 140,
     "metadata": {},
     "output_type": "execute_result"
    }
   ],
   "source": [
    "r_new(999)"
   ]
  },
  {
   "cell_type": "code",
   "execution_count": 136,
   "metadata": {},
   "outputs": [],
   "source": [
    "def not_cut(split): return split == 0\n",
    "def parse_solution(target_length, revenue_solution):\n",
    "    left, right = revenue_solution[target_length]\n",
    "    if not_cut(left): return [right]\n",
    "    return parse_solution(left, revenue_solution) + parse_solution(right, revenue_solution)"
   ]
  },
  {
   "cell_type": "code",
   "execution_count": 137,
   "metadata": {},
   "outputs": [
    {
     "data": {
      "text/plain": [
       "[1, 6, 10, 10, 10, 10, 10, 10, 10, 10]"
      ]
     },
     "execution_count": 137,
     "metadata": {},
     "output_type": "execute_result"
    }
   ],
   "source": [
    "parse_solution(87, solution)"
   ]
  },
  {
   "cell_type": "markdown",
   "metadata": {},
   "source": [
    "### 装饰器"
   ]
  },
  {
   "cell_type": "code",
   "execution_count": 28,
   "metadata": {},
   "outputs": [],
   "source": [
    "import time"
   ]
  },
  {
   "cell_type": "code",
   "execution_count": 76,
   "metadata": {},
   "outputs": [],
   "source": [
    "def func_1(n):\n",
    "    for i in range(n):\n",
    "        print(n)"
   ]
  },
  {
   "cell_type": "code",
   "execution_count": 30,
   "metadata": {},
   "outputs": [],
   "source": [
    "def func_slow(n):\n",
    "    for i in range(n):\n",
    "        time.sleep(0.2)\n",
    "        print(n)"
   ]
  },
  {
   "cell_type": "markdown",
   "metadata": {},
   "source": [
    "方法一"
   ]
  },
  {
   "cell_type": "code",
   "execution_count": 26,
   "metadata": {},
   "outputs": [],
   "source": [
    "def call_time(func_1, arg): # 脚手架程序 ,把函数和函数的参数都传了进去（面向函数：作为参数，能够赋值，能够return）\n",
    "    start = time.time()\n",
    "    func_1(arg)\n",
    "    print('used time: {}'.format(time.time() - start))"
   ]
  },
  {
   "cell_type": "code",
   "execution_count": 29,
   "metadata": {},
   "outputs": [
    {
     "name": "stdout",
     "output_type": "stream",
     "text": [
      "10\n",
      "10\n",
      "10\n",
      "10\n",
      "10\n",
      "10\n",
      "10\n",
      "10\n",
      "10\n",
      "10\n",
      "used time: 0.0010030269622802734\n"
     ]
    }
   ],
   "source": [
    "call_time(func_1, 10)"
   ]
  },
  {
   "cell_type": "markdown",
   "metadata": {},
   "source": [
    "方法二"
   ]
  },
  {
   "cell_type": "code",
   "execution_count": 77,
   "metadata": {},
   "outputs": [],
   "source": [
    "def get_call_time(func):\n",
    "    def _wrap(arg):\n",
    "        start = time.time()\n",
    "        result = func(arg)\n",
    "        print(\"used time:{}\".format(time.time()-start))\n",
    "        return result\n",
    "    return _wrap"
   ]
  },
  {
   "cell_type": "code",
   "execution_count": 78,
   "metadata": {},
   "outputs": [],
   "source": [
    "func_1_could_get_time = get_call_time(func_1)"
   ]
  },
  {
   "cell_type": "code",
   "execution_count": 79,
   "metadata": {},
   "outputs": [
    {
     "name": "stdout",
     "output_type": "stream",
     "text": [
      "10\n",
      "10\n",
      "10\n",
      "10\n",
      "10\n",
      "10\n",
      "10\n",
      "10\n",
      "10\n",
      "10\n",
      "used time:0.0009975433349609375\n"
     ]
    }
   ],
   "source": [
    "func_1_could_get_time(10)"
   ]
  },
  {
   "cell_type": "markdown",
   "metadata": {},
   "source": [
    "方法三"
   ]
  },
  {
   "cell_type": "code",
   "execution_count": 71,
   "metadata": {},
   "outputs": [],
   "source": [
    "# 加@不加@的区别就是下面最后一句话，加了@是将func_1作为参数传入get_call_time函数，这个方法的作用和上面的func_1_could_get_time一样\n",
    "@get_call_time\n",
    "def func_1(n):\n",
    "    for i in range(n):\n",
    "        print(n)"
   ]
  },
  {
   "cell_type": "code",
   "execution_count": 73,
   "metadata": {},
   "outputs": [
    {
     "name": "stdout",
     "output_type": "stream",
     "text": [
      "10\n",
      "10\n",
      "10\n",
      "10\n",
      "10\n",
      "10\n",
      "10\n",
      "10\n",
      "10\n",
      "10\n",
      "used time:0.0009987354278564453\n"
     ]
    }
   ],
   "source": [
    "func_1(10)"
   ]
  },
  {
   "cell_type": "markdown",
   "metadata": {},
   "source": [
    "方法四"
   ]
  },
  {
   "cell_type": "code",
   "execution_count": 121,
   "metadata": {},
   "outputs": [],
   "source": [
    "function_called_time = {}\n",
    "def get_call_time2(func):\n",
    "#     加这个会让下面的help描写的是内部函数的注释，不加会变成内部get_call_time的注释\n",
    "#     @wraps(func) \n",
    "    def _inner(arg): ## *args, **kwargs\n",
    "        \"\"\"It's inner function\"\"\"\n",
    "        global function_called_time\n",
    "        fun_name = func.__name__\n",
    "        function_called_time[fun_name] += 1\n",
    "        result = func(arg)\n",
    "        print(\"函数调用次数：{}\".format(function_called_time[func.__name__]))\n",
    "        return result\n",
    "    return _inner"
   ]
  },
  {
   "cell_type": "code",
   "execution_count": 123,
   "metadata": {},
   "outputs": [],
   "source": [
    "@get_call_time2\n",
    "def func_1_new(n):\n",
    "    \"\"\"\n",
    "    @param n: is the number of customers\n",
    "    @return int: the customers value point\n",
    "    \"\"\"\n",
    "    for i in range(n):\n",
    "        print(n)\n",
    "    return 0"
   ]
  },
  {
   "cell_type": "code",
   "execution_count": 119,
   "metadata": {},
   "outputs": [
    {
     "name": "stdout",
     "output_type": "stream",
     "text": [
      "Help on function _inner in module __main__:\n",
      "\n",
      "_inner(arg)\n",
      "    It's inner function\n",
      "\n"
     ]
    }
   ],
   "source": [
    "help(func_1_new)"
   ]
  }
 ],
 "metadata": {
  "kernelspec": {
   "display_name": "Python 3",
   "language": "python",
   "name": "python3"
  },
  "language_info": {
   "codemirror_mode": {
    "name": "ipython",
    "version": 3
   },
   "file_extension": ".py",
   "mimetype": "text/x-python",
   "name": "python",
   "nbconvert_exporter": "python",
   "pygments_lexer": "ipython3",
   "version": "3.6.5"
  }
 },
 "nbformat": 4,
 "nbformat_minor": 2
}
