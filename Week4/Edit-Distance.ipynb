{
 "cells": [
  {
   "cell_type": "markdown",
   "metadata": {},
   "source": [
    "### 编辑距离：从一个字符串变到另一个字符串的操作，插入，替换，删除"
   ]
  },
  {
   "cell_type": "markdown",
   "metadata": {},
   "source": [
    "+ DNA检测\n",
    "+ 判重、查重（两篇文章之间的重复度）\n",
    "+ 搜狗拼音（对于打入的拼音可以给出推测可能的结果）\n",
    "+ 机器翻译与原文对比相似度"
   ]
  },
  {
   "cell_type": "code",
   "execution_count": 1,
   "metadata": {},
   "outputs": [],
   "source": [
    "from functools import lru_cache"
   ]
  },
  {
   "cell_type": "markdown",
   "metadata": {},
   "source": [
    "#### 相当于每次都会有三个分叉（增加，删除，替换），把所有可能都找出来，得到步数最小的那个，所以solution会有所有的步骤\n",
    "\n",
    "string 和 string1 最简单的步骤是前者加个1，这个操作我们就当作把第二个字符串去掉最后一个\n",
    "\n",
    "**add**: 字符串1 添加一个 字符串2 的tail  字符串2222222用左移\n",
    "<div> **del**：字符串1 删掉一个 字符，   字符串11111用左移 </div>\n",
    "<div>**sub**：字符串替换操作，如果相同直接两个都左移， 如果不相同先替换后两个左移, 这也等同于先删除字符串1的tail又增加一个跟字符串2tail一样的到字符串1 ，直观一点， 把sub的+2变成+1"
   ]
  },
  {
   "cell_type": "code",
   "execution_count": 11,
   "metadata": {},
   "outputs": [],
   "source": [
    "@lru_cache(maxsize = 2**10)\n",
    "def edit_simple(string1, string2):\n",
    "    if len(string1) == 0: return len(string2)\n",
    "    if len(string2) == 0: return len(string1)\n",
    "    \n",
    "    tail_s1 = string1[-1]\n",
    "    tail_s2 = string2[-1]\n",
    "    return min([\n",
    "        edit_distance(string1[:-1], string2)+1,\n",
    "        edit_distance(string1,string2[:-1])+1, # add操作，删第二个字符串的字符\n",
    "        edit_distance(string1[:-1], string2[:-1]) + (0 if tail_s1 == tail_s2 else 2),\n",
    "    ])"
   ]
  },
  {
   "cell_type": "code",
   "execution_count": 12,
   "metadata": {},
   "outputs": [
    {
     "data": {
      "text/plain": [
       "2"
      ]
     },
     "execution_count": 12,
     "metadata": {},
     "output_type": "execute_result"
    }
   ],
   "source": [
    "edit_simple('1010','11100')"
   ]
  },
  {
   "cell_type": "code",
   "execution_count": 13,
   "metadata": {},
   "outputs": [],
   "source": [
    "solution = {}\n",
    "@lru_cache(maxsize=2**10)\n",
    "def edit_distance(string1, string2):\n",
    "    \n",
    "    if len(string1) == 0: return len(string2)\n",
    "    if len(string2) == 0: return len(string1)\n",
    "    \n",
    "    tail_s1 = string1[-1]\n",
    "    tail_s2 = string2[-1]\n",
    "    \n",
    "    candidates = [\n",
    "        (edit_distance(string1[:-1], string2) + 1, 'DEL {}'.format(tail_s1)),  # string 1 delete tail\n",
    "        (edit_distance(string1, string2[:-1]) + 1, 'ADD {}'.format(tail_s2)),  # string 1 add tail of string2\n",
    "    ]\n",
    "    \n",
    "    if tail_s1 == tail_s2:\n",
    "        both_forward = (edit_distance(string1[:-1], string2[:-1]) + 0, '')\n",
    "    else:\n",
    "        both_forward = (edit_distance(string1[:-1], string2[:-1]) + 1, 'SUB {} => {}'.format(tail_s1, tail_s2))\n",
    "\n",
    "    candidates.append(both_forward)\n",
    "    \n",
    "    min_distance, operation = min(candidates, key=lambda x: x[0])\n",
    "    \n",
    "    solution[(string1, string2)] = operation \n",
    "    \n",
    "    return min_distance"
   ]
  },
  {
   "cell_type": "code",
   "execution_count": 3,
   "metadata": {},
   "outputs": [
    {
     "data": {
      "text/plain": [
       "1"
      ]
     },
     "execution_count": 3,
     "metadata": {},
     "output_type": "execute_result"
    }
   ],
   "source": [
    "edit_distance('今天我瘦了','今天我胖了')"
   ]
  },
  {
   "cell_type": "code",
   "execution_count": 4,
   "metadata": {},
   "outputs": [
    {
     "data": {
      "text/plain": [
       "3"
      ]
     },
     "execution_count": 4,
     "metadata": {},
     "output_type": "execute_result"
    }
   ],
   "source": [
    "edit_distance('AACDE','ABC')"
   ]
  },
  {
   "cell_type": "code",
   "execution_count": 6,
   "metadata": {},
   "outputs": [],
   "source": [
    "solution = {}"
   ]
  },
  {
   "cell_type": "code",
   "execution_count": 7,
   "metadata": {},
   "outputs": [
    {
     "data": {
      "text/plain": [
       "2"
      ]
     },
     "execution_count": 7,
     "metadata": {},
     "output_type": "execute_result"
    }
   ],
   "source": [
    "edit_distance('1010','11100')"
   ]
  },
  {
   "cell_type": "code",
   "execution_count": 8,
   "metadata": {},
   "outputs": [
    {
     "data": {
      "text/plain": [
       "{('1', '1'): '',\n",
       " ('1', '11'): 'ADD 1',\n",
       " ('1', '111'): 'ADD 1',\n",
       " ('1', '1110'): 'ADD 0',\n",
       " ('1', '11100'): 'ADD 0',\n",
       " ('10', '1'): 'DEL 0',\n",
       " ('10', '11'): 'SUB 0 => 1',\n",
       " ('10', '111'): 'ADD 1',\n",
       " ('10', '1110'): '',\n",
       " ('10', '11100'): 'ADD 0',\n",
       " ('101', '1'): 'DEL 1',\n",
       " ('101', '11'): '',\n",
       " ('101', '111'): '',\n",
       " ('101', '1110'): 'ADD 0',\n",
       " ('101', '11100'): 'ADD 0',\n",
       " ('1010', '1'): 'DEL 0',\n",
       " ('1010', '11'): 'DEL 0',\n",
       " ('1010', '111'): 'DEL 0',\n",
       " ('1010', '1110'): '',\n",
       " ('1010', '11100'): 'ADD 0'}"
      ]
     },
     "execution_count": 8,
     "metadata": {},
     "output_type": "execute_result"
    }
   ],
   "source": [
    "solution"
   ]
  },
  {
   "cell_type": "markdown",
   "metadata": {},
   "source": [
    "## Edit-distance-solution(两个DNA的相似度，变化越大越不接近)\n",
    "    采用 分治的思想，将复杂问题分解成相似的子问题，然后求解各个子问题\n",
    "    假设字符串A[m]，转换到字符串B[n]\n",
    "    从A的最后一位开始，通过一系列操作转变成B\n",
    "    \n",
    "   > 该问题具有如下的递归规律：\n",
    "    > 1. A[m] == B[n]，从A最后一位转变成B的最后一位，没有操作，\n",
    "    > 2. A[m]!=B[n]， 有以下几种情况：\n",
    "   * 删除最后一位，string1 和 string， 前者减1\n",
    "   * 增加最后一位，string 和 string1，前者加1\n",
    "   * 替换最后一位，string 和 strin1 , 把g换成1\n",
    "    >> 递归边界：当观察的字符串长度length == 0， 递归跳出\n",
    "   \n",
    "   "
   ]
  },
  {
   "cell_type": "code",
   "execution_count": 9,
   "metadata": {},
   "outputs": [],
   "source": [
    "op = []\n",
    "def parse_solution(left, right): # 得到每一步的步骤\n",
    "    if len(left) == 0: return len(right)\n",
    "    if len(right) == 0: return len(left)\n",
    "\n",
    "    temp = solution[(left, right)]\n",
    "    if temp == '': return parse_solution(left[:-1], right[:-1])\n",
    "    if 'DEL' in temp: \n",
    "        op.append(temp)\n",
    "        return parse_solution(left[:-1],right)\n",
    "    \n",
    "    if 'ADD' in temp:\n",
    "        op.append(temp)\n",
    "        return parse_solution(left, right[:-1])\n",
    "    if 'SUB' in temp:\n",
    "        op.append(temp)\n",
    "        return parse_solution(left[:-1], right[:-1])\n",
    "    return "
   ]
  },
  {
   "cell_type": "code",
   "execution_count": 10,
   "metadata": {},
   "outputs": [
    {
     "data": {
      "text/plain": [
       "['ADD 0', 'SUB 0 => 1']"
      ]
     },
     "execution_count": 10,
     "metadata": {},
     "output_type": "execute_result"
    }
   ],
   "source": [
    "parse_solution('1010','11100')\n",
    "op "
   ]
  },
  {
   "cell_type": "code",
   "execution_count": null,
   "metadata": {},
   "outputs": [],
   "source": []
  }
 ],
 "metadata": {
  "kernelspec": {
   "display_name": "Python 3",
   "language": "python",
   "name": "python3"
  },
  "language_info": {
   "codemirror_mode": {
    "name": "ipython",
    "version": 3
   },
   "file_extension": ".py",
   "mimetype": "text/x-python",
   "name": "python",
   "nbconvert_exporter": "python",
   "pygments_lexer": "ipython3",
   "version": "3.6.5"
  }
 },
 "nbformat": 4,
 "nbformat_minor": 2
}
