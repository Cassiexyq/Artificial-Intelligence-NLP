{
 "cells": [
  {
   "cell_type": "markdown",
   "metadata": {},
   "source": [
    "### 编辑距离：从一个字符串变到另一个字符串的操作，插入，替换，删除"
   ]
  },
  {
   "cell_type": "markdown",
   "metadata": {},
   "source": [
    "+ DNA检测\n",
    "+ 判重\n",
    "+ 搜狗拼音\n",
    "+ 机器翻译与原文对比相似度"
   ]
  },
  {
   "cell_type": "code",
   "execution_count": 4,
   "metadata": {},
   "outputs": [],
   "source": [
    "from functools import lru_cache"
   ]
  },
  {
   "cell_type": "code",
   "execution_count": 24,
   "metadata": {},
   "outputs": [],
   "source": [
    "solution = {}\n",
    "@lru_cache(maxsize=2**10)\n",
    "def edit_distance(string1, string2):\n",
    "    \n",
    "    if len(string1) == 0: return len(string2)\n",
    "    if len(string2) == 0: return len(string1)\n",
    "    \n",
    "    tail_s1 = string1[-1]\n",
    "    tail_s2 = string2[-1]\n",
    "    \n",
    "    candidates = [\n",
    "        (edit_distance(string1[:-1], string2) + 1, 'DEL {}'.format(tail_s1)),  # string 1 delete tail\n",
    "        (edit_distance(string1, string2[:-1]) + 1, 'ADD {}'.format(tail_s2)),  # string 1 add tail of string2\n",
    "    ]\n",
    "    \n",
    "    if tail_s1 == tail_s2:\n",
    "        both_forward = (edit_distance(string1[:-1], string2[:-1]) + 0, '')\n",
    "    else:\n",
    "        both_forward = (edit_distance(string1[:-1], string2[:-1]) + 1, 'SUB {} => {}'.format(tail_s1, tail_s2))\n",
    "\n",
    "    candidates.append(both_forward)\n",
    "    \n",
    "    min_distance, operation = min(candidates, key=lambda x: x[0])\n",
    "    \n",
    "    solution[(string1, string2)] = operation \n",
    "    \n",
    "    return min_distance"
   ]
  },
  {
   "cell_type": "code",
   "execution_count": 2,
   "metadata": {},
   "outputs": [
    {
     "data": {
      "text/plain": [
       "1"
      ]
     },
     "execution_count": 2,
     "metadata": {},
     "output_type": "execute_result"
    }
   ],
   "source": [
    "edit_distance('今天我瘦了','今天我胖了')"
   ]
  },
  {
   "cell_type": "code",
   "execution_count": 25,
   "metadata": {},
   "outputs": [
    {
     "data": {
      "text/plain": [
       "3"
      ]
     },
     "execution_count": 25,
     "metadata": {},
     "output_type": "execute_result"
    }
   ],
   "source": [
    "edit_distance('AACDE','ABC')"
   ]
  },
  {
   "cell_type": "code",
   "execution_count": 26,
   "metadata": {},
   "outputs": [
    {
     "data": {
      "text/plain": [
       "{('A', 'A'): '',\n",
       " ('A', 'AB'): 'ADD B',\n",
       " ('A', 'ABC'): 'ADD C',\n",
       " ('AA', 'A'): 'DEL A',\n",
       " ('AA', 'AB'): 'SUB A => B',\n",
       " ('AA', 'ABC'): 'ADD C',\n",
       " ('AAC', 'A'): 'DEL C',\n",
       " ('AAC', 'AB'): 'DEL C',\n",
       " ('AAC', 'ABC'): '',\n",
       " ('AACD', 'A'): 'DEL D',\n",
       " ('AACD', 'AB'): 'DEL D',\n",
       " ('AACD', 'ABC'): 'DEL D',\n",
       " ('AACDE', 'A'): 'DEL E',\n",
       " ('AACDE', 'AB'): 'DEL E',\n",
       " ('AACDE', 'ABC'): 'DEL E'}"
      ]
     },
     "execution_count": 26,
     "metadata": {},
     "output_type": "execute_result"
    }
   ],
   "source": [
    "solution"
   ]
  },
  {
   "cell_type": "code",
   "execution_count": 53,
   "metadata": {},
   "outputs": [],
   "source": [
    "op = []\n",
    "def parse_solution(left, right): # 得到每一步的步骤\n",
    "    if len(left) == 0: return len(right)\n",
    "    if len(right) == 0: return len(left)\n",
    "\n",
    "    temp = solution[(left, right)]\n",
    "    if temp == '': return parse_solution(left[:-1], right[:-1])\n",
    "    if 'DEL' in temp: \n",
    "        op.append(temp)\n",
    "        return parse_solution(left[:-1],right)\n",
    "    \n",
    "    if 'ADD' in temp:\n",
    "        op.append(temp)\n",
    "        return parse_solution(left, right[:-1])\n",
    "    if 'SUB' in temp:\n",
    "        op.append(temp)\n",
    "        return parse_solution(left[:-1], right[:-1])\n",
    "    return "
   ]
  },
  {
   "cell_type": "code",
   "execution_count": 54,
   "metadata": {},
   "outputs": [
    {
     "data": {
      "text/plain": [
       "['DEL E', 'DEL D', 'SUB A => B']"
      ]
     },
     "execution_count": 54,
     "metadata": {},
     "output_type": "execute_result"
    }
   ],
   "source": [
    "parse_solution('AACDE','ABC')\n",
    "op "
   ]
  }
 ],
 "metadata": {
  "kernelspec": {
   "display_name": "Python 3",
   "language": "python",
   "name": "python3"
  },
  "language_info": {
   "codemirror_mode": {
    "name": "ipython",
    "version": 3
   },
   "file_extension": ".py",
   "mimetype": "text/x-python",
   "name": "python",
   "nbconvert_exporter": "python",
   "pygments_lexer": "ipython3",
   "version": "3.6.5"
  }
 },
 "nbformat": 4,
 "nbformat_minor": 2
}
