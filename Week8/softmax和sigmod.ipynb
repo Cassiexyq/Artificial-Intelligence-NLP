{
 "cells": [
  {
   "cell_type": "markdown",
   "metadata": {},
   "source": [
    "已知sigmod和softmax的公式分别如下：\n",
    "\n",
    "$$sigmod: g(s) = \\frac{1}{1+ e^{-s}}$$\n",
    "\n",
    "$$softmax: g(x_j) = \\frac{e^x_j}{\\sum_{k=1}^{k}e^{x^k}}$$"
   ]
  },
  {
   "cell_type": "markdown",
   "metadata": {},
   "source": [
    "逻辑回归中我们运用的交叉熵损失函数，可以有以下两种，都在单张样本上：\n",
    " \n",
    " $$L_1= -[ylog(\\hat{y})+ (1-y)log(1- \\hat{y})] $$\n",
    " \n",
    " $$L_2 = -y_i log(\\hat{y_i}) $$\n",
    " \n",
    " $$L= -\\frac{1}{m}\\sum_{i-1}^{m}[ylog(\\hat{y})+ (1-y)log(1- \\hat{y})] $$"
   ]
  },
  {
   "cell_type": "markdown",
   "metadata": {},
   "source": [
    "#### 问题："
   ]
  },
  {
   "cell_type": "markdown",
   "metadata": {},
   "source": [
    "    1.L1 是在sigmod下用的loss,L2是在softmax下用的loss吗？ 是不是还有别的表现形式？这些形式描述都可以用?  查资料的时候两个都有\n",
    "    \n",
    "    我了解的是：L1 是取对数取反再结合最大似然得到，L2是根据交叉熵的由来的结果（相对熵等于交叉熵减去数据真实分布的熵，后者是确定的，所以最小化相对熵就等价于最小化交叉熵，L2就是这里的交叉熵的最直接形式）"
   ]
  },
  {
   "cell_type": "markdown",
   "metadata": {},
   "source": [
    "    2.多样本的话就是把每个样本相加就行了，是不用做平均的？ 有多个batch就需要把每个batch下每个样本相加然后除以batch数做平均？那标准的交叉熵损失函数L 里面的这个m是指batch？"
   ]
  },
  {
   "cell_type": "markdown",
   "metadata": {},
   "source": [
    "    3.用于多分类，一般多用softmax，但这是不是说sigmod还是可以用于多分类，但一般用softmax居多？我有看到用sigmod来举例多分类问题就很疑惑"
   ]
  },
  {
   "cell_type": "markdown",
   "metadata": {},
   "source": [
    "    4.线性回归的Loss是MSE，这个MSE不能用于逻辑回归？,虽然线性回归是连续值，逻辑回归是分类问题，但这些loss曲线的目的应该都是为了解决衡量真实值和预测值之间的差距问题，为什么我们还要分这么多种loss曲线，又是什么情况下用什么Loss呢？像SVM用的是hinge loss"
   ]
  },
  {
   "cell_type": "markdown",
   "metadata": {},
   "source": [
    "    5.神经网络上有用到一个softmax分类器，这就是逻辑回归的多分类问题吧，一般情况下，我们所说的logistic回归大多指的是二分类"
   ]
  },
  {
   "cell_type": "markdown",
   "metadata": {},
   "source": [
    "    还有一个就是我在做第10课的决策树课上代码，感觉老师写的方法是不是有问题，我用信息增益来计算gain获得 family_number和income的gain都为最大，因为信息增益最大选为分割点，但老师的答案是gender"
   ]
  }
 ],
 "metadata": {
  "kernelspec": {
   "display_name": "Python 3",
   "language": "python",
   "name": "python3"
  },
  "language_info": {
   "codemirror_mode": {
    "name": "ipython",
    "version": 3
   },
   "file_extension": ".py",
   "mimetype": "text/x-python",
   "name": "python",
   "nbconvert_exporter": "python",
   "pygments_lexer": "ipython3",
   "version": "3.6.5"
  }
 },
 "nbformat": 4,
 "nbformat_minor": 2
}
