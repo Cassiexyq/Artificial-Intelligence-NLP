{
 "cells": [
  {
   "cell_type": "code",
   "execution_count": 1,
   "metadata": {},
   "outputs": [],
   "source": [
    "filepath = \"F:/Jupyter/NLP/Artificial-Intelligence-NLP/Project1/sqlResult_1558435.csv\""
   ]
  },
  {
   "cell_type": "code",
   "execution_count": 2,
   "metadata": {},
   "outputs": [],
   "source": [
    "import pandas as pd"
   ]
  },
  {
   "cell_type": "code",
   "execution_count": 120,
   "metadata": {},
   "outputs": [],
   "source": [
    "content = pd.read_csv(filepath)"
   ]
  },
  {
   "cell_type": "code",
   "execution_count": 121,
   "metadata": {},
   "outputs": [
    {
     "data": {
      "text/html": [
       "<div>\n",
       "<style scoped>\n",
       "    .dataframe tbody tr th:only-of-type {\n",
       "        vertical-align: middle;\n",
       "    }\n",
       "\n",
       "    .dataframe tbody tr th {\n",
       "        vertical-align: top;\n",
       "    }\n",
       "\n",
       "    .dataframe thead th {\n",
       "        text-align: right;\n",
       "    }\n",
       "</style>\n",
       "<table border=\"1\" class=\"dataframe\">\n",
       "  <thead>\n",
       "    <tr style=\"text-align: right;\">\n",
       "      <th></th>\n",
       "      <th>id</th>\n",
       "      <th>author</th>\n",
       "      <th>source</th>\n",
       "      <th>content</th>\n",
       "      <th>feature</th>\n",
       "      <th>title</th>\n",
       "      <th>url</th>\n",
       "    </tr>\n",
       "  </thead>\n",
       "  <tbody>\n",
       "    <tr>\n",
       "      <th>0</th>\n",
       "      <td>89617</td>\n",
       "      <td>NaN</td>\n",
       "      <td>快科技@http://www.kkj.cn/</td>\n",
       "      <td>此外，自本周（6月12日）起，除小米手机6等15款机型外，其余机型已暂停更新发布（含开发版/...</td>\n",
       "      <td>{\"type\":\"科技\",\"site\":\"cnbeta\",\"commentNum\":\"37\"...</td>\n",
       "      <td>小米MIUI 9首批机型曝光：共计15款</td>\n",
       "      <td>http://www.cnbeta.com/articles/tech/623597.htm</td>\n",
       "    </tr>\n",
       "    <tr>\n",
       "      <th>1</th>\n",
       "      <td>89616</td>\n",
       "      <td>NaN</td>\n",
       "      <td>快科技@http://www.kkj.cn/</td>\n",
       "      <td>骁龙835作为唯一通过Windows 10桌面平台认证的ARM处理器，高通强调，不会因为只考...</td>\n",
       "      <td>{\"type\":\"科技\",\"site\":\"cnbeta\",\"commentNum\":\"15\"...</td>\n",
       "      <td>骁龙835在Windows 10上的性能表现有望改善</td>\n",
       "      <td>http://www.cnbeta.com/articles/tech/623599.htm</td>\n",
       "    </tr>\n",
       "    <tr>\n",
       "      <th>2</th>\n",
       "      <td>89615</td>\n",
       "      <td>NaN</td>\n",
       "      <td>快科技@http://www.kkj.cn/</td>\n",
       "      <td>此前的一加3T搭载的是3400mAh电池，DashCharge快充规格为5V/4A。\\n至于...</td>\n",
       "      <td>{\"type\":\"科技\",\"site\":\"cnbeta\",\"commentNum\":\"18\"...</td>\n",
       "      <td>一加手机5细节曝光：3300mAh、充半小时用1天</td>\n",
       "      <td>http://www.cnbeta.com/articles/tech/623601.htm</td>\n",
       "    </tr>\n",
       "    <tr>\n",
       "      <th>3</th>\n",
       "      <td>89614</td>\n",
       "      <td>NaN</td>\n",
       "      <td>新华社</td>\n",
       "      <td>这是6月18日在葡萄牙中部大佩德罗冈地区拍摄的被森林大火烧毁的汽车。新华社记者张立云摄\\n</td>\n",
       "      <td>{\"type\":\"国际新闻\",\"site\":\"环球\",\"commentNum\":\"0\",\"j...</td>\n",
       "      <td>葡森林火灾造成至少62人死亡 政府宣布进入紧急状态（组图）</td>\n",
       "      <td>http://world.huanqiu.com/hot/2017-06/10866126....</td>\n",
       "    </tr>\n",
       "    <tr>\n",
       "      <th>4</th>\n",
       "      <td>89613</td>\n",
       "      <td>胡淑丽_MN7479</td>\n",
       "      <td>深圳大件事</td>\n",
       "      <td>（原标题：44岁女子跑深圳约会网友被拒，暴雨中裸身奔走……）\\n@深圳交警微博称：昨日清晨交...</td>\n",
       "      <td>{\"type\":\"新闻\",\"site\":\"网易热门\",\"commentNum\":\"978\",...</td>\n",
       "      <td>44岁女子约网友被拒暴雨中裸奔 交警为其披衣相随</td>\n",
       "      <td>http://news.163.com/17/0618/00/CN617P3Q0001875...</td>\n",
       "    </tr>\n",
       "  </tbody>\n",
       "</table>\n",
       "</div>"
      ],
      "text/plain": [
       "      id      author                  source  \\\n",
       "0  89617         NaN  快科技@http://www.kkj.cn/   \n",
       "1  89616         NaN  快科技@http://www.kkj.cn/   \n",
       "2  89615         NaN  快科技@http://www.kkj.cn/   \n",
       "3  89614         NaN                     新华社   \n",
       "4  89613  胡淑丽_MN7479                   深圳大件事   \n",
       "\n",
       "                                             content  \\\n",
       "0  此外，自本周（6月12日）起，除小米手机6等15款机型外，其余机型已暂停更新发布（含开发版/...   \n",
       "1  骁龙835作为唯一通过Windows 10桌面平台认证的ARM处理器，高通强调，不会因为只考...   \n",
       "2  此前的一加3T搭载的是3400mAh电池，DashCharge快充规格为5V/4A。\\n至于...   \n",
       "3      这是6月18日在葡萄牙中部大佩德罗冈地区拍摄的被森林大火烧毁的汽车。新华社记者张立云摄\\n   \n",
       "4  （原标题：44岁女子跑深圳约会网友被拒，暴雨中裸身奔走……）\\n@深圳交警微博称：昨日清晨交...   \n",
       "\n",
       "                                             feature  \\\n",
       "0  {\"type\":\"科技\",\"site\":\"cnbeta\",\"commentNum\":\"37\"...   \n",
       "1  {\"type\":\"科技\",\"site\":\"cnbeta\",\"commentNum\":\"15\"...   \n",
       "2  {\"type\":\"科技\",\"site\":\"cnbeta\",\"commentNum\":\"18\"...   \n",
       "3  {\"type\":\"国际新闻\",\"site\":\"环球\",\"commentNum\":\"0\",\"j...   \n",
       "4  {\"type\":\"新闻\",\"site\":\"网易热门\",\"commentNum\":\"978\",...   \n",
       "\n",
       "                           title  \\\n",
       "0           小米MIUI 9首批机型曝光：共计15款   \n",
       "1     骁龙835在Windows 10上的性能表现有望改善   \n",
       "2      一加手机5细节曝光：3300mAh、充半小时用1天   \n",
       "3  葡森林火灾造成至少62人死亡 政府宣布进入紧急状态（组图）   \n",
       "4       44岁女子约网友被拒暴雨中裸奔 交警为其披衣相随   \n",
       "\n",
       "                                                 url  \n",
       "0     http://www.cnbeta.com/articles/tech/623597.htm  \n",
       "1     http://www.cnbeta.com/articles/tech/623599.htm  \n",
       "2     http://www.cnbeta.com/articles/tech/623601.htm  \n",
       "3  http://world.huanqiu.com/hot/2017-06/10866126....  \n",
       "4  http://news.163.com/17/0618/00/CN617P3Q0001875...  "
      ]
     },
     "execution_count": 121,
     "metadata": {},
     "output_type": "execute_result"
    }
   ],
   "source": [
    "content.head()"
   ]
  },
  {
   "cell_type": "code",
   "execution_count": 122,
   "metadata": {},
   "outputs": [],
   "source": [
    "from_xinhua = content[content['source'] ==\"新华社\"]"
   ]
  },
  {
   "cell_type": "code",
   "execution_count": 123,
   "metadata": {},
   "outputs": [
    {
     "data": {
      "text/html": [
       "<div>\n",
       "<style scoped>\n",
       "    .dataframe tbody tr th:only-of-type {\n",
       "        vertical-align: middle;\n",
       "    }\n",
       "\n",
       "    .dataframe tbody tr th {\n",
       "        vertical-align: top;\n",
       "    }\n",
       "\n",
       "    .dataframe thead th {\n",
       "        text-align: right;\n",
       "    }\n",
       "</style>\n",
       "<table border=\"1\" class=\"dataframe\">\n",
       "  <thead>\n",
       "    <tr style=\"text-align: right;\">\n",
       "      <th></th>\n",
       "      <th>id</th>\n",
       "      <th>author</th>\n",
       "      <th>source</th>\n",
       "      <th>content</th>\n",
       "      <th>feature</th>\n",
       "      <th>title</th>\n",
       "      <th>url</th>\n",
       "    </tr>\n",
       "  </thead>\n",
       "  <tbody>\n",
       "    <tr>\n",
       "      <th>89606</th>\n",
       "      <td>5</td>\n",
       "      <td>邹峥</td>\n",
       "      <td>新华社</td>\n",
       "      <td>新华社照片，多伦多，2017年6月7日\\n（体育）（2）冰球——国家女子冰球队海外选秀在多伦...</td>\n",
       "      <td>{\"type\":\"冰球\",\"site\":\"新华社\",\"url\":\"http://home.x...</td>\n",
       "      <td>（体育）（2）冰球——国家女子冰球队海外选秀在多伦多展开</td>\n",
       "      <td>http://home.xinhua-news.com/gdsdetailxhsnew/22...</td>\n",
       "    </tr>\n",
       "    <tr>\n",
       "      <th>89607</th>\n",
       "      <td>4</td>\n",
       "      <td>王衡</td>\n",
       "      <td>新华社</td>\n",
       "      <td>新华社兰州6月3日电（王衡、徐丹）记者从甘肃省交通运输厅获悉，甘肃近日集中开建高速公路、普通...</td>\n",
       "      <td>{\"type\":\"宏观经济\",\"site\":\"新华社\",\"url\":\"http://home...</td>\n",
       "      <td>（经济）甘肃集中开工35个重点交通建设项目</td>\n",
       "      <td>http://home.xinhua-news.com/gdsdetailxhsnew/22...</td>\n",
       "    </tr>\n",
       "    <tr>\n",
       "      <th>89608</th>\n",
       "      <td>3</td>\n",
       "      <td>张旌</td>\n",
       "      <td>新华社</td>\n",
       "      <td>\\n\\n2017年5月29日，在法国巴黎郊外的凡尔赛宫，法国总统马克龙出席新闻发布会。（新华...</td>\n",
       "      <td>{\"type\":\"其它\",\"site\":\"新华社\",\"url\":\"http://home.x...</td>\n",
       "      <td>法国议会选举　马克龙有望获“压倒性胜利”</td>\n",
       "      <td>http://home.xinhua-news.com/gdsdetailxhsnew/22...</td>\n",
       "    </tr>\n",
       "    <tr>\n",
       "      <th>89609</th>\n",
       "      <td>2</td>\n",
       "      <td>夏文辉</td>\n",
       "      <td>新华社</td>\n",
       "      <td>\\n\\n2017年5月25日，在美国马萨诸塞州剑桥市，哈佛大学毕业生在毕业典礼上欢呼。（新华...</td>\n",
       "      <td>{\"type\":\"其它\",\"site\":\"新华社\",\"url\":\"http://home.x...</td>\n",
       "      <td>哈佛大学为何取消这些新生入选资格？</td>\n",
       "      <td>http://home.xinhua-news.com/gdsdetailxhsnew/22...</td>\n",
       "    </tr>\n",
       "    <tr>\n",
       "      <th>89610</th>\n",
       "      <td>1</td>\n",
       "      <td>王子江 张寒</td>\n",
       "      <td>新华社</td>\n",
       "      <td>新华社德国杜塞尔多夫６月６日电题：乒乓女球迷　\\n　　新华社记者王子江、张寒\\n　　熊老...</td>\n",
       "      <td>{\"type\":\"体育\",\"site\":\"新华社\",\"url\":\"http://home.x...</td>\n",
       "      <td>（体育）题：乒乓女球迷</td>\n",
       "      <td>http://home.xinhua-news.com/gdsdetailxhsnew/22...</td>\n",
       "    </tr>\n",
       "  </tbody>\n",
       "</table>\n",
       "</div>"
      ],
      "text/plain": [
       "       id  author source                                            content  \\\n",
       "89606   5      邹峥    新华社  新华社照片，多伦多，2017年6月7日\\n（体育）（2）冰球——国家女子冰球队海外选秀在多伦...   \n",
       "89607   4      王衡    新华社  新华社兰州6月3日电（王衡、徐丹）记者从甘肃省交通运输厅获悉，甘肃近日集中开建高速公路、普通...   \n",
       "89608   3      张旌    新华社  \\n\\n2017年5月29日，在法国巴黎郊外的凡尔赛宫，法国总统马克龙出席新闻发布会。（新华...   \n",
       "89609   2     夏文辉    新华社  \\n\\n2017年5月25日，在美国马萨诸塞州剑桥市，哈佛大学毕业生在毕业典礼上欢呼。（新华...   \n",
       "89610   1  王子江 张寒    新华社  　　新华社德国杜塞尔多夫６月６日电题：乒乓女球迷　\\n　　新华社记者王子江、张寒\\n　　熊老...   \n",
       "\n",
       "                                                 feature  \\\n",
       "89606  {\"type\":\"冰球\",\"site\":\"新华社\",\"url\":\"http://home.x...   \n",
       "89607  {\"type\":\"宏观经济\",\"site\":\"新华社\",\"url\":\"http://home...   \n",
       "89608  {\"type\":\"其它\",\"site\":\"新华社\",\"url\":\"http://home.x...   \n",
       "89609  {\"type\":\"其它\",\"site\":\"新华社\",\"url\":\"http://home.x...   \n",
       "89610  {\"type\":\"体育\",\"site\":\"新华社\",\"url\":\"http://home.x...   \n",
       "\n",
       "                              title  \\\n",
       "89606  （体育）（2）冰球——国家女子冰球队海外选秀在多伦多展开   \n",
       "89607         （经济）甘肃集中开工35个重点交通建设项目   \n",
       "89608          法国议会选举　马克龙有望获“压倒性胜利”   \n",
       "89609             哈佛大学为何取消这些新生入选资格？   \n",
       "89610                  （体育）题：乒乓女球迷　   \n",
       "\n",
       "                                                     url  \n",
       "89606  http://home.xinhua-news.com/gdsdetailxhsnew/22...  \n",
       "89607  http://home.xinhua-news.com/gdsdetailxhsnew/22...  \n",
       "89608  http://home.xinhua-news.com/gdsdetailxhsnew/22...  \n",
       "89609  http://home.xinhua-news.com/gdsdetailxhsnew/22...  \n",
       "89610  http://home.xinhua-news.com/gdsdetailxhsnew/22...  "
      ]
     },
     "execution_count": 123,
     "metadata": {},
     "output_type": "execute_result"
    }
   ],
   "source": [
    "from_xinhua.tail()"
   ]
  },
  {
   "cell_type": "code",
   "execution_count": 7,
   "metadata": {},
   "outputs": [],
   "source": [
    "data_xinhua = from_xinhua['content']"
   ]
  },
  {
   "cell_type": "code",
   "execution_count": 124,
   "metadata": {},
   "outputs": [],
   "source": [
    "not_from_xinhua = content[content['source']!='新华社']"
   ]
  },
  {
   "cell_type": "code",
   "execution_count": 125,
   "metadata": {},
   "outputs": [],
   "source": [
    "neg = not_from_xinhua['content']"
   ]
  },
  {
   "cell_type": "code",
   "execution_count": 127,
   "metadata": {},
   "outputs": [
    {
     "data": {
      "text/plain": [
       "78661"
      ]
     },
     "execution_count": 127,
     "metadata": {},
     "output_type": "execute_result"
    }
   ],
   "source": [
    "len(data_xinhua)"
   ]
  },
  {
   "cell_type": "code",
   "execution_count": 9,
   "metadata": {},
   "outputs": [
    {
     "data": {
      "text/plain": [
       "0.8778051801676133"
      ]
     },
     "execution_count": 9,
     "metadata": {},
     "output_type": "execute_result"
    }
   ],
   "source": [
    "len(data_xinhua)/ len(content)"
   ]
  },
  {
   "cell_type": "code",
   "execution_count": 126,
   "metadata": {},
   "outputs": [
    {
     "data": {
      "text/plain": [
       "10950"
      ]
     },
     "execution_count": 126,
     "metadata": {},
     "output_type": "execute_result"
    }
   ],
   "source": [
    "len(neg)"
   ]
  },
  {
   "cell_type": "markdown",
   "metadata": {},
   "source": [
    "### 逻辑回归"
   ]
  },
  {
   "cell_type": "markdown",
   "metadata": {},
   "source": [
    "#### 1. 处理数据集，记录标签，存储词向量\n",
    "https://radimrehurek.com/gensim/models/doc2vec.html"
   ]
  },
  {
   "cell_type": "code",
   "execution_count": 4,
   "metadata": {},
   "outputs": [],
   "source": [
    "import jieba\n",
    "import re\n",
    "import pandas as pd\n",
    "import os\n",
    "from gensim.models.doc2vec import Doc2Vec,TaggedDocument"
   ]
  },
  {
   "cell_type": "code",
   "execution_count": 5,
   "metadata": {},
   "outputs": [],
   "source": [
    "def cut(str): return ' '.join(jieba.cut(str))"
   ]
  },
  {
   "cell_type": "code",
   "execution_count": 6,
   "metadata": {},
   "outputs": [],
   "source": [
    "def token(str):\n",
    "    str = str.replace(\"新华社\",\"\")\n",
    "    str = str.replace(\"\\\\n\",\"\")\n",
    "    return ''.join(re.findall(r'[\\d|\\w]+',str))"
   ]
  },
  {
   "cell_type": "code",
   "execution_count": 13,
   "metadata": {},
   "outputs": [],
   "source": [
    "class dataLoading():\n",
    "    news_content=None # 最后的原数据集，除掉nan\n",
    "    news_source = None # 所有数据的标签\n",
    "    news_label = None # 读入的数据集的标签\n",
    "    model = None\n",
    "    dataset =None\n",
    "    \n",
    "    def __init__(self,input_vector_size):\n",
    "        self.loadingdata()\n",
    "        self.loadingModel(input_vector_size)\n",
    "    \n",
    "    def loadingdata(self):\n",
    "        print(\"加载源csv\")\n",
    "        filepath = \"F:/Jupyter/NLP/Artificial-Intelligence-NLP/Project1/sqlResult_1558435.csv\"\n",
    "        content = pd.read_csv(filepath)\n",
    "        self.news_source = content['source'].tolist()\n",
    "        if not os.path.exists('news.txt'):\n",
    "            news_content = content['content'].tolist()\n",
    "            news_content = [token(str(i)) for i in news_content]\n",
    "            self.news_content = [cut(i) for i in news_content]\n",
    "            print(\"写入文件\")\n",
    "            with open('news.txt','w',encoding='gb18030') as f:\n",
    "                for line in self.news_content:\n",
    "                    f.write(line + '\\n')\n",
    "        self.loadContent()\n",
    "        \n",
    "    def loadingModel(self, input_vector_size):\n",
    "        self.dataset = []\n",
    "        if not os.path.exists('doc2vec-'+str(input_vector_size)+'.model'):\n",
    "            self.saveModel(input_vector_size)\n",
    "        else: self.model = Doc2Vec.load('doc2vec-'+str(input_vector_size)+'.model')\n",
    "        size = len(self.news_label)\n",
    "        for i in range(size):\n",
    "            self.dataset.append(self.model.docvecs.vectors_docs[i])\n",
    "        \n",
    "    def loadContent(self):\n",
    "        print(\"获得非空的数据集和标签\")\n",
    "        self.news_content = []\n",
    "        self.news_label = []\n",
    "        with open('news.txt',encoding='gb18030') as f:\n",
    "            i = 0\n",
    "            for line in f.readlines():\n",
    "                if line.strip() == 'nan' :\n",
    "                        i+=1\n",
    "                        continue\n",
    "                else:  \n",
    "                    self.news_content.append(line[:-1])\n",
    "                    if self.news_source[i] == '新华社':\n",
    "                        self.news_label.append(1)\n",
    "                    else: self.news_label.append(0)\n",
    "                    i +=1\n",
    "    def saveModel(self, vector_size):\n",
    "        doc = [TaggedDocument(doc,[i]) for i ,doc in enumerate(self.news_content)]\n",
    "        self.model = Doc2Vec(doc, vector_size=vector_size,window = 4, min_count = 5, workers = 8)\n",
    "        print(\"保存模型\")\n",
    "        self.model.save('doc2vec-'+str(vector_size)+'.model')     "
   ]
  },
  {
   "cell_type": "code",
   "execution_count": 152,
   "metadata": {},
   "outputs": [],
   "source": [
    "def testModel():\n",
    "    print(model.docvecs.most_similar(0)) #与标签0最为相似的\n",
    "    print(model.docvecs.similarity(0,1)) #进行相关性比较\n",
    "    print(model.docvecs[10]) #标签10文章的向量\n",
    "    print(\"\\n\")\n",
    "    print(model.infer_vector(jieba.cut(token(\"法国巴黎郊外的凡尔赛宫\")))) #判断一个句向量"
   ]
  },
  {
   "cell_type": "code",
   "execution_count": 15,
   "metadata": {},
   "outputs": [],
   "source": [
    "model = data.model"
   ]
  },
  {
   "cell_type": "code",
   "execution_count": 19,
   "metadata": {},
   "outputs": [],
   "source": [
    "dataset = data.dataset\n",
    "news_label = data.news_label"
   ]
  },
  {
   "cell_type": "code",
   "execution_count": 179,
   "metadata": {},
   "outputs": [
    {
     "data": {
      "text/plain": [
       "87054"
      ]
     },
     "execution_count": 179,
     "metadata": {},
     "output_type": "execute_result"
    }
   ],
   "source": [
    "len(dataset)"
   ]
  },
  {
   "cell_type": "markdown",
   "metadata": {},
   "source": [
    "### 2.预处理，归一化"
   ]
  },
  {
   "cell_type": "code",
   "execution_count": 20,
   "metadata": {},
   "outputs": [
    {
     "name": "stderr",
     "output_type": "stream",
     "text": [
      "D:\\Program Files\\Anaconda3\\lib\\site-packages\\sklearn\\cross_validation.py:41: DeprecationWarning: This module was deprecated in version 0.18 in favor of the model_selection module into which all the refactored classes and functions are moved. Also note that the interface of the new CV iterators are different from that of this module. This module will be removed in 0.20.\n",
      "  \"This module will be removed in 0.20.\", DeprecationWarning)\n"
     ]
    }
   ],
   "source": [
    "from sklearn.cross_validation import train_test_split\n",
    "import random"
   ]
  },
  {
   "cell_type": "code",
   "execution_count": null,
   "metadata": {},
   "outputs": [],
   "source": [
    "size = len(news_label)\n",
    "for i in range(2000):\n",
    "    num = random.randint(size)\n",
    "    if news_label[num] == 1:\n",
    "        del news_label[num]\n",
    "        del dataset[num]\n",
    "        size -=1"
   ]
  },
  {
   "cell_type": "code",
   "execution_count": 22,
   "metadata": {},
   "outputs": [],
   "source": [
    "X_train, X_test, y_train,y_test = train_test_split(dataset, news_label, test_size=0.4,random_state =10)"
   ]
  },
  {
   "cell_type": "code",
   "execution_count": 229,
   "metadata": {},
   "outputs": [
    {
     "data": {
      "text/plain": [
       "34822"
      ]
     },
     "execution_count": 229,
     "metadata": {},
     "output_type": "execute_result"
    }
   ],
   "source": [
    "len(X_test)"
   ]
  },
  {
   "cell_type": "code",
   "execution_count": 25,
   "metadata": {},
   "outputs": [
    {
     "data": {
      "text/plain": [
       "52232"
      ]
     },
     "execution_count": 25,
     "metadata": {},
     "output_type": "execute_result"
    }
   ],
   "source": [
    "len(X_train)"
   ]
  },
  {
   "cell_type": "markdown",
   "metadata": {},
   "source": [
    "### 先以原比例训练\n",
    "  标准化特征值"
   ]
  },
  {
   "cell_type": "code",
   "execution_count": 26,
   "metadata": {},
   "outputs": [],
   "source": [
    "from sklearn.preprocessing import StandardScaler\n",
    "from sklearn import linear_model"
   ]
  },
  {
   "cell_type": "code",
   "execution_count": 27,
   "metadata": {},
   "outputs": [],
   "source": [
    "sc = StandardScaler()\n",
    "sc.fit(X_train)\n",
    "X_train_std = sc.transform(X_train)\n",
    "X_test_std = sc.transform(X_test)"
   ]
  },
  {
   "cell_type": "markdown",
   "metadata": {},
   "source": [
    "### 评估"
   ]
  },
  {
   "cell_type": "code",
   "execution_count": 188,
   "metadata": {},
   "outputs": [],
   "source": [
    "from sklearn.metrics import precision_recall_curve,average_precision_score,confusion_matrix\n",
    "from sklearn.metrics import classification_report\n",
    "%matplotlib inline\n",
    "import matplotlib.pyplot as plt\n",
    "import numpy as np"
   ]
  },
  {
   "cell_type": "code",
   "execution_count": 371,
   "metadata": {},
   "outputs": [],
   "source": [
    "# 对所有非新华社，新华社统一预测正确率\n",
    "def test_all(clf ,lx = 1):\n",
    "    neg = []\n",
    "    pos = []\n",
    "    for i in not_xinhua_id:\n",
    "        neg.append(model.docvecs.vectors_docs[i])\n",
    "    for i in xinhua_id:\n",
    "        pos.append(model.docvecs.vectors_docs[i])\n",
    "    neg_y = [0] * len(not_xinhua_id)\n",
    "    pos_y = [1] * len(xinhua_id)\n",
    "    if lx == 0:\n",
    "        neg_std = mm.transform(neg)\n",
    "        pos_std = mm.transform(pos)\n",
    "    else:\n",
    "        neg_std = sc.transform(neg)\n",
    "        pos_std = sc.transform(pos)\n",
    "    acc_neg = clf.score(neg_std,neg_y)\n",
    "    acc_pos = clf.score(pos_std,pos_y)\n",
    "    print(\"所有非新华社的正确率：{}， 所有新华社的正确率：{}\".format(acc_neg, acc_pos))"
   ]
  },
  {
   "cell_type": "code",
   "execution_count": 142,
   "metadata": {},
   "outputs": [],
   "source": [
    "def predict_test(clf,docid):\n",
    "    prob = clf.predict(sc.transform([model.docvecs.vectors_docs[docid]])[:1,:])\n",
    "    if prob.tolist()[0] == 1:\n",
    "        prob = \"新华社\"\n",
    "    else: prob = \"不是新华社\"\n",
    "    print(\"文本：{}\".format(content[docid]))\n",
    "    print(\"该文本的分类预测为：{}\".format(prob))\n",
    "    true =  \"新华社\" if news_label[docid] == 1 else  \"不是新华社\"\n",
    "    print(\"该真实分类为：{}\".format(true))"
   ]
  },
  {
   "cell_type": "markdown",
   "metadata": {},
   "source": [
    "#### 分类报告"
   ]
  },
  {
   "cell_type": "code",
   "execution_count": 258,
   "metadata": {},
   "outputs": [],
   "source": [
    "def getReport(y_true, y_pred):\n",
    "    print (classification_report(y_true, y_pred))"
   ]
  },
  {
   "cell_type": "markdown",
   "metadata": {},
   "source": [
    "#### ROC曲线"
   ]
  },
  {
   "cell_type": "code",
   "execution_count": 345,
   "metadata": {},
   "outputs": [],
   "source": [
    "def getROC(X_test,y_test, clf):\n",
    "    y_score = clf.decision_function(X_test)\n",
    "    fpr,tpr,threshold = roc_curve(y_test,y_score)\n",
    "    roc_auc = auc(fpr,tpr)# 这个线下面积和下面两句是一样的算法\n",
    "#     from sklearn.metrics import roc_auc_score\n",
    "#     print(roc_auc_score(y_test, y_score))\n",
    "    plt.figure(figsize =(8,8))\n",
    "    plt.plot(fpr,tpr, color='darkorange',lw=2,label='ROC Curve(area= %0.2f)' % (roc_auc))\n",
    "    plt.plot([0,1],[0,1],color='navy',lw=2,linestyle='--',label='chance')\n",
    "    plt.xlim([0.0,1.05])\n",
    "    plt.ylim([0.0,1.05])\n",
    "    plt.xlabel('FPR')\n",
    "    plt.ylabel('TPR')\n",
    "    plt.legend(loc=\"lower right\")  # 加上这句话不然不显示右下角\n",
    "    plt.show()"
   ]
  },
  {
   "cell_type": "markdown",
   "metadata": {},
   "source": [
    "   #### 混淆矩阵"
   ]
  },
  {
   "cell_type": "code",
   "execution_count": 195,
   "metadata": {},
   "outputs": [],
   "source": [
    "\n",
    "def cmpic(y_true, y_pred):\n",
    "    def plot_confusion_matrix(cm, title='Confusion Matrix', cmap = plt.cm.binary):\n",
    "        plt.imshow(cm, interpolation='nearest', cmap=plt.cm.Blues)\n",
    "        plt.title(title)\n",
    "        plt.colorbar()\n",
    "        xlocations = np.array(range(len(labels)))\n",
    "        plt.xticks(xlocations, labels, rotation=90)\n",
    "        plt.yticks(xlocations, labels)\n",
    "        plt.ylabel('True label')\n",
    "        plt.xlabel('Predicted label')\n",
    "    cm = confusion_matrix(y_true, y_pred)\n",
    "    labels = np.arange(len(cm))\n",
    "    tick_marks = np.array(range(len(labels))) + 0.5\n",
    "    np.set_printoptions(precision=2)\n",
    "    cm_normalized = cm.astype('float')/cm.sum(axis=1)[:, np.newaxis]\n",
    "    plt.figure(figsize=(6,4), dpi=120)\n",
    "    #set the fontsize of label.\n",
    "    #for label in plt.gca().xaxis.get_ticklabels():\n",
    "    #    label.set_fontsize(8)\n",
    "    #text portion\n",
    "    ind_array = np.arange(len(labels))\n",
    "    x, y = np.meshgrid(ind_array, ind_array)\n",
    "\n",
    "    for x_val, y_val in zip(x.flatten(), y.flatten()):\n",
    "        # c = cm_normalized[y_val][x_val]\n",
    "        c = cm[y_val][x_val]\n",
    "        if (c > 0):\n",
    "            plt.text(x_val, y_val, c, color='red', fontsize=7, va='center', ha='center')\n",
    "            # plt.text(x_val, y_val, \"%0.2f\" %(c,), color='red', fontsize=7, va='center', ha='center')\n",
    "    #offset the tick\n",
    "    plt.gca().set_xticks(tick_marks, minor=True)\n",
    "    plt.gca().set_yticks(tick_marks, minor=True)\n",
    "    plt.gca().xaxis.set_ticks_position('none')\n",
    "    plt.gca().yaxis.set_ticks_position('none')\n",
    "    plt.grid(True, which='minor', linestyle='-')\n",
    "    plt.gcf().subplots_adjust(bottom=0.15)\n",
    "\n",
    "    plot_confusion_matrix(cm_normalized, title='Normalized confusion matrix')\n",
    "    #show confusion matrix\n",
    "    plt.show()"
   ]
  },
  {
   "cell_type": "code",
   "execution_count": 219,
   "metadata": {},
   "outputs": [],
   "source": [
    "def checkNum(y):\n",
    "    num1 = 0\n",
    "    num2 = 0\n",
    "    for i in y:\n",
    "        if i==1:num1+=1 \n",
    "        else: num2 +=1\n",
    "    print(\"pos:{},neg:{}\".format(num1,num2))\n",
    "            "
   ]
  },
  {
   "cell_type": "markdown",
   "metadata": {},
   "source": []
  },
  {
   "cell_type": "markdown",
   "metadata": {},
   "source": [
    "### 训练"
   ]
  },
  {
   "cell_type": "code",
   "execution_count": 393,
   "metadata": {},
   "outputs": [],
   "source": [
    "def getResult(clf,X_train, X_test, lx=1):\n",
    "    train_prob = clf.predict(X_train)\n",
    "    test_prob = clf.predict(X_test)\n",
    "    train_acc = clf.score(X_train,y_train)\n",
    "    test_acc = clf.score(X_test, y_test)\n",
    "    clf.score(X_train,y_train)\n",
    "    print(\"训练集的准确率:{}，测试集的准确率：{}\".format(train_acc,test_acc))\n",
    "    print(\"评估部分：\")\n",
    "    test_all(clf,lx)\n",
    "    print(\"训练集的混淆矩阵：\")\n",
    "    getReport(y_train,train_prob)\n",
    "    print(\"测试集的混淆矩阵：\")\n",
    "    getReport(y_test,test_prob)\n",
    "    "
   ]
  },
  {
   "cell_type": "code",
   "execution_count": 14,
   "metadata": {},
   "outputs": [
    {
     "name": "stdout",
     "output_type": "stream",
     "text": [
      "加载源csv\n",
      "获得非空的数据集和标签\n",
      "保存模型\n"
     ]
    }
   ],
   "source": [
    "data = dataLoading(100)"
   ]
  },
  {
   "cell_type": "code",
   "execution_count": 70,
   "metadata": {},
   "outputs": [],
   "source": [
    "content = data.news_content\n",
    "labels = data.news_label"
   ]
  },
  {
   "cell_type": "code",
   "execution_count": 225,
   "metadata": {},
   "outputs": [],
   "source": [
    "not_xinhua_id =[i for i in range(len(news_label)) if labels[i] ==0]\n",
    "xinhua_id = [i for i in range(len(news_label)) if labels[i] == 1 ]"
   ]
  },
  {
   "cell_type": "code",
   "execution_count": 259,
   "metadata": {},
   "outputs": [
    {
     "name": "stdout",
     "output_type": "stream",
     "text": [
      "8393\n",
      "78661\n"
     ]
    }
   ],
   "source": [
    "print(len(not_xinhua_id))\n",
    "print(len(xinhua_id))"
   ]
  },
  {
   "cell_type": "markdown",
   "metadata": {},
   "source": [
    "### 逻辑回归"
   ]
  },
  {
   "cell_type": "code",
   "execution_count": 384,
   "metadata": {},
   "outputs": [
    {
     "data": {
      "text/plain": [
       "LogisticRegression(C=1.0, class_weight='balanced', dual=False,\n",
       "          fit_intercept=True, intercept_scaling=1, max_iter=100,\n",
       "          multi_class='ovr', n_jobs=1, penalty='l2', random_state=0,\n",
       "          solver='liblinear', tol=0.0001, verbose=0, warm_start=False)"
      ]
     },
     "execution_count": 384,
     "metadata": {},
     "output_type": "execute_result"
    }
   ],
   "source": [
    "training = linear_model.LogisticRegression(class_weight='balanced', random_state=0)\n",
    "training.fit(X_train_std,y_train)  # 这里放的应该是标准化的train数据，放的没有标准化的数据的话是78%多"
   ]
  },
  {
   "cell_type": "code",
   "execution_count": 387,
   "metadata": {},
   "outputs": [
    {
     "name": "stdout",
     "output_type": "stream",
     "text": [
      "训练集的准确率:0.9310384438658293，测试集的准确率：0.9293837229337775\n",
      "评估部分：\n",
      "所有非新华社的正确率：0.9179077802931014， 所有新华社的正确率：0.9317069449918003\n",
      "训练集的混淆矩阵：\n",
      "             precision    recall  f1-score   support\n",
      "\n",
      "          0       0.59      0.92      0.72      5037\n",
      "          1       0.99      0.93      0.96     47195\n",
      "\n",
      "avg / total       0.95      0.93      0.94     52232\n",
      "\n",
      "测试集的混淆矩阵：\n",
      "             precision    recall  f1-score   support\n",
      "\n",
      "          0       0.59      0.91      0.71      3356\n",
      "          1       0.99      0.93      0.96     31466\n",
      "\n",
      "avg / total       0.95      0.93      0.94     34822\n",
      "\n"
     ]
    }
   ],
   "source": [
    "getResult(training,X_train_std, X_test_std)"
   ]
  },
  {
   "cell_type": "code",
   "execution_count": 385,
   "metadata": {},
   "outputs": [
    {
     "data": {
      "text/plain": [
       "0.9303765478898155"
      ]
     },
     "execution_count": 385,
     "metadata": {},
     "output_type": "execute_result"
    }
   ],
   "source": [
    "training.score(sc.transform(dataset),labels)"
   ]
  },
  {
   "cell_type": "markdown",
   "metadata": {},
   "source": [
    "### 交叉 验证"
   ]
  },
  {
   "cell_type": "code",
   "execution_count": 267,
   "metadata": {},
   "outputs": [],
   "source": [
    "from sklearn.cross_validation import cross_val_score"
   ]
  },
  {
   "cell_type": "code",
   "execution_count": 274,
   "metadata": {},
   "outputs": [
    {
     "data": {
      "text/plain": [
       "87054"
      ]
     },
     "execution_count": 274,
     "metadata": {},
     "output_type": "execute_result"
    }
   ],
   "source": [
    "len(content)"
   ]
  },
  {
   "cell_type": "code",
   "execution_count": 276,
   "metadata": {},
   "outputs": [],
   "source": [
    "scc = StandardScaler()\n",
    "all_std = scc.fit_transform(dataset)"
   ]
  },
  {
   "cell_type": "code",
   "execution_count": 302,
   "metadata": {},
   "outputs": [],
   "source": [
    "Cs = [1, 10,100,1000]\n",
    "clf = linear_model.LogisticRegressionCV(cv = 5, random_state=0,Cs=Cs,class_weight='balanced',max_iter=1000,n_jobs=4).fit(all_std,labels)"
   ]
  },
  {
   "cell_type": "code",
   "execution_count": 303,
   "metadata": {},
   "outputs": [
    {
     "data": {
      "text/plain": [
       "0.9300778826935006"
      ]
     },
     "execution_count": 303,
     "metadata": {},
     "output_type": "execute_result"
    }
   ],
   "source": [
    "clf.score(all_std,labels)"
   ]
  },
  {
   "cell_type": "code",
   "execution_count": 389,
   "metadata": {},
   "outputs": [
    {
     "name": "stdout",
     "output_type": "stream",
     "text": [
      "所有非新华社的正确率：0.9180269272012391， 所有新华社的正确率：0.931859498353695\n"
     ]
    }
   ],
   "source": [
    "test_all(clf)"
   ]
  },
  {
   "cell_type": "code",
   "execution_count": 311,
   "metadata": {},
   "outputs": [],
   "source": [
    "from sklearn.model_selection import GridSearchCV\n",
    "from sklearn.svm import SVR\n",
    "import time"
   ]
  },
  {
   "cell_type": "code",
   "execution_count": 315,
   "metadata": {},
   "outputs": [],
   "source": [
    "from sklearn.metrics import roc_curve,auc\n",
    "from scipy import interp"
   ]
  },
  {
   "cell_type": "code",
   "execution_count": 388,
   "metadata": {},
   "outputs": [
    {
     "data": {
      "image/png": "[encoded data removed]",
      "text/plain": [
       "<Figure size 576x576 with 1 Axes>"
      ]
     },
     "metadata": {},
     "output_type": "display_data"
    }
   ],
   "source": [
    "getROC(X_test, y_test,clf)"
   ]
  },
  {
   "cell_type": "code",
   "execution_count": 323,
   "metadata": {},
   "outputs": [
    {
     "name": "stdout",
     "output_type": "stream",
     "text": [
      "[[0.02 0.98]\n",
      " [0.16 0.84]\n",
      " [0.05 0.95]\n",
      " ...\n",
      " [0.07 0.93]\n",
      " [0.03 0.97]\n",
      " [0.15 0.85]]\n",
      "[4.14 1.67 2.88 ... 2.51 3.54 1.77]\n"
     ]
    }
   ],
   "source": [
    "probs_ =  clf.predict_proba(X_test)\n",
    "print(probs_)\n",
    "y_score = clf.decision_function(X_test)\n",
    "print(y_score)"
   ]
  },
  {
   "cell_type": "code",
   "execution_count": 324,
   "metadata": {},
   "outputs": [],
   "source": [
    "fpr,tpr,threshold = roc_curve(y_test,y_score)"
   ]
  },
  {
   "cell_type": "code",
   "execution_count": 344,
   "metadata": {},
   "outputs": [
    {
     "name": "stdout",
     "output_type": "stream",
     "text": [
      "0.977514078233562\n",
      "0.977514078233562\n"
     ]
    }
   ],
   "source": [
    "roc_auc = auc(fpr,tpr)\n",
    "print(roc_auc)\n",
    "from sklearn.metrics import roc_auc_score\n",
    "print(roc_auc_score(y_test, y_score))"
   ]
  },
  {
   "cell_type": "code",
   "execution_count": 343,
   "metadata": {},
   "outputs": [
    {
     "data": {
      "text/plain": [
       "{1: array([[0.64, 0.64, 0.64, 0.64],\n",
       "        [0.95, 0.95, 0.95, 0.95],\n",
       "        [0.97, 0.97, 0.97, 0.97],\n",
       "        [0.98, 0.98, 0.98, 0.98],\n",
       "        [0.97, 0.97, 0.97, 0.97]])}"
      ]
     },
     "execution_count": 343,
     "metadata": {},
     "output_type": "execute_result"
    }
   ],
   "source": [
    "clf.scores_"
   ]
  },
  {
   "cell_type": "markdown",
   "metadata": {},
   "source": [
    "### 贝叶斯"
   ]
  },
  {
   "cell_type": "code",
   "execution_count": 348,
   "metadata": {},
   "outputs": [],
   "source": [
    "from sklearn.naive_bayes import MultinomialNB"
   ]
  },
  {
   "cell_type": "code",
   "execution_count": 425,
   "metadata": {},
   "outputs": [
    {
     "ename": "ValueError",
     "evalue": "Input X must be non-negative",
     "output_type": "error",
     "traceback": [
      "\u001b[1;31m---------------------------------------------------------------------------\u001b[0m",
      "\u001b[1;31mValueError\u001b[0m                                Traceback (most recent call last)",
      "\u001b[1;32m<ipython-input-425-1f09ae04cf10>\u001b[0m in \u001b[0;36m<module>\u001b[1;34m()\u001b[0m\n\u001b[0;32m      1\u001b[0m \u001b[0mmnb\u001b[0m \u001b[1;33m=\u001b[0m \u001b[0mMultinomialNB\u001b[0m\u001b[1;33m(\u001b[0m\u001b[1;33m)\u001b[0m\u001b[1;33m\u001b[0m\u001b[0m\n\u001b[1;32m----> 2\u001b[1;33m \u001b[0mmnb\u001b[0m\u001b[1;33m.\u001b[0m\u001b[0mfit\u001b[0m\u001b[1;33m(\u001b[0m\u001b[0mX_train_std\u001b[0m\u001b[1;33m,\u001b[0m \u001b[0my_train\u001b[0m\u001b[1;33m)\u001b[0m\u001b[1;33m\u001b[0m\u001b[0m\n\u001b[0m",
      "\u001b[1;32mD:\\Program Files\\Anaconda3\\lib\\site-packages\\sklearn\\naive_bayes.py\u001b[0m in \u001b[0;36mfit\u001b[1;34m(self, X, y, sample_weight)\u001b[0m\n\u001b[0;32m    602\u001b[0m         self.feature_count_ = np.zeros((n_effective_classes, n_features),\n\u001b[0;32m    603\u001b[0m                                        dtype=np.float64)\n\u001b[1;32m--> 604\u001b[1;33m         \u001b[0mself\u001b[0m\u001b[1;33m.\u001b[0m\u001b[0m_count\u001b[0m\u001b[1;33m(\u001b[0m\u001b[0mX\u001b[0m\u001b[1;33m,\u001b[0m \u001b[0mY\u001b[0m\u001b[1;33m)\u001b[0m\u001b[1;33m\u001b[0m\u001b[0m\n\u001b[0m\u001b[0;32m    605\u001b[0m         \u001b[0malpha\u001b[0m \u001b[1;33m=\u001b[0m \u001b[0mself\u001b[0m\u001b[1;33m.\u001b[0m\u001b[0m_check_alpha\u001b[0m\u001b[1;33m(\u001b[0m\u001b[1;33m)\u001b[0m\u001b[1;33m\u001b[0m\u001b[0m\n\u001b[0;32m    606\u001b[0m         \u001b[0mself\u001b[0m\u001b[1;33m.\u001b[0m\u001b[0m_update_feature_log_prob\u001b[0m\u001b[1;33m(\u001b[0m\u001b[0malpha\u001b[0m\u001b[1;33m)\u001b[0m\u001b[1;33m\u001b[0m\u001b[0m\n",
      "\u001b[1;32mD:\\Program Files\\Anaconda3\\lib\\site-packages\\sklearn\\naive_bayes.py\u001b[0m in \u001b[0;36m_count\u001b[1;34m(self, X, Y)\u001b[0m\n\u001b[0;32m    706\u001b[0m         \u001b[1;34m\"\"\"Count and smooth feature occurrences.\"\"\"\u001b[0m\u001b[1;33m\u001b[0m\u001b[0m\n\u001b[0;32m    707\u001b[0m         \u001b[1;32mif\u001b[0m \u001b[0mnp\u001b[0m\u001b[1;33m.\u001b[0m\u001b[0many\u001b[0m\u001b[1;33m(\u001b[0m\u001b[1;33m(\u001b[0m\u001b[0mX\u001b[0m\u001b[1;33m.\u001b[0m\u001b[0mdata\u001b[0m \u001b[1;32mif\u001b[0m \u001b[0missparse\u001b[0m\u001b[1;33m(\u001b[0m\u001b[0mX\u001b[0m\u001b[1;33m)\u001b[0m \u001b[1;32melse\u001b[0m \u001b[0mX\u001b[0m\u001b[1;33m)\u001b[0m \u001b[1;33m<\u001b[0m \u001b[1;36m0\u001b[0m\u001b[1;33m)\u001b[0m\u001b[1;33m:\u001b[0m\u001b[1;33m\u001b[0m\u001b[0m\n\u001b[1;32m--> 708\u001b[1;33m             \u001b[1;32mraise\u001b[0m \u001b[0mValueError\u001b[0m\u001b[1;33m(\u001b[0m\u001b[1;34m\"Input X must be non-negative\"\u001b[0m\u001b[1;33m)\u001b[0m\u001b[1;33m\u001b[0m\u001b[0m\n\u001b[0m\u001b[0;32m    709\u001b[0m         \u001b[0mself\u001b[0m\u001b[1;33m.\u001b[0m\u001b[0mfeature_count_\u001b[0m \u001b[1;33m+=\u001b[0m \u001b[0msafe_sparse_dot\u001b[0m\u001b[1;33m(\u001b[0m\u001b[0mY\u001b[0m\u001b[1;33m.\u001b[0m\u001b[0mT\u001b[0m\u001b[1;33m,\u001b[0m \u001b[0mX\u001b[0m\u001b[1;33m)\u001b[0m\u001b[1;33m\u001b[0m\u001b[0m\n\u001b[0;32m    710\u001b[0m         \u001b[0mself\u001b[0m\u001b[1;33m.\u001b[0m\u001b[0mclass_count_\u001b[0m \u001b[1;33m+=\u001b[0m \u001b[0mY\u001b[0m\u001b[1;33m.\u001b[0m\u001b[0msum\u001b[0m\u001b[1;33m(\u001b[0m\u001b[0maxis\u001b[0m\u001b[1;33m=\u001b[0m\u001b[1;36m0\u001b[0m\u001b[1;33m)\u001b[0m\u001b[1;33m\u001b[0m\u001b[0m\n",
      "\u001b[1;31mValueError\u001b[0m: Input X must be non-negative"
     ]
    }
   ],
   "source": [
    "mnb = MultinomialNB()\n",
    "mnb.fit(X_train_std, y_train)"
   ]
  },
  {
   "cell_type": "code",
   "execution_count": 354,
   "metadata": {},
   "outputs": [],
   "source": [
    "# 归一化到0-1\n",
    "from sklearn.preprocessing import MinMaxScaler"
   ]
  },
  {
   "cell_type": "code",
   "execution_count": 420,
   "metadata": {},
   "outputs": [],
   "source": [
    "mm = MinMaxScaler()\n",
    "mm.fit(X_train)\n",
    "X_train_mm = mm.transform(X_train)"
   ]
  },
  {
   "cell_type": "code",
   "execution_count": 421,
   "metadata": {},
   "outputs": [],
   "source": [
    "X_test_mm = mm.transform(X_test)"
   ]
  },
  {
   "cell_type": "code",
   "execution_count": 428,
   "metadata": {},
   "outputs": [
    {
     "data": {
      "text/plain": [
       "MultinomialNB(alpha=0.01, class_prior=None, fit_prior=True)"
      ]
     },
     "execution_count": 428,
     "metadata": {},
     "output_type": "execute_result"
    }
   ],
   "source": [
    "nb = MultinomialNB(alpha=0.01)\n",
    "nb.fit(X_train_mm,y_train)"
   ]
  },
  {
   "cell_type": "code",
   "execution_count": 429,
   "metadata": {},
   "outputs": [
    {
     "data": {
      "text/plain": [
       "0.9036241456550457"
      ]
     },
     "execution_count": 429,
     "metadata": {},
     "output_type": "execute_result"
    }
   ],
   "source": [
    "nb.score(X_test_mm, y_test)"
   ]
  },
  {
   "cell_type": "code",
   "execution_count": 430,
   "metadata": {},
   "outputs": [
    {
     "data": {
      "text/plain": [
       "0.9035648644509113"
      ]
     },
     "execution_count": 430,
     "metadata": {},
     "output_type": "execute_result"
    }
   ],
   "source": [
    "nb.score(X_train_mm,y_train)"
   ]
  },
  {
   "cell_type": "code",
   "execution_count": 408,
   "metadata": {},
   "outputs": [],
   "source": [
    "neg_mm = mm.transform(neg)"
   ]
  },
  {
   "cell_type": "code",
   "execution_count": 409,
   "metadata": {},
   "outputs": [
    {
     "data": {
      "text/plain": [
       "array([[0.45, 0.44, 0.36, ..., 0.45, 0.55, 0.56],\n",
       "       [0.53, 0.45, 0.44, ..., 0.51, 0.64, 0.51],\n",
       "       [0.51, 0.46, 0.37, ..., 0.54, 0.54, 0.45],\n",
       "       ...,\n",
       "       [0.47, 0.57, 0.41, ..., 0.52, 0.48, 0.41],\n",
       "       [0.43, 0.54, 0.37, ..., 0.46, 0.51, 0.61],\n",
       "       [0.48, 0.55, 0.34, ..., 0.61, 0.56, 0.62]])"
      ]
     },
     "execution_count": 409,
     "metadata": {},
     "output_type": "execute_result"
    }
   ],
   "source": [
    "neg_mm"
   ]
  },
  {
   "cell_type": "code",
   "execution_count": 410,
   "metadata": {},
   "outputs": [
    {
     "data": {
      "text/plain": [
       "0.0"
      ]
     },
     "execution_count": 410,
     "metadata": {},
     "output_type": "execute_result"
    }
   ],
   "source": [
    "nb.score(neg_mm,neg_y)"
   ]
  },
  {
   "cell_type": "code",
   "execution_count": 411,
   "metadata": {},
   "outputs": [],
   "source": [
    "pos_mm = mm.transform(pos)"
   ]
  },
  {
   "cell_type": "code",
   "execution_count": 412,
   "metadata": {},
   "outputs": [
    {
     "data": {
      "text/plain": [
       "array([[0.5 , 0.44, 0.38, ..., 0.47, 0.53, 0.58],\n",
       "       [0.5 , 0.44, 0.37, ..., 0.45, 0.54, 0.59],\n",
       "       [0.44, 0.4 , 0.37, ..., 0.57, 0.7 , 0.6 ],\n",
       "       ...,\n",
       "       [0.49, 0.37, 0.36, ..., 0.4 , 0.55, 0.61],\n",
       "       [0.61, 0.39, 0.42, ..., 0.49, 0.51, 0.59],\n",
       "       [0.58, 0.26, 0.41, ..., 0.44, 0.67, 0.59]])"
      ]
     },
     "execution_count": 412,
     "metadata": {},
     "output_type": "execute_result"
    }
   ],
   "source": [
    "pos_mm"
   ]
  },
  {
   "cell_type": "code",
   "execution_count": 413,
   "metadata": {},
   "outputs": [
    {
     "data": {
      "text/plain": [
       "1.0"
      ]
     },
     "execution_count": 413,
     "metadata": {},
     "output_type": "execute_result"
    }
   ],
   "source": [
    "nb.score(pos_mm, pos_y)"
   ]
  },
  {
   "cell_type": "code",
   "execution_count": 427,
   "metadata": {},
   "outputs": [
    {
     "data": {
      "text/plain": [
       "array([1, 1, 1, ..., 1, 1, 1])"
      ]
     },
     "execution_count": 427,
     "metadata": {},
     "output_type": "execute_result"
    }
   ],
   "source": [
    "nb.predict(pos_mm)"
   ]
  },
  {
   "cell_type": "markdown",
   "metadata": {},
   "source": [
    "### KNN"
   ]
  },
  {
   "cell_type": "code",
   "execution_count": 431,
   "metadata": {},
   "outputs": [],
   "source": [
    "from sklearn.neighbors import KNeighborsClassifier"
   ]
  },
  {
   "cell_type": "code",
   "execution_count": 435,
   "metadata": {},
   "outputs": [
    {
     "data": {
      "text/plain": [
       "KNeighborsClassifier(algorithm='auto', leaf_size=30, metric='minkowski',\n",
       "           metric_params=None, n_jobs=-1, n_neighbors=1, p=2,\n",
       "           weights='distance')"
      ]
     },
     "execution_count": 435,
     "metadata": {},
     "output_type": "execute_result"
    }
   ],
   "source": [
    "knn = KNeighborsClassifier(n_jobs = -1, n_neighbors=1 ,weights='distance')\n",
    "knn.fit(X_train_std,y_train)"
   ]
  },
  {
   "cell_type": "code",
   "execution_count": 437,
   "metadata": {},
   "outputs": [
    {
     "data": {
      "text/plain": [
       "array([1, 1, 1, ..., 1, 1, 0])"
      ]
     },
     "execution_count": 437,
     "metadata": {},
     "output_type": "execute_result"
    }
   ],
   "source": [
    "knn.predict(X_test_std)"
   ]
  },
  {
   "cell_type": "code",
   "execution_count": 438,
   "metadata": {},
   "outputs": [
    {
     "data": {
      "text/plain": [
       "0.9540807535466085"
      ]
     },
     "execution_count": 438,
     "metadata": {},
     "output_type": "execute_result"
    }
   ],
   "source": [
    "knn.score(X_test_std,y_test)"
   ]
  },
  {
   "cell_type": "code",
   "execution_count": 439,
   "metadata": {},
   "outputs": [
    {
     "name": "stdout",
     "output_type": "stream",
     "text": [
      "训练集的准确率:1.0，测试集的准确率：0.9540807535466085\n",
      "评估部分：\n",
      "所有非新华社的正确率：0.8441558441558441， 所有新华社的正确率：0.9963005809740532\n",
      "训练集的混淆矩阵：\n",
      "             precision    recall  f1-score   support\n",
      "\n",
      "          0       1.00      1.00      1.00      5037\n",
      "          1       1.00      1.00      1.00     47195\n",
      "\n",
      "avg / total       1.00      1.00      1.00     52232\n",
      "\n",
      "测试集的混淆矩阵：\n",
      "             precision    recall  f1-score   support\n",
      "\n",
      "          0       0.88      0.61      0.72      3356\n",
      "          1       0.96      0.99      0.97     31466\n",
      "\n",
      "avg / total       0.95      0.95      0.95     34822\n",
      "\n"
     ]
    }
   ],
   "source": [
    "getResult(knn,X_train_std,X_test_std)"
   ]
  },
  {
   "cell_type": "code",
   "execution_count": 440,
   "metadata": {},
   "outputs": [
    {
     "data": {
      "text/plain": [
       "KNeighborsClassifier(algorithm='auto', leaf_size=30, metric='minkowski',\n",
       "           metric_params=None, n_jobs=-1, n_neighbors=1, p=2,\n",
       "           weights='distance')"
      ]
     },
     "execution_count": 440,
     "metadata": {},
     "output_type": "execute_result"
    }
   ],
   "source": [
    "knn_mm = KNeighborsClassifier(n_jobs = -1, n_neighbors=1 ,weights='distance')\n",
    "knn_mm.fit(X_train_mm,y_train)"
   ]
  },
  {
   "cell_type": "code",
   "execution_count": 441,
   "metadata": {},
   "outputs": [
    {
     "name": "stdout",
     "output_type": "stream",
     "text": [
      "训练集的准确率:1.0，测试集的准确率：0.9544253632760898\n",
      "评估部分：\n",
      "所有非新华社的正确率：0.8464196354104611， 所有新华社的正确率：0.9962115915129479\n",
      "训练集的混淆矩阵：\n",
      "             precision    recall  f1-score   support\n",
      "\n",
      "          0       1.00      1.00      1.00      5037\n",
      "          1       1.00      1.00      1.00     47195\n",
      "\n",
      "avg / total       1.00      1.00      1.00     52232\n",
      "\n",
      "测试集的混淆矩阵：\n",
      "             precision    recall  f1-score   support\n",
      "\n",
      "          0       0.87      0.62      0.72      3356\n",
      "          1       0.96      0.99      0.98     31466\n",
      "\n",
      "avg / total       0.95      0.95      0.95     34822\n",
      "\n"
     ]
    }
   ],
   "source": [
    "getResult(knn_mm,X_train_mm,X_test_mm,lx=0)"
   ]
  },
  {
   "cell_type": "code",
   "execution_count": 442,
   "metadata": {},
   "outputs": [
    {
     "data": {
      "text/plain": [
       "KNeighborsClassifier(algorithm='auto', leaf_size=30, metric='minkowski',\n",
       "           metric_params=None, n_jobs=-1, n_neighbors=2, p=2,\n",
       "           weights='distance')"
      ]
     },
     "execution_count": 442,
     "metadata": {},
     "output_type": "execute_result"
    }
   ],
   "source": [
    "knn = KNeighborsClassifier(n_jobs = -1, n_neighbors=2 ,weights='distance')\n",
    "knn.fit(X_train_std,y_train)"
   ]
  },
  {
   "cell_type": "code",
   "execution_count": 443,
   "metadata": {},
   "outputs": [
    {
     "name": "stdout",
     "output_type": "stream",
     "text": [
      "训练集的准确率:1.0，测试集的准确率：0.9540807535466085\n",
      "评估部分：\n",
      "所有非新华社的正确率：0.8441558441558441， 所有新华社的正确率：0.9963005809740532\n",
      "训练集的混淆矩阵：\n",
      "             precision    recall  f1-score   support\n",
      "\n",
      "          0       1.00      1.00      1.00      5037\n",
      "          1       1.00      1.00      1.00     47195\n",
      "\n",
      "avg / total       1.00      1.00      1.00     52232\n",
      "\n",
      "测试集的混淆矩阵：\n",
      "             precision    recall  f1-score   support\n",
      "\n",
      "          0       0.88      0.61      0.72      3356\n",
      "          1       0.96      0.99      0.97     31466\n",
      "\n",
      "avg / total       0.95      0.95      0.95     34822\n",
      "\n"
     ]
    }
   ],
   "source": [
    "getResult(knn,X_train_std,X_test_std)"
   ]
  },
  {
   "cell_type": "markdown",
   "metadata": {},
   "source": [
    "### SVM"
   ]
  },
  {
   "cell_type": "code",
   "execution_count": null,
   "metadata": {},
   "outputs": [],
   "source": []
  }
 ],
 "metadata": {
  "kernelspec": {
   "display_name": "Python 3",
   "language": "python",
   "name": "python3"
  },
  "language_info": {
   "codemirror_mode": {
    "name": "ipython",
    "version": 3
   },
   "file_extension": ".py",
   "mimetype": "text/x-python",
   "name": "python",
   "nbconvert_exporter": "python",
   "pygments_lexer": "ipython3",
   "version": "3.6.5"
  }
 },
 "nbformat": 4,
 "nbformat_minor": 2
}
