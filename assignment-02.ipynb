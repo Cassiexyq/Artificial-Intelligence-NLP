{
 "cells": [
  {
   "cell_type": "markdown",
   "metadata": {},
   "source": [
    "## assignment-02"
   ]
  },
  {
   "cell_type": "markdown",
   "metadata": {},
   "source": [
    "### 1. review the course online rogramming code\n",
    "    ans：在leture02中"
   ]
  },
  {
   "cell_type": "markdown",
   "metadata": {},
   "source": [
    "### 2.review main points\n",
    "#### 1. How to github and Why do we use jupyter and pycharm\n",
    "    Ans：github是一个代码管理工具，可以及时上传和分享，结合自己的感受描述一下主要功能：\n",
    "        1.能够explore别人分享的开源代码，有利于学习\n",
    "        2.当找到一个在不断更新维护根据需要fork别人的代码，然后可以收到更新通知，也能随时更新，如果自己有想法也可以告知对方\n",
    "        3.每天上传code，如果代码想要回滚，也会有个记录，不至于重写\n",
    "    使用jupyter的原因是具有非常好的视觉感受，所有的逻辑就会十分清晰课件，既支持Python又支持markdown，比较适合笔记形式来记录学习的过程，适合小型的练手项目，而pycharm更为专业，适合大型的Python项目，可以专业调试，代码量很多的项目。\n",
    "\n",
    "\n",
    "#### 2. What's the Probability Model\n",
    "\n",
    "    Ans：概率模型：基于概率让机器进行决策的模型，根据已有的数据集建立一个概率模型，该数据以新的数据作为输入，输出符合已有数据集的分布。\n",
    "\n",
    "\n",
    "#### 3. Can you come up with some sceneraies at which we could use probability model\n",
    "\n",
    "    Ans：在GAN网络中，利用概率模型的有两个主要模型，生成式模型和判别式模型，生成式模型利用的是联合概率，判别式模型是条件概率。\n",
    "\n",
    "\n",
    "#### 4. Why do we use probability and what's the difficult points for programming based on parsing and pattern match?\n",
    "\n",
    "    Ans：  现实生活中遇到的概率问题大多涉及数量很大的随机变量，很难用数学公式描述它们之间的变化关系，可以用概率模型来表达，但缺点是参数过大，參数空间过大：条件概率P(wn|w1,w2,..,wn-1)的可能性太多，无法估算，不可能有用；数据稀疏严重：对于非常多词对的组合，在语料库中都没有出现，依据最大似然估计得到的概率将会是0。\n",
    "\n",
    "\n",
    "#### 5. What's the Language Model\n",
    "\n",
    "    Ans：简单来讲，就是用来计算一个句子的概率的模型。\n",
    "\n",
    "\n",
    "#### 6. Can you come up with some sceneraies at which we could use Language model\n",
    "\n",
    "    Ans：语言模型最简单的场景就是用来计算输入语句的概率，根据概率判断语句的正确性概率，可能性概率等。\n",
    "\n",
    "\n",
    "#### 7. What's the 1-gram language model\n",
    "\n",
    "    Ans：1-gram语言模型是对句子分词后每个词在语料库中出现的概率相乘得到概率值后根据每个输入语句的出现概率进行决策的模型，假设词之间相互独立。\n",
    "\n",
    "\n",
    "#### 8. What's the disadvantages and advantages of 1-gram language model\n",
    "\n",
    "    Ans：1-gram语言模型是每个词在语料库出现概率相乘的结果，每个词之间相互独立，不受影响，不能考虑词与词之间的影响，词之间独立。但这样的方式可以简单判断输入语句，速度快，简单。\n",
    "\n",
    "\n",
    "#### 9. What's the2-gram language model\n",
    "\n",
    "    Ans：2-gram语言模型是利用贝叶斯概率计算两个词之间出现的概率，词之间不再是条件无关，可以考虑两个词之间的关系。\n",
    "$$ p(i|w)=\\frac{p(w,i)}{p(w)} $$\n",
    "\n",
    "\n",
    "#### 10. What's the web crawler, and can you implement a simple crawler?\n",
    "\n",
    "    Ans：网路爬虫有很多语言实现，如java,js,node,python等，各自都有相应的包来调用，利用爬虫可以爬取网页信息，根据爬取的内容可以有很多对应的方式。直接解析html用正则表达式，分析请求需要模拟一个网页发送请求获得json(一般为json)，更深层次还有ip代理防反爬虫，模拟登陆输入验证码\n",
    "\n",
    "\n",
    "#### 11. There may be some issues to make our crwaler programming difficult, what are these, and how do we solve them\n",
    "    Ans：例如当爬虫请求次数过多，对方服务器受到同一ip的异常压力，就会封访问ip，需要更换ip；还有不能直接进去获得网站数据，需要登陆才能访问，还需要模拟登陆。\n",
    "\n",
    "\n",
    "#### 12. What's the Regular expression and how to use\n",
    "\n",
    "    Ans：正则表达式有一些常用符号，如?表示匹配0或1个，*表示匹配次数大于等于0，+表示匹配次数大于等于1，还有一些\\d \\w 等\n",
    "   \n",
    "| 字符 | 描述 |\n",
    "| ------ | ------------ | \n",
    "| . | 匹配除换行符外的所有字符 |\n",
    "| \\w | 匹配所有字母数字，等同于\\[a-zA-Z\\] |\n",
    "| \\W |匹配所有非字母数字，即符号，等同于\\[^\\w\\]|\n",
    "|\\d|匹配数字\\[0-9\\] |\n",
    "|\\D| 匹配非数字\\[^\\d\\]|\n",
    "|\\s|匹配所有空格字符\\[\\t\\n\\f\\r\\p{Z}\\]|\n",
    "|\\S|匹配所有非空格字符\\[^\\s\\]|\n",
    "|\\f|匹配一个换页符|\n",
    "|\\n|匹配一个换行符|\n",
    "|\\r|匹配一个回车符|\n",
    "|\\t|匹配一个制表符|\n",
    "|\\v|匹配一个垂直制表符|\n",
    "|\\p|匹配CR/LF等同于\\r\\n|\n",
    "\n",
    "|零宽度断言|描述| \n",
    "| ----| ---- |\n",
    "|?=... | 正先行断言-存在，表示表达式之后必须跟着?=...定义的表达式| \n",
    "|?!... | 负先行断言-排除，表示其后不跟着?!...的表达式 | \n",
    "|?<=...| 正后发断言-存在，表示其前跟随着断言中定义的格式|\n",
    "|?<!...| 负后发断言-排除，表示其前不跟随断言中定义的格式|\n",
    "     \n",
    "[学习地址](https://github.com/ziishaned/learn-regex)"
   ]
  },
  {
   "cell_type": "markdown",
   "metadata": {},
   "source": [
    "### 3 使用Wikipedia dataset to finish the language model"
   ]
  },
  {
   "cell_type": "code",
   "execution_count": null,
   "metadata": {},
   "outputs": [],
   "source": []
  }
 ],
 "metadata": {
  "kernelspec": {
   "display_name": "Python 3",
   "language": "python",
   "name": "python3"
  },
  "language_info": {
   "codemirror_mode": {
    "name": "ipython",
    "version": 3
   },
   "file_extension": ".py",
   "mimetype": "text/x-python",
   "name": "python",
   "nbconvert_exporter": "python",
   "pygments_lexer": "ipython3",
   "version": "3.6.5"
  }
 },
 "nbformat": 4,
 "nbformat_minor": 2
}
