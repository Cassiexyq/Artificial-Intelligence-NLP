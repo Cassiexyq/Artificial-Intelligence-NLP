{
 "cells": [
  {
   "cell_type": "markdown",
   "metadata": {},
   "source": [
    "## assignment-02"
   ]
  },
  {
   "cell_type": "markdown",
   "metadata": {},
   "source": [
    "### 1. review the course online rogramming code\n",
    "    ans：在leture02中"
   ]
  },
  {
   "cell_type": "markdown",
   "metadata": {},
   "source": [
    "### 2.review main points\n",
    "#### 1. How to github and Why do we use jupyter and pycharm\n",
    "    Ans：github是一个代码管理工具，可以及时上传和分享，结合自己的感受描述一下主要功能：\n",
    "        1.能够explore别人分享的开源代码，有利于学习\n",
    "        2.当找到一个在不断更新维护根据需要fork别人的代码，然后可以收到更新通知，也能随时更新，如果自己有想法也可以告知对方\n",
    "        3.每天上传code，如果代码想要回滚，也会有个记录，不至于重写\n",
    "    使用jupyter的原因是具有非常好的视觉感受，所有的逻辑就会十分清晰课件，既支持Python又支持markdown，比较适合笔记形式来记录学习的过程，适合小型的练手项目，而pycharm更为专业，适合大型的Python项目，可以专业调试，代码量很多的项目。\n",
    "\n",
    "\n",
    "#### 2. What's the Probability Model\n",
    "\n",
    "    Ans：概率模型：基于概率让机器进行决策的模型，根据已有的数据集建立一个概率模型，该数据以新的数据作为输入，输出符合已有数据集的分布。\n",
    "\n",
    "\n",
    "#### 3. Can you come up with some sceneraies at which we could use probability model\n",
    "\n",
    "    Ans：在GAN网络中，利用概率模型的有两个主要模型，生成式模型和判别式模型，生成式模型利用的是联合概率，判别式模型是条件概率。\n",
    "\n",
    "\n",
    "#### 4. Why do we use probability and what's the difficult points for programming based on parsing and pattern match?\n",
    "\n",
    "    Ans：  现实生活中遇到的概率问题大多涉及数量很大的随机变量，很难用数学公式描述它们之间的变化关系，可以用概率模型来表达，但缺点是参数过大，參数空间过大：条件概率P(wn|w1,w2,..,wn-1)的可能性太多，无法估算，不可能有用；数据稀疏严重：对于非常多词对的组合，在语料库中都没有出现，依据最大似然估计得到的概率将会是0。\n",
    "\n",
    "\n",
    "#### 5. What's the Language Model\n",
    "\n",
    "    Ans：简单来讲，就是用来计算一个句子的概率的模型。\n",
    "\n",
    "\n",
    "#### 6. Can you come up with some sceneraies at which we could use Language model\n",
    "\n",
    "    Ans：语言模型最简单的场景就是用来计算输入语句的概率，根据概率判断语句的正确性概率，可能性概率等。\n",
    "\n",
    "\n",
    "#### 7. What's the 1-gram language model\n",
    "\n",
    "    Ans：1-gram语言模型是对句子分词后每个词在语料库中出现的概率相乘得到概率值后根据每个输入语句的出现概率进行决策的模型，假设词之间相互独立。\n",
    "\n",
    "\n",
    "#### 8. What's the disadvantages and advantages of 1-gram language model\n",
    "\n",
    "    Ans：1-gram语言模型是每个词在语料库出现概率相乘的结果，每个词之间相互独立，不受影响，不能考虑词与词之间的影响，词之间独立。但这样的方式可以简单判断输入语句，速度快，简单。\n",
    "\n",
    "\n",
    "#### 9. What's the2-gram language model\n",
    "\n",
    "    Ans：2-gram语言模型是利用贝叶斯概率计算两个词之间出现的概率，词之间不再是条件无关，可以考虑两个词之间的关系。\n",
    "$$ p(i|w)=\\frac{p(w,i)}{p(w)} $$\n",
    "\n",
    "\n",
    "#### 10. What's the web crawler, and can you implement a simple crawler?\n",
    "\n",
    "    Ans：网路爬虫有很多语言实现，如java,js,node,python等，各自都有相应的包来调用，利用爬虫可以爬取网页信息，根据爬取的内容可以有很多对应的方式。直接解析html用正则表达式，分析请求需要模拟一个网页发送请求获得json(一般为json)，更深层次还有ip代理防反爬虫，模拟登陆输入验证码\n",
    "\n",
    "\n",
    "#### 11. There may be some issues to make our crwaler programming difficult, what are these, and how do we solve them\n",
    "    Ans：例如当爬虫请求次数过多，对方服务器受到同一ip的异常压力，就会封访问ip，需要更换ip；还有不能直接进去获得网站数据，需要登陆才能访问，还需要模拟登陆。\n",
    "\n",
    "\n",
    "#### 12. What's the Regular expression and how to use\n",
    "\n",
    "    Ans：正则表达式有一些常用符号，如?表示匹配0或1个，*表示匹配次数大于等于0，+表示匹配次数大于等于1，还有一些\\d \\w 等\n",
    "   \n",
    "| 字符 | 描述 |\n",
    "| ------ | ------------ | \n",
    "| . | 匹配除换行符外的所有字符 |\n",
    "| \\w | 匹配所有字母数字，等同于\\[a-zA-Z\\] |\n",
    "| \\W |匹配所有非字母数字，即符号，等同于\\[^\\w\\]|\n",
    "|\\d|匹配数字\\[0-9\\] |\n",
    "|\\D| 匹配非数字\\[^\\d\\]|\n",
    "|\\s|匹配所有空格字符\\[\\t\\n\\f\\r\\p{Z}\\]|\n",
    "|\\S|匹配所有非空格字符\\[^\\s\\]|\n",
    "|\\f|匹配一个换页符|\n",
    "|\\n|匹配一个换行符|\n",
    "|\\r|匹配一个回车符|\n",
    "|\\t|匹配一个制表符|\n",
    "|\\v|匹配一个垂直制表符|\n",
    "|\\p|匹配CR/LF等同于\\r\\n|\n",
    "\n",
    "|零宽度断言|描述| \n",
    "| ----| ---- |\n",
    "|?=... | 正先行断言-存在，表示表达式之后必须跟着?=...定义的表达式| \n",
    "|?!... | 负先行断言-排除，表示其后不跟着?!...的表达式 | \n",
    "|?<=...| 正后发断言-存在，表示其前跟随着断言中定义的格式|\n",
    "|?<!...| 负后发断言-排除，表示其前不跟随断言中定义的格式|\n",
    "     \n",
    "[学习地址](https://github.com/ziishaned/learn-regex)"
   ]
  },
  {
   "cell_type": "markdown",
   "metadata": {},
   "source": [
    "### 3 使用Wikipedia dataset to finish the language model"
   ]
  },
  {
   "cell_type": "code",
   "execution_count": 7,
   "metadata": {},
   "outputs": [],
   "source": [
    "# INFO: Finished 11-process extraction of 1052240 articles in 1299.6s (809.7 art/s)\n",
    "# INFO: total of page: 2381251, total of articl page: 1052240; total of used articl page: 1052240\n",
    "from hanziconv import HanziConv\n",
    "import os"
   ]
  },
  {
   "cell_type": "code",
   "execution_count": 8,
   "metadata": {},
   "outputs": [],
   "source": [
    "database = 'F:/NLP-dataset/text'"
   ]
  },
  {
   "cell_type": "code",
   "execution_count": 9,
   "metadata": {},
   "outputs": [
    {
     "data": {
      "text/plain": [
       "True"
      ]
     },
     "execution_count": 9,
     "metadata": {},
     "output_type": "execute_result"
    }
   ],
   "source": [
    "os.path.exists(database)"
   ]
  },
  {
   "cell_type": "markdown",
   "metadata": {},
   "source": [
    "### 因为语料库很大，每个文件夹随机挑选1个\n",
    "（1）准备语料库，然后发现运行太慢了，降低变1个"
   ]
  },
  {
   "cell_type": "code",
   "execution_count": 15,
   "metadata": {},
   "outputs": [],
   "source": [
    "dirs = ['AA', 'AB', 'AC', 'AD', 'AE', 'AF', 'AG', 'AH', 'AI', 'AJ', 'AK', 'AL', 'AM']\n",
    "import random\n",
    "import re"
   ]
  },
  {
   "cell_type": "code",
   "execution_count": 19,
   "metadata": {},
   "outputs": [],
   "source": [
    "def getDatabase():\n",
    "    all_files = []\n",
    "    for i in dirs:\n",
    "        se = os.path.join(database,i)\n",
    "        files = os.listdir(se)\n",
    "        files = list(map(lambda x: os.path.join(se,x),files))\n",
    "        sub_files = random.sample(files,2)\n",
    "        all_files.extend(sub_files)\n",
    "    return all_files"
   ]
  },
  {
   "cell_type": "code",
   "execution_count": 20,
   "metadata": {},
   "outputs": [
    {
     "name": "stdout",
     "output_type": "stream",
     "text": [
      "26\n"
     ]
    }
   ],
   "source": [
    "all_files = getDatabase()\n",
    "print(len(all_files))"
   ]
  },
  {
   "cell_type": "code",
   "execution_count": 21,
   "metadata": {},
   "outputs": [],
   "source": [
    "text = ''\n",
    "for file_path in all_files:\n",
    "    with open(file_path, encoding='utf-8') as f:\n",
    "        for line in f:\n",
    "            text += line"
   ]
  },
  {
   "cell_type": "code",
   "execution_count": 22,
   "metadata": {},
   "outputs": [],
   "source": [
    "text = HanziConv.toSimplified(text)"
   ]
  },
  {
   "cell_type": "markdown",
   "metadata": {},
   "source": [
    "（2）去除多余的doc,去除特殊字符"
   ]
  },
  {
   "cell_type": "code",
   "execution_count": null,
   "metadata": {},
   "outputs": [],
   "source": [
    "re.findall('</doc>',content)"
   ]
  },
  {
   "cell_type": "code",
   "execution_count": 37,
   "metadata": {},
   "outputs": [
    {
     "data": {
      "text/plain": [
       "['<doc id=\"44087\" url=\"https://zh.wikipedia.org/wiki?curid=44087\" title=\"李先念\">',\n",
       " '<doc id=\"44092\" url=\"https://zh.wikipedia.org/wiki?curid=44092\" title=\"厦门大学\">',\n",
       " '<doc id=\"44096\" url=\"https://zh.wikipedia.org/wiki?curid=44096\" title=\"佛得角\">',\n",
       " '<doc id=\"44104\" url=\"https://zh.wikipedia.org/wiki?curid=44104\" title=\"从化区\">',\n",
       " '<doc id=\"44106\" url=\"https://zh.wikipedia.org/wiki?curid=44106\" title=\"公平处理\">',\n",
       " '<doc id=\"44109\" url=\"https://zh.wikipedia.org/wiki?curid=44109\" title=\"耐火材料\">',\n",
       " '<doc id=\"44115\" url=\"https://zh.wikipedia.org/wiki?curid=44115\" title=\"埃及第十八王朝\">',\n",
       " '<doc id=\"44119\" url=\"https://zh.wikipedia.org/wiki?curid=44119\" title=\"华南木棉BBS\">',\n",
       " '<doc id=\"44121\" url=\"https://zh.wikipedia.org/wiki?curid=44121\" title=\"小行星2045\">',\n",
       " '<doc id=\"44123\" url=\"https://zh.wikipedia.org/wiki?curid=44123\" title=\"佐恩引理\">',\n",
       " '<doc id=\"44128\" url=\"https://zh.wikipedia.org/wiki?curid=44128\" title=\"孟森\">',\n",
       " '<doc id=\"44139\" url=\"https://zh.wikipedia.org/wiki?curid=44139\" title=\"小行星2215\">',\n",
       " '<doc id=\"44140\" url=\"https://zh.wikipedia.org/wiki?curid=44140\" title=\"米芾\">',\n",
       " '<doc id=\"44144\" url=\"https://zh.wikipedia.org/wiki?curid=44144\" title=\"小行星2185\">',\n",
       " '<doc id=\"44148\" url=\"https://zh.wikipedia.org/wiki?curid=44148\" title=\"小行星2197\">',\n",
       " '<doc id=\"44154\" url=\"https://zh.wikipedia.org/wiki?curid=44154\" title=\"何锦欣\">',\n",
       " '<doc id=\"44158\" url=\"https://zh.wikipedia.org/wiki?curid=44158\" title=\"狮子山\">',\n",
       " '<doc id=\"44160\" url=\"https://zh.wikipedia.org/wiki?curid=44160\" title=\"抗日\">',\n",
       " '<doc id=\"44163\" url=\"https://zh.wikipedia.org/wiki?curid=44163\" title=\"教师语文能力评核\">',\n",
       " '<doc id=\"44164\" url=\"https://zh.wikipedia.org/wiki?curid=44164\" title=\"Ruby\">',\n",
       " '<doc id=\"44165\" url=\"https://zh.wikipedia.org/wiki?curid=44165\" title=\"小行星3206\">',\n",
       " '<doc id=\"44166\" url=\"https://zh.wikipedia.org/wiki?curid=44166\" title=\"小行星3297\">',\n",
       " '<doc id=\"44172\" url=\"https://zh.wikipedia.org/wiki?curid=44172\" title=\"广岛和平纪念公园\">',\n",
       " '<doc id=\"44174\" url=\"https://zh.wikipedia.org/wiki?curid=44174\" title=\"听觉游戏\">',\n",
       " '<doc id=\"44176\" url=\"https://zh.wikipedia.org/wiki?curid=44176\" title=\"陶片放逐制\">',\n",
       " '<doc id=\"44212\" url=\"https://zh.wikipedia.org/wiki?curid=44212\" title=\"法国共和历\">',\n",
       " '<doc id=\"44213\" url=\"https://zh.wikipedia.org/wiki?curid=44213\" title=\"苏维埃革命历法\">',\n",
       " '<doc id=\"44214\" url=\"https://zh.wikipedia.org/wiki?curid=44214\" title=\"氧化还原反应\">',\n",
       " '<doc id=\"44217\" url=\"https://zh.wikipedia.org/wiki?curid=44217\" title=\"大气污染控制\">',\n",
       " '<doc id=\"44218\" url=\"https://zh.wikipedia.org/wiki?curid=44218\" title=\"明长城\">',\n",
       " '<doc id=\"44221\" url=\"https://zh.wikipedia.org/wiki?curid=44221\" title=\"小行星3388\">',\n",
       " '<doc id=\"44224\" url=\"https://zh.wikipedia.org/wiki?curid=44224\" title=\"大埔\">',\n",
       " '<doc id=\"44228\" url=\"https://zh.wikipedia.org/wiki?curid=44228\" title=\"中国民主同盟\">',\n",
       " '<doc id=\"44229\" url=\"https://zh.wikipedia.org/wiki?curid=44229\" title=\"丁石孙\">',\n",
       " '<doc id=\"44237\" url=\"https://zh.wikipedia.org/wiki?curid=44237\" title=\"观鸟\">',\n",
       " '<doc id=\"44242\" url=\"https://zh.wikipedia.org/wiki?curid=44242\" title=\"龟头\">',\n",
       " '<doc id=\"44245\" url=\"https://zh.wikipedia.org/wiki?curid=44245\" title=\"肛门\">',\n",
       " '<doc id=\"44246\" url=\"https://zh.wikipedia.org/wiki?curid=44246\" title=\"南唐\">',\n",
       " '<doc id=\"44248\" url=\"https://zh.wikipedia.org/wiki?curid=44248\" title=\"膀胱\">',\n",
       " '<doc id=\"44261\" url=\"https://zh.wikipedia.org/wiki?curid=44261\" title=\"余英时\">',\n",
       " '<doc id=\"44262\" url=\"https://zh.wikipedia.org/wiki?curid=44262\" title=\"清洁能源\">',\n",
       " '<doc id=\"44266\" url=\"https://zh.wikipedia.org/wiki?curid=44266\" title=\"教育心理学\">',\n",
       " '<doc id=\"44268\" url=\"https://zh.wikipedia.org/wiki?curid=44268\" title=\"吴蕴瑞\">',\n",
       " '<doc id=\"44269\" url=\"https://zh.wikipedia.org/wiki?curid=44269\" title=\"氯丙醇\">',\n",
       " '<doc id=\"44278\" url=\"https://zh.wikipedia.org/wiki?curid=44278\" title=\"中华人民共和国文物保护制度\">',\n",
       " '<doc id=\"44280\" url=\"https://zh.wikipedia.org/wiki?curid=44280\" title=\"何伟途\">',\n",
       " '<doc id=\"44288\" url=\"https://zh.wikipedia.org/wiki?curid=44288\" title=\"立法会\">',\n",
       " '<doc id=\"44293\" url=\"https://zh.wikipedia.org/wiki?curid=44293\" title=\"北京大学药学院\">',\n",
       " '<doc id=\"44296\" url=\"https://zh.wikipedia.org/wiki?curid=44296\" title=\"沙丘系列小说\">',\n",
       " '<doc id=\"44297\" url=\"https://zh.wikipedia.org/wiki?curid=44297\" title=\"小行星89959\">',\n",
       " '<doc id=\"44316\" url=\"https://zh.wikipedia.org/wiki?curid=44316\" title=\"水污染控制\">',\n",
       " '<doc id=\"44323\" url=\"https://zh.wikipedia.org/wiki?curid=44323\" title=\"多神论\">',\n",
       " '<doc id=\"44327\" url=\"https://zh.wikipedia.org/wiki?curid=44327\" title=\"中巴\">',\n",
       " '<doc id=\"44336\" url=\"https://zh.wikipedia.org/wiki?curid=44336\" title=\"晏阳初\">',\n",
       " '<doc id=\"44337\" url=\"https://zh.wikipedia.org/wiki?curid=44337\" title=\"焖子\">',\n",
       " '<doc id=\"44339\" url=\"https://zh.wikipedia.org/wiki?curid=44339\" title=\"香港地铁\">',\n",
       " '<doc id=\"44350\" url=\"https://zh.wikipedia.org/wiki?curid=44350\" title=\"1923年华人移民法\">',\n",
       " '<doc id=\"44361\" url=\"https://zh.wikipedia.org/wiki?curid=44361\" title=\"罗大佑\">',\n",
       " '<doc id=\"44367\" url=\"https://zh.wikipedia.org/wiki?curid=44367\" title=\"国标麻将\">',\n",
       " '<doc id=\"44378\" url=\"https://zh.wikipedia.org/wiki?curid=44378\" title=\"饮水思源BBS\">',\n",
       " '<doc id=\"44379\" url=\"https://zh.wikipedia.org/wiki?curid=44379\" title=\"单行小程式\">',\n",
       " '<doc id=\"44380\" url=\"https://zh.wikipedia.org/wiki?curid=44380\" title=\"儿童色情\">',\n",
       " '<doc id=\"44385\" url=\"https://zh.wikipedia.org/wiki?curid=44385\" title=\"南通大学\">',\n",
       " '<doc id=\"44388\" url=\"https://zh.wikipedia.org/wiki?curid=44388\" title=\"神秘岛\">',\n",
       " '<doc id=\"44392\" url=\"https://zh.wikipedia.org/wiki?curid=44392\" title=\"美国众议院议长\">',\n",
       " '<doc id=\"44394\" url=\"https://zh.wikipedia.org/wiki?curid=44394\" title=\"元惠宗\">',\n",
       " '<doc id=\"44395\" url=\"https://zh.wikipedia.org/wiki?curid=44395\" title=\"蛋\">',\n",
       " '<doc id=\"44397\" url=\"https://zh.wikipedia.org/wiki?curid=44397\" title=\"收费道路\">',\n",
       " '<doc id=\"44413\" url=\"https://zh.wikipedia.org/wiki?curid=44413\" title=\"藏人行政中央\">',\n",
       " '<doc id=\"44418\" url=\"https://zh.wikipedia.org/wiki?curid=44418\" title=\"徐四金\">',\n",
       " '<doc id=\"44429\" url=\"https://zh.wikipedia.org/wiki?curid=44429\" title=\"圣劳伦斯河\">',\n",
       " '<doc id=\"44442\" url=\"https://zh.wikipedia.org/wiki?curid=44442\" title=\"高级语言\">',\n",
       " '<doc id=\"44447\" url=\"https://zh.wikipedia.org/wiki?curid=44447\" title=\"中国共产党中央军事委员会主席\">',\n",
       " '<doc id=\"44456\" url=\"https://zh.wikipedia.org/wiki?curid=44456\" title=\"挪威国旗\">',\n",
       " '<doc id=\"44463\" url=\"https://zh.wikipedia.org/wiki?curid=44463\" title=\"Haskell\">',\n",
       " '<doc id=\"44487\" url=\"https://zh.wikipedia.org/wiki?curid=44487\" title=\"宝马山双尸案\">',\n",
       " '<doc id=\"44491\" url=\"https://zh.wikipedia.org/wiki?curid=44491\" title=\"加拿大历史\">',\n",
       " '<doc id=\"44492\" url=\"https://zh.wikipedia.org/wiki?curid=44492\" title=\"中华人民共和国通信\">',\n",
       " '<doc id=\"44499\" url=\"https://zh.wikipedia.org/wiki?curid=44499\" title=\"自助旅游\">',\n",
       " '<doc id=\"44502\" url=\"https://zh.wikipedia.org/wiki?curid=44502\" title=\"旅行社\">',\n",
       " '<doc id=\"44505\" url=\"https://zh.wikipedia.org/wiki?curid=44505\" title=\"半自助旅游\">',\n",
       " '<doc id=\"44507\" url=\"https://zh.wikipedia.org/wiki?curid=44507\" title=\"狮子头\">',\n",
       " '<doc id=\"44511\" url=\"https://zh.wikipedia.org/wiki?curid=44511\" title=\"觉囊派\">',\n",
       " '<doc id=\"44513\" url=\"https://zh.wikipedia.org/wiki?curid=44513\" title=\"机票\">',\n",
       " '<doc id=\"44524\" url=\"https://zh.wikipedia.org/wiki?curid=44524\" title=\"霍元甲\">',\n",
       " '<doc id=\"44525\" url=\"https://zh.wikipedia.org/wiki?curid=44525\" title=\"宇宙语言学\">',\n",
       " '<doc id=\"44526\" url=\"https://zh.wikipedia.org/wiki?curid=44526\" title=\"傅铁山\">',\n",
       " '<doc id=\"44529\" url=\"https://zh.wikipedia.org/wiki?curid=44529\" title=\"宇宙语言\">',\n",
       " '<doc id=\"44531\" url=\"https://zh.wikipedia.org/wiki?curid=44531\" title=\"Maya\">',\n",
       " '<doc id=\"44536\" url=\"https://zh.wikipedia.org/wiki?curid=44536\" title=\"殷墟\">',\n",
       " '<doc id=\"44545\" url=\"https://zh.wikipedia.org/wiki?curid=44545\" title=\"泽西\">',\n",
       " '<doc id=\"44552\" url=\"https://zh.wikipedia.org/wiki?curid=44552\" title=\"舟山市\">',\n",
       " '<doc id=\"44559\" url=\"https://zh.wikipedia.org/wiki?curid=44559\" title=\"山海关区\">',\n",
       " '<doc id=\"44566\" url=\"https://zh.wikipedia.org/wiki?curid=44566\" title=\"顺义区\">',\n",
       " '<doc id=\"44567\" url=\"https://zh.wikipedia.org/wiki?curid=44567\" title=\"塘沽区\">',\n",
       " '<doc id=\"44568\" url=\"https://zh.wikipedia.org/wiki?curid=44568\" title=\"武清区\">',\n",
       " '<doc id=\"44569\" url=\"https://zh.wikipedia.org/wiki?curid=44569\" title=\"杏花岭区\">',\n",
       " '<doc id=\"44570\" url=\"https://zh.wikipedia.org/wiki?curid=44570\" title=\"株洲市\">',\n",
       " '<doc id=\"44573\" url=\"https://zh.wikipedia.org/wiki?curid=44573\" title=\"训诂学\">',\n",
       " '<doc id=\"44591\" url=\"https://zh.wikipedia.org/wiki?curid=44591\" title=\"余仁生\">',\n",
       " '<doc id=\"44618\" url=\"https://zh.wikipedia.org/wiki?curid=44618\" title=\"脑震盪\">',\n",
       " '<doc id=\"44619\" url=\"https://zh.wikipedia.org/wiki?curid=44619\" title=\"墨西哥电影列表\">',\n",
       " '<doc id=\"44621\" url=\"https://zh.wikipedia.org/wiki?curid=44621\" title=\"加拿大政治\">',\n",
       " '<doc id=\"44634\" url=\"https://zh.wikipedia.org/wiki?curid=44634\" title=\"逻辑编程\">',\n",
       " '<doc id=\"44636\" url=\"https://zh.wikipedia.org/wiki?curid=44636\" title=\"速记\">',\n",
       " '<doc id=\"44639\" url=\"https://zh.wikipedia.org/wiki?curid=44639\" title=\"浦安市\">',\n",
       " '<doc id=\"44643\" url=\"https://zh.wikipedia.org/wiki?curid=44643\" title=\"孝感市\">',\n",
       " '<doc id=\"44645\" url=\"https://zh.wikipedia.org/wiki?curid=44645\" title=\"欧拉公式\">',\n",
       " '<doc id=\"44649\" url=\"https://zh.wikipedia.org/wiki?curid=44649\" title=\"资产测查补助\">',\n",
       " '<doc id=\"44653\" url=\"https://zh.wikipedia.org/wiki?curid=44653\" title=\"黄志雄\">',\n",
       " '<doc id=\"44656\" url=\"https://zh.wikipedia.org/wiki?curid=44656\" title=\"媒介语\">',\n",
       " '<doc id=\"44657\" url=\"https://zh.wikipedia.org/wiki?curid=44657\" title=\"十二铜表法\">',\n",
       " '<doc id=\"44662\" url=\"https://zh.wikipedia.org/wiki?curid=44662\" title=\"微分几何\">',\n",
       " '<doc id=\"44665\" url=\"https://zh.wikipedia.org/wiki?curid=44665\" title=\"可见光\">',\n",
       " '<doc id=\"44668\" url=\"https://zh.wikipedia.org/wiki?curid=44668\" title=\"阳泉市\">',\n",
       " '<doc id=\"44670\" url=\"https://zh.wikipedia.org/wiki?curid=44670\" title=\"榆次区\">',\n",
       " '<doc id=\"44671\" url=\"https://zh.wikipedia.org/wiki?curid=44671\" title=\"昔阳县\">',\n",
       " '<doc id=\"44672\" url=\"https://zh.wikipedia.org/wiki?curid=44672\" title=\"大煮干丝\">',\n",
       " '<doc id=\"44673\" url=\"https://zh.wikipedia.org/wiki?curid=44673\" title=\"卤化银\">',\n",
       " '<doc id=\"44674\" url=\"https://zh.wikipedia.org/wiki?curid=44674\" title=\"长治市\">',\n",
       " '<doc id=\"44675\" url=\"https://zh.wikipedia.org/wiki?curid=44675\" title=\"长治\">',\n",
       " '<doc id=\"44677\" url=\"https://zh.wikipedia.org/wiki?curid=44677\" title=\"晋城市\">',\n",
       " '<doc id=\"44679\" url=\"https://zh.wikipedia.org/wiki?curid=44679\" title=\"曲沃县\">',\n",
       " '<doc id=\"44681\" url=\"https://zh.wikipedia.org/wiki?curid=44681\" title=\"吕梁市\">',\n",
       " '<doc id=\"44683\" url=\"https://zh.wikipedia.org/wiki?curid=44683\" title=\"忻州市\">',\n",
       " '<doc id=\"44685\" url=\"https://zh.wikipedia.org/wiki?curid=44685\" title=\"朔州市\">',\n",
       " '<doc id=\"44688\" url=\"https://zh.wikipedia.org/wiki?curid=44688\" title=\"乌海市\">',\n",
       " '<doc id=\"44690\" url=\"https://zh.wikipedia.org/wiki?curid=44690\" title=\"通辽市\">',\n",
       " '<doc id=\"44692\" url=\"https://zh.wikipedia.org/wiki?curid=44692\" title=\"鄂尔多斯市\">',\n",
       " '<doc id=\"44694\" url=\"https://zh.wikipedia.org/wiki?curid=44694\" title=\"唿伦贝尔市\">',\n",
       " '<doc id=\"44697\" url=\"https://zh.wikipedia.org/wiki?curid=44697\" title=\"乌兰察布市\">',\n",
       " '<doc id=\"44699\" url=\"https://zh.wikipedia.org/wiki?curid=44699\" title=\"巴彦淖尔市\">',\n",
       " '<doc id=\"44700\" url=\"https://zh.wikipedia.org/wiki?curid=44700\" title=\"兴安盟\">',\n",
       " '<doc id=\"44701\" url=\"https://zh.wikipedia.org/wiki?curid=44701\" title=\"兴安\">',\n",
       " '<doc id=\"44703\" url=\"https://zh.wikipedia.org/wiki?curid=44703\" title=\"锡林郭勒盟\">',\n",
       " '<doc id=\"44714\" url=\"https://zh.wikipedia.org/wiki?curid=44714\" title=\"跳水\">',\n",
       " '<doc id=\"44720\" url=\"https://zh.wikipedia.org/wiki?curid=44720\" title=\"梨花女子大学\">',\n",
       " '<doc id=\"44724\" url=\"https://zh.wikipedia.org/wiki?curid=44724\" title=\"太和\">',\n",
       " '<doc id=\"44727\" url=\"https://zh.wikipedia.org/wiki?curid=44727\" title=\"梁燕城\">',\n",
       " '<doc id=\"44739\" url=\"https://zh.wikipedia.org/wiki?curid=44739\" title=\"LaTeX\">',\n",
       " '<doc id=\"44753\" url=\"https://zh.wikipedia.org/wiki?curid=44753\" title=\"云岘宫\">',\n",
       " '<doc id=\"44758\" url=\"https://zh.wikipedia.org/wiki?curid=44758\" title=\"伯克\">',\n",
       " '<doc id=\"44761\" url=\"https://zh.wikipedia.org/wiki?curid=44761\" title=\"昌德宫后苑\">',\n",
       " '<doc id=\"44764\" url=\"https://zh.wikipedia.org/wiki?curid=44764\" title=\"巡回展览画派\">',\n",
       " '<doc id=\"44783\" url=\"https://zh.wikipedia.org/wiki?curid=44783\" title=\"Nvu\">',\n",
       " '<doc id=\"44787\" url=\"https://zh.wikipedia.org/wiki?curid=44787\" title=\"文艺复兴音乐\">',\n",
       " '<doc id=\"44788\" url=\"https://zh.wikipedia.org/wiki?curid=44788\" title=\"舞钢市\">',\n",
       " '<doc id=\"44791\" url=\"https://zh.wikipedia.org/wiki?curid=44791\" title=\"中世纪音乐\">',\n",
       " '<doc id=\"44794\" url=\"https://zh.wikipedia.org/wiki?curid=44794\" title=\"易录系统\">',\n",
       " '<doc id=\"44795\" url=\"https://zh.wikipedia.org/wiki?curid=44795\" title=\"南北国时代\">',\n",
       " '<doc id=\"44798\" url=\"https://zh.wikipedia.org/wiki?curid=44798\" title=\"辅仁大学\">',\n",
       " '<doc id=\"44799\" url=\"https://zh.wikipedia.org/wiki?curid=44799\" title=\"图瓦\">',\n",
       " '<doc id=\"44806\" url=\"https://zh.wikipedia.org/wiki?curid=44806\" title=\"乞乞仲象\">',\n",
       " '<doc id=\"44807\" url=\"https://zh.wikipedia.org/wiki?curid=44807\" title=\"社会角色\">',\n",
       " '<doc id=\"44809\" url=\"https://zh.wikipedia.org/wiki?curid=44809\" title=\"阿拉善盟\">',\n",
       " '<doc id=\"44811\" url=\"https://zh.wikipedia.org/wiki?curid=44811\" title=\"海淀区\">',\n",
       " '<doc id=\"44813\" url=\"https://zh.wikipedia.org/wiki?curid=44813\" title=\"澳门政治\">',\n",
       " '<doc id=\"44819\" url=\"https://zh.wikipedia.org/wiki?curid=44819\" title=\"自治旗\">',\n",
       " '<doc id=\"44820\" url=\"https://zh.wikipedia.org/wiki?curid=44820\" title=\"龙山区\">',\n",
       " '<doc id=\"44822\" url=\"https://zh.wikipedia.org/wiki?curid=44822\" title=\"丁盛\">',\n",
       " '<doc id=\"44842\" url=\"https://zh.wikipedia.org/wiki?curid=44842\" title=\"中华人民共和国国家标准\">',\n",
       " '<doc id=\"44844\" url=\"https://zh.wikipedia.org/wiki?curid=44844\" title=\"顾恺之\">',\n",
       " '<doc id=\"44850\" url=\"https://zh.wikipedia.org/wiki?curid=44850\" title=\"加拿大\">',\n",
       " '<doc id=\"44860\" url=\"https://zh.wikipedia.org/wiki?curid=44860\" title=\"国家标准代码\">',\n",
       " '<doc id=\"44862\" url=\"https://zh.wikipedia.org/wiki?curid=44862\" title=\"国际电工委员会\">',\n",
       " '<doc id=\"44866\" url=\"https://zh.wikipedia.org/wiki?curid=44866\" title=\"A4\">',\n",
       " '<doc id=\"44867\" url=\"https://zh.wikipedia.org/wiki?curid=44867\" title=\"台北市立景美女子高级中学\">',\n",
       " '<doc id=\"44876\" url=\"https://zh.wikipedia.org/wiki?curid=44876\" title=\"紫心勋章\">',\n",
       " '<doc id=\"44889\" url=\"https://zh.wikipedia.org/wiki?curid=44889\" title=\"芬斯勒流形\">',\n",
       " '<doc id=\"44891\" url=\"https://zh.wikipedia.org/wiki?curid=44891\" title=\"叶菊兰\">',\n",
       " '<doc id=\"44892\" url=\"https://zh.wikipedia.org/wiki?curid=44892\" title=\"元素周期\">',\n",
       " '<doc id=\"44895\" url=\"https://zh.wikipedia.org/wiki?curid=44895\" title=\"日报\">',\n",
       " '<doc id=\"44901\" url=\"https://zh.wikipedia.org/wiki?curid=44901\" title=\"前300年\">',\n",
       " '<doc id=\"44902\" url=\"https://zh.wikipedia.org/wiki?curid=44902\" title=\"辛巴威\">',\n",
       " '<doc id=\"44930\" url=\"https://zh.wikipedia.org/wiki?curid=44930\" title=\"本溪市\">',\n",
       " '<doc id=\"44931\" url=\"https://zh.wikipedia.org/wiki?curid=44931\" title=\"朝阳市\">',\n",
       " '<doc id=\"44932\" url=\"https://zh.wikipedia.org/wiki?curid=44932\" title=\"营口市\">',\n",
       " '<doc id=\"44933\" url=\"https://zh.wikipedia.org/wiki?curid=44933\" title=\"中国金鹰电视艺术节\">',\n",
       " '<doc id=\"44935\" url=\"https://zh.wikipedia.org/wiki?curid=44935\" title=\"乌尔\">',\n",
       " '<doc id=\"44938\" url=\"https://zh.wikipedia.org/wiki?curid=44938\" title=\"辽源市\">',\n",
       " '<doc id=\"44941\" url=\"https://zh.wikipedia.org/wiki?curid=44941\" title=\"白城市\">',\n",
       " '<doc id=\"44942\" url=\"https://zh.wikipedia.org/wiki?curid=44942\" title=\"延边朝鲜族自治州\">',\n",
       " '<doc id=\"44945\" url=\"https://zh.wikipedia.org/wiki?curid=44945\" title=\"卢旺达\">',\n",
       " '<doc id=\"44950\" url=\"https://zh.wikipedia.org/wiki?curid=44950\" title=\"李鹏飞\">',\n",
       " '<doc id=\"44951\" url=\"https://zh.wikipedia.org/wiki?curid=44951\" title=\"香港商业电台\">',\n",
       " '<doc id=\"44954\" url=\"https://zh.wikipedia.org/wiki?curid=44954\" title=\"山水画\">',\n",
       " '<doc id=\"44960\" url=\"https://zh.wikipedia.org/wiki?curid=44960\" title=\"德国共产党\">',\n",
       " '<doc id=\"44966\" url=\"https://zh.wikipedia.org/wiki?curid=44966\" title=\"学位教师教育文凭课程\">',\n",
       " '<doc id=\"44983\" url=\"https://zh.wikipedia.org/wiki?curid=44983\" title=\"黄毓民\">',\n",
       " '<doc id=\"44988\" url=\"https://zh.wikipedia.org/wiki?curid=44988\" title=\"新城电台\">',\n",
       " '<doc id=\"44995\" url=\"https://zh.wikipedia.org/wiki?curid=44995\" title=\"廖见河\">',\n",
       " '<doc id=\"44999\" url=\"https://zh.wikipedia.org/wiki?curid=44999\" title=\"月神\">',\n",
       " '<doc id=\"45003\" url=\"https://zh.wikipedia.org/wiki?curid=45003\" title=\"尼米兹级核动力航空母舰\">',\n",
       " '<doc id=\"45010\" url=\"https://zh.wikipedia.org/wiki?curid=45010\" title=\"香港巴士\">',\n",
       " '<doc id=\"45011\" url=\"https://zh.wikipedia.org/wiki?curid=45011\" title=\"恐怖热线\">',\n",
       " '<doc id=\"45014\" url=\"https://zh.wikipedia.org/wiki?curid=45014\" title=\"中国电视金鹰奖\">',\n",
       " '<doc id=\"45018\" url=\"https://zh.wikipedia.org/wiki?curid=45018\" title=\"金鹰奖\">',\n",
       " '<doc id=\"45019\" url=\"https://zh.wikipedia.org/wiki?curid=45019\" title=\"黄埔花园\">',\n",
       " '<doc id=\"45022\" url=\"https://zh.wikipedia.org/wiki?curid=45022\" title=\"戴胜\">',\n",
       " '<doc id=\"45023\" url=\"https://zh.wikipedia.org/wiki?curid=45023\" title=\"咖啡因\">',\n",
       " '<doc id=\"75442\" url=\"https://zh.wikipedia.org/wiki?curid=75442\" title=\"香港粤语\">',\n",
       " '<doc id=\"75448\" url=\"https://zh.wikipedia.org/wiki?curid=75448\" title=\"禾本目\">',\n",
       " '<doc id=\"75455\" url=\"https://zh.wikipedia.org/wiki?curid=75455\" title=\"保定陆军军官学校\">',\n",
       " '<doc id=\"75467\" url=\"https://zh.wikipedia.org/wiki?curid=75467\" title=\"马门溪龙属\">',\n",
       " '<doc id=\"75469\" url=\"https://zh.wikipedia.org/wiki?curid=75469\" title=\"长宁区\">',\n",
       " '<doc id=\"75471\" url=\"https://zh.wikipedia.org/wiki?curid=75471\" title=\"李济深\">',\n",
       " '<doc id=\"75472\" url=\"https://zh.wikipedia.org/wiki?curid=75472\" title=\"陈诚\">',\n",
       " '<doc id=\"75473\" url=\"https://zh.wikipedia.org/wiki?curid=75473\" title=\"南怀瑾\">',\n",
       " '<doc id=\"75477\" url=\"https://zh.wikipedia.org/wiki?curid=75477\" title=\"雾峰林家\">',\n",
       " '<doc id=\"75478\" url=\"https://zh.wikipedia.org/wiki?curid=75478\" title=\"突贯小僧\">',\n",
       " '<doc id=\"75481\" url=\"https://zh.wikipedia.org/wiki?curid=75481\" title=\"证言法\">',\n",
       " '<doc id=\"75485\" url=\"https://zh.wikipedia.org/wiki?curid=75485\" title=\"资讯型广告\">',\n",
       " '<doc id=\"75488\" url=\"https://zh.wikipedia.org/wiki?curid=75488\" title=\"嗉囊\">',\n",
       " '<doc id=\"75493\" url=\"https://zh.wikipedia.org/wiki?curid=75493\" title=\"第8号当舖\">',\n",
       " '<doc id=\"75503\" url=\"https://zh.wikipedia.org/wiki?curid=75503\" title=\"我和殭尸有个约会\">',\n",
       " '<doc id=\"75510\" url=\"https://zh.wikipedia.org/wiki?curid=75510\" title=\"荒川弘\">',\n",
       " '<doc id=\"75512\" url=\"https://zh.wikipedia.org/wiki?curid=75512\" title=\"城市定向\">',\n",
       " '<doc id=\"75514\" url=\"https://zh.wikipedia.org/wiki?curid=75514\" title=\"露营\">',\n",
       " '<doc id=\"75523\" url=\"https://zh.wikipedia.org/wiki?curid=75523\" title=\"妖精狩猎者\">',\n",
       " '<doc id=\"75533\" url=\"https://zh.wikipedia.org/wiki?curid=75533\" title=\"六道神士\">',\n",
       " '<doc id=\"75535\" url=\"https://zh.wikipedia.org/wiki?curid=75535\" title=\"HP\">',\n",
       " '<doc id=\"75538\" url=\"https://zh.wikipedia.org/wiki?curid=75538\" title=\"克雷数学研究所\">',\n",
       " '<doc id=\"75539\" url=\"https://zh.wikipedia.org/wiki?curid=75539\" title=\"迷煳女战士\">',\n",
       " '<doc id=\"75540\" url=\"https://zh.wikipedia.org/wiki?curid=75540\" title=\"F区元素\">',\n",
       " '<doc id=\"75543\" url=\"https://zh.wikipedia.org/wiki?curid=75543\" title=\"威尔斯亲王查尔斯\">',\n",
       " '<doc id=\"75550\" url=\"https://zh.wikipedia.org/wiki?curid=75550\" title=\"痒痒鼠与抓抓猫\">',\n",
       " '<doc id=\"75559\" url=\"https://zh.wikipedia.org/wiki?curid=75559\" title=\"光开关\">',\n",
       " '<doc id=\"75564\" url=\"https://zh.wikipedia.org/wiki?curid=75564\" title=\"洋基歌\">',\n",
       " '<doc id=\"75565\" url=\"https://zh.wikipedia.org/wiki?curid=75565\" title=\"特摄片\">',\n",
       " '<doc id=\"75568\" url=\"https://zh.wikipedia.org/wiki?curid=75568\" title=\"洋基\">',\n",
       " '<doc id=\"75569\" url=\"https://zh.wikipedia.org/wiki?curid=75569\" title=\"北京石油化工学院\">',\n",
       " '<doc id=\"75577\" url=\"https://zh.wikipedia.org/wiki?curid=75577\" title=\"三重\">',\n",
       " '<doc id=\"75588\" url=\"https://zh.wikipedia.org/wiki?curid=75588\" title=\"提非纳文字\">',\n",
       " '<doc id=\"75592\" url=\"https://zh.wikipedia.org/wiki?curid=75592\" title=\"维基物种\">',\n",
       " '<doc id=\"75597\" url=\"https://zh.wikipedia.org/wiki?curid=75597\" title=\"蠼螋\">',\n",
       " '<doc id=\"75603\" url=\"https://zh.wikipedia.org/wiki?curid=75603\" title=\"陈履安\">',\n",
       " '<doc id=\"75608\" url=\"https://zh.wikipedia.org/wiki?curid=75608\" title=\"胡乔木\">',\n",
       " '<doc id=\"75626\" url=\"https://zh.wikipedia.org/wiki?curid=75626\" title=\"卢嘉锡\">',\n",
       " '<doc id=\"75634\" url=\"https://zh.wikipedia.org/wiki?curid=75634\" title=\"爱德华\">',\n",
       " '<doc id=\"75637\" url=\"https://zh.wikipedia.org/wiki?curid=75637\" title=\"短裤\">',\n",
       " '<doc id=\"75641\" url=\"https://zh.wikipedia.org/wiki?curid=75641\" title=\"草本植物\">',\n",
       " '<doc id=\"75642\" url=\"https://zh.wikipedia.org/wiki?curid=75642\" title=\"黑太子爱德华\">',\n",
       " '<doc id=\"75648\" url=\"https://zh.wikipedia.org/wiki?curid=75648\" title=\"2001太空漫游\">',\n",
       " '<doc id=\"75652\" url=\"https://zh.wikipedia.org/wiki?curid=75652\" title=\"伊萨克一世\">',\n",
       " '<doc id=\"75656\" url=\"https://zh.wikipedia.org/wiki?curid=75656\" title=\"连山\">',\n",
       " '<doc id=\"75658\" url=\"https://zh.wikipedia.org/wiki?curid=75658\" title=\"连山壮族瑶族自治县\">',\n",
       " '<doc id=\"75670\" url=\"https://zh.wikipedia.org/wiki?curid=75670\" title=\"吉斯家族\">',\n",
       " '<doc id=\"75690\" url=\"https://zh.wikipedia.org/wiki?curid=75690\" title=\"姚蓬子\">',\n",
       " '<doc id=\"75693\" url=\"https://zh.wikipedia.org/wiki?curid=75693\" title=\"视黄醇\">',\n",
       " '<doc id=\"75702\" url=\"https://zh.wikipedia.org/wiki?curid=75702\" title=\"独立日\">',\n",
       " '<doc id=\"75703\" url=\"https://zh.wikipedia.org/wiki?curid=75703\" title=\"吉斯公爵\">',\n",
       " '<doc id=\"75704\" url=\"https://zh.wikipedia.org/wiki?curid=75704\" title=\"卡拉卡瓦\">',\n",
       " '<doc id=\"75727\" url=\"https://zh.wikipedia.org/wiki?curid=75727\" title=\"横滨地标大厦\">',\n",
       " '<doc id=\"75729\" url=\"https://zh.wikipedia.org/wiki?curid=75729\" title=\"时间悖论\">',\n",
       " '<doc id=\"75730\" url=\"https://zh.wikipedia.org/wiki?curid=75730\" title=\"叶永烈\">',\n",
       " '<doc id=\"75733\" url=\"https://zh.wikipedia.org/wiki?curid=75733\" title=\"锦葵科\">',\n",
       " '<doc id=\"75735\" url=\"https://zh.wikipedia.org/wiki?curid=75735\" title=\"国际鼓号乐队联盟\">',\n",
       " '<doc id=\"75736\" url=\"https://zh.wikipedia.org/wiki?curid=75736\" title=\"愤怒的公牛\">',\n",
       " '<doc id=\"75742\" url=\"https://zh.wikipedia.org/wiki?curid=75742\" title=\"北京印刷学院\">',\n",
       " '<doc id=\"75745\" url=\"https://zh.wikipedia.org/wiki?curid=75745\" title=\"田中镇\">',\n",
       " '<doc id=\"75747\" url=\"https://zh.wikipedia.org/wiki?curid=75747\" title=\"致癌物质\">',\n",
       " '<doc id=\"75749\" url=\"https://zh.wikipedia.org/wiki?curid=75749\" title=\"Handspring\">',\n",
       " '<doc id=\"75755\" url=\"https://zh.wikipedia.org/wiki?curid=75755\" title=\"喀斯特地形\">',\n",
       " '<doc id=\"75758\" url=\"https://zh.wikipedia.org/wiki?curid=75758\" title=\"足智彩\">',\n",
       " '<doc id=\"75768\" url=\"https://zh.wikipedia.org/wiki?curid=75768\" title=\"东巴文化\">',\n",
       " '<doc id=\"75770\" url=\"https://zh.wikipedia.org/wiki?curid=75770\" title=\"东巴文\">',\n",
       " '<doc id=\"75774\" url=\"https://zh.wikipedia.org/wiki?curid=75774\" title=\"灰椋鸟\">',\n",
       " '<doc id=\"75776\" url=\"https://zh.wikipedia.org/wiki?curid=75776\" title=\"谢灵运\">',\n",
       " '<doc id=\"75786\" url=\"https://zh.wikipedia.org/wiki?curid=75786\" title=\"罗卡角\">',\n",
       " '<doc id=\"75789\" url=\"https://zh.wikipedia.org/wiki?curid=75789\" title=\"加格达奇区\">',\n",
       " '<doc id=\"75792\" url=\"https://zh.wikipedia.org/wiki?curid=75792\" title=\"多孔动物门\">',\n",
       " '<doc id=\"75799\" url=\"https://zh.wikipedia.org/wiki?curid=75799\" title=\"钙质海绵纲\">',\n",
       " '<doc id=\"75800\" url=\"https://zh.wikipedia.org/wiki?curid=75800\" title=\"硬海绵\">',\n",
       " '<doc id=\"75803\" url=\"https://zh.wikipedia.org/wiki?curid=75803\" title=\"薛家岗遗址\">',\n",
       " '<doc id=\"75804\" url=\"https://zh.wikipedia.org/wiki?curid=75804\" title=\"原生动物\">',\n",
       " '<doc id=\"75822\" url=\"https://zh.wikipedia.org/wiki?curid=75822\" title=\"尼龙\">',\n",
       " '<doc id=\"75825\" url=\"https://zh.wikipedia.org/wiki?curid=75825\" title=\"大叶大学\">',\n",
       " '<doc id=\"75826\" url=\"https://zh.wikipedia.org/wiki?curid=75826\" title=\"本因坊秀策\">',\n",
       " '<doc id=\"75827\" url=\"https://zh.wikipedia.org/wiki?curid=75827\" title=\"同光同志长老教会\">',\n",
       " '<doc id=\"75833\" url=\"https://zh.wikipedia.org/wiki?curid=75833\" title=\"米田功\">',\n",
       " '<doc id=\"75835\" url=\"https://zh.wikipedia.org/wiki?curid=75835\" title=\"茶陵县第一中学\">',\n",
       " '<doc id=\"75844\" url=\"https://zh.wikipedia.org/wiki?curid=75844\" title=\"吉星文\">',\n",
       " '<doc id=\"75853\" url=\"https://zh.wikipedia.org/wiki?curid=75853\" title=\"马勒\">',\n",
       " '<doc id=\"75875\" url=\"https://zh.wikipedia.org/wiki?curid=75875\" title=\"刺胞动物门\">',\n",
       " '<doc id=\"75876\" url=\"https://zh.wikipedia.org/wiki?curid=75876\" title=\"棘头动物门\">',\n",
       " '<doc id=\"75877\" url=\"https://zh.wikipedia.org/wiki?curid=75877\" title=\"二次剩余\">',\n",
       " '<doc id=\"75880\" url=\"https://zh.wikipedia.org/wiki?curid=75880\" title=\"轮形动物门\">',\n",
       " '<doc id=\"75882\" url=\"https://zh.wikipedia.org/wiki?curid=75882\" title=\"腹毛动物门\">',\n",
       " '<doc id=\"75884\" url=\"https://zh.wikipedia.org/wiki?curid=75884\" title=\"动吻动物门\">',\n",
       " '<doc id=\"75885\" url=\"https://zh.wikipedia.org/wiki?curid=75885\" title=\"马来西亚令吉\">',\n",
       " '<doc id=\"75886\" url=\"https://zh.wikipedia.org/wiki?curid=75886\" title=\"线虫动物门\">',\n",
       " '<doc id=\"75889\" url=\"https://zh.wikipedia.org/wiki?curid=75889\" title=\"线形虫动物门\">',\n",
       " '<doc id=\"75890\" url=\"https://zh.wikipedia.org/wiki?curid=75890\" title=\"内肛动物门\">',\n",
       " '<doc id=\"75891\" url=\"https://zh.wikipedia.org/wiki?curid=75891\" title=\"秦九韶\">',\n",
       " '<doc id=\"75892\" url=\"https://zh.wikipedia.org/wiki?curid=75892\" title=\"颚胃动物门\">',\n",
       " '<doc id=\"75895\" url=\"https://zh.wikipedia.org/wiki?curid=75895\" title=\"扁形动物门\">',\n",
       " '<doc id=\"75897\" url=\"https://zh.wikipedia.org/wiki?curid=75897\" title=\"纽形动物门\">',\n",
       " '<doc id=\"75898\" url=\"https://zh.wikipedia.org/wiki?curid=75898\" title=\"德国战车\">',\n",
       " '<doc id=\"75900\" url=\"https://zh.wikipedia.org/wiki?curid=75900\" title=\"万民福音部\">',\n",
       " '<doc id=\"75905\" url=\"https://zh.wikipedia.org/wiki?curid=75905\" title=\"铁拳系列\">',\n",
       " '<doc id=\"75910\" url=\"https://zh.wikipedia.org/wiki?curid=75910\" title=\"谢安\">',\n",
       " '<doc id=\"75912\" url=\"https://zh.wikipedia.org/wiki?curid=75912\" title=\"萱草\">',\n",
       " '<doc id=\"75913\" url=\"https://zh.wikipedia.org/wiki?curid=75913\" title=\"三哩岛核泄漏事故\">',\n",
       " '<doc id=\"75917\" url=\"https://zh.wikipedia.org/wiki?curid=75917\" title=\"极限烫衣\">',\n",
       " '<doc id=\"75918\" url=\"https://zh.wikipedia.org/wiki?curid=75918\" title=\"谢玄\">',\n",
       " '<doc id=\"75922\" url=\"https://zh.wikipedia.org/wiki?curid=75922\" title=\"ACG\">',\n",
       " '<doc id=\"75923\" url=\"https://zh.wikipedia.org/wiki?curid=75923\" title=\"铁拳系列角色列表\">',\n",
       " '<doc id=\"75928\" url=\"https://zh.wikipedia.org/wiki?curid=75928\" title=\"姜\">',\n",
       " '<doc id=\"75931\" url=\"https://zh.wikipedia.org/wiki?curid=75931\" title=\"史前不列颠\">',\n",
       " '<doc id=\"75932\" url=\"https://zh.wikipedia.org/wiki?curid=75932\" title=\"线西乡\">',\n",
       " '<doc id=\"75934\" url=\"https://zh.wikipedia.org/wiki?curid=75934\" title=\"丢番图方程\">',\n",
       " '<doc id=\"75937\" url=\"https://zh.wikipedia.org/wiki?curid=75937\" title=\"伸港乡\">',\n",
       " '<doc id=\"75938\" url=\"https://zh.wikipedia.org/wiki?curid=75938\" title=\"干宝\">',\n",
       " '<doc id=\"75939\" url=\"https://zh.wikipedia.org/wiki?curid=75939\" title=\"中校\">',\n",
       " '<doc id=\"75941\" url=\"https://zh.wikipedia.org/wiki?curid=75941\" title=\"华佗\">',\n",
       " '<doc id=\"75942\" url=\"https://zh.wikipedia.org/wiki?curid=75942\" title=\"少校\">',\n",
       " '<doc id=\"75949\" url=\"https://zh.wikipedia.org/wiki?curid=75949\" title=\"Cosplay\">',\n",
       " '<doc id=\"75951\" url=\"https://zh.wikipedia.org/wiki?curid=75951\" title=\"邓世昌\">',\n",
       " '<doc id=\"75953\" url=\"https://zh.wikipedia.org/wiki?curid=75953\" title=\"邓稼先\">',\n",
       " '<doc id=\"75955\" url=\"https://zh.wikipedia.org/wiki?curid=75955\" title=\"胡雪巖\">',\n",
       " '<doc id=\"75966\" url=\"https://zh.wikipedia.org/wiki?curid=75966\" title=\"同人女\">',\n",
       " '<doc id=\"75967\" url=\"https://zh.wikipedia.org/wiki?curid=75967\" title=\"芬园乡\">',\n",
       " '<doc id=\"75975\" url=\"https://zh.wikipedia.org/wiki?curid=75975\" title=\"学习理论\">',\n",
       " '<doc id=\"75976\" url=\"https://zh.wikipedia.org/wiki?curid=75976\" title=\"汤和墓\">',\n",
       " '<doc id=\"75979\" url=\"https://zh.wikipedia.org/wiki?curid=75979\" title=\"奥斯威辛集中营\">',\n",
       " '<doc id=\"75982\" url=\"https://zh.wikipedia.org/wiki?curid=75982\" title=\"汤和\">',\n",
       " '<doc id=\"75983\" url=\"https://zh.wikipedia.org/wiki?curid=75983\" title=\"自然经济\">',\n",
       " '<doc id=\"75987\" url=\"https://zh.wikipedia.org/wiki?curid=75987\" title=\"松江大学城\">',\n",
       " '<doc id=\"75998\" url=\"https://zh.wikipedia.org/wiki?curid=75998\" title=\"往复式发动机\">',\n",
       " '<doc id=\"76008\" url=\"https://zh.wikipedia.org/wiki?curid=76008\" title=\"神探阿蒙\">',\n",
       " '<doc id=\"76012\" url=\"https://zh.wikipedia.org/wiki?curid=76012\" title=\"台北市立万芳高级中学\">',\n",
       " '<doc id=\"76020\" url=\"https://zh.wikipedia.org/wiki?curid=76020\" title=\"秃鼻乌鸦\">',\n",
       " '<doc id=\"76022\" url=\"https://zh.wikipedia.org/wiki?curid=76022\" title=\"花坛乡\">',\n",
       " '<doc id=\"76027\" url=\"https://zh.wikipedia.org/wiki?curid=76027\" title=\"香港地理\">',\n",
       " '<doc id=\"76028\" url=\"https://zh.wikipedia.org/wiki?curid=76028\" title=\"常遇春\">',\n",
       " '<doc id=\"76035\" url=\"https://zh.wikipedia.org/wiki?curid=76035\" title=\"二林镇\">',\n",
       " '<doc id=\"76036\" url=\"https://zh.wikipedia.org/wiki?curid=76036\" title=\"武丁\">',\n",
       " '<doc id=\"76037\" url=\"https://zh.wikipedia.org/wiki?curid=76037\" title=\"Macromedia\">',\n",
       " '<doc id=\"76040\" url=\"https://zh.wikipedia.org/wiki?curid=76040\" title=\"谢清高\">',\n",
       " '<doc id=\"76046\" url=\"https://zh.wikipedia.org/wiki?curid=76046\" title=\"山崎拓\">',\n",
       " '<doc id=\"76050\" url=\"https://zh.wikipedia.org/wiki?curid=76050\" title=\"创龙传\">',\n",
       " '<doc id=\"76054\" url=\"https://zh.wikipedia.org/wiki?curid=76054\" title=\"宁高宁\">',\n",
       " '<doc id=\"76060\" url=\"https://zh.wikipedia.org/wiki?curid=76060\" title=\"座右铭\">',\n",
       " '<doc id=\"76067\" url=\"https://zh.wikipedia.org/wiki?curid=76067\" title=\"声声慢\">',\n",
       " '<doc id=\"76068\" url=\"https://zh.wikipedia.org/wiki?curid=76068\" title=\"双双燕\">',\n",
       " '<doc id=\"76069\" url=\"https://zh.wikipedia.org/wiki?curid=76069\" title=\"读卖新闻\">',\n",
       " '<doc id=\"76073\" url=\"https://zh.wikipedia.org/wiki?curid=76073\" title=\"L棋\">',\n",
       " '<doc id=\"76077\" url=\"https://zh.wikipedia.org/wiki?curid=76077\" title=\"座头市\">',\n",
       " '<doc id=\"76086\" url=\"https://zh.wikipedia.org/wiki?curid=76086\" title=\"尹清枫\">',\n",
       " '<doc id=\"76104\" url=\"https://zh.wikipedia.org/wiki?curid=76104\" title=\"灰色经济\">',\n",
       " '<doc id=\"76109\" url=\"https://zh.wikipedia.org/wiki?curid=76109\" title=\"互联网梅森素数大搜索\">',\n",
       " '<doc id=\"76112\" url=\"https://zh.wikipedia.org/wiki?curid=76112\" title=\"台北市立成功高级中学\">',\n",
       " '<doc id=\"76114\" url=\"https://zh.wikipedia.org/wiki?curid=76114\" title=\"吴汝纶\">',\n",
       " '<doc id=\"76115\" url=\"https://zh.wikipedia.org/wiki?curid=76115\" title=\"台北市高级中等学校列表\">',\n",
       " '<doc id=\"76116\" url=\"https://zh.wikipedia.org/wiki?curid=76116\" title=\"推销员之死\">',\n",
       " '<doc id=\"76120\" url=\"https://zh.wikipedia.org/wiki?curid=76120\" title=\"脚气病\">',\n",
       " '<doc id=\"76122\" url=\"https://zh.wikipedia.org/wiki?curid=76122\" title=\"朱温\">',\n",
       " '<doc id=\"76124\" url=\"https://zh.wikipedia.org/wiki?curid=76124\" title=\"僧伽罗语\">',\n",
       " '<doc id=\"76127\" url=\"https://zh.wikipedia.org/wiki?curid=76127\" title=\"XD\">',\n",
       " '<doc id=\"76128\" url=\"https://zh.wikipedia.org/wiki?curid=76128\" title=\"朱升\">',\n",
       " '<doc id=\"76131\" url=\"https://zh.wikipedia.org/wiki?curid=76131\" title=\"白皮书\">',\n",
       " '<doc id=\"76135\" url=\"https://zh.wikipedia.org/wiki?curid=76135\" title=\"党卫队\">',\n",
       " '<doc id=\"76137\" url=\"https://zh.wikipedia.org/wiki?curid=76137\" title=\"俄勒冈州\">',\n",
       " '<doc id=\"76140\" url=\"https://zh.wikipedia.org/wiki?curid=76140\" title=\"钪\">',\n",
       " '<doc id=\"76143\" url=\"https://zh.wikipedia.org/wiki?curid=76143\" title=\"科罗拉多州\">',\n",
       " '<doc id=\"76145\" url=\"https://zh.wikipedia.org/wiki?curid=76145\" title=\"康乃狄克州\">',\n",
       " '<doc id=\"76146\" url=\"https://zh.wikipedia.org/wiki?curid=76146\" title=\"MIRC\">',\n",
       " '<doc id=\"76147\" url=\"https://zh.wikipedia.org/wiki?curid=76147\" title=\"日式欢喜冤家\">',\n",
       " '<doc id=\"76148\" url=\"https://zh.wikipedia.org/wiki?curid=76148\" title=\"铬\">',\n",
       " '<doc id=\"76149\" url=\"https://zh.wikipedia.org/wiki?curid=76149\" title=\"特拉华州\">',\n",
       " '<doc id=\"76152\" url=\"https://zh.wikipedia.org/wiki?curid=76152\" title=\"乔治亚州\">',\n",
       " '<doc id=\"76153\" url=\"https://zh.wikipedia.org/wiki?curid=76153\" title=\"爱达荷州\">',\n",
       " '<doc id=\"76155\" url=\"https://zh.wikipedia.org/wiki?curid=76155\" title=\"桂林米粉\">',\n",
       " '<doc id=\"76157\" url=\"https://zh.wikipedia.org/wiki?curid=76157\" title=\"堪萨斯州\">',\n",
       " '<doc id=\"76158\" url=\"https://zh.wikipedia.org/wiki?curid=76158\" title=\"路易斯安那州\">',\n",
       " '<doc id=\"76161\" url=\"https://zh.wikipedia.org/wiki?curid=76161\" title=\"高树玛利亚\">',\n",
       " '<doc id=\"76164\" url=\"https://zh.wikipedia.org/wiki?curid=76164\" title=\"内布拉斯加州\">',\n",
       " '<doc id=\"76166\" url=\"https://zh.wikipedia.org/wiki?curid=76166\" title=\"钴\">',\n",
       " '<doc id=\"76171\" url=\"https://zh.wikipedia.org/wiki?curid=76171\" title=\"奥克拉荷马州\">',\n",
       " '<doc id=\"76174\" url=\"https://zh.wikipedia.org/wiki?curid=76174\" title=\"罗德岛州\">',\n",
       " '<doc id=\"76176\" url=\"https://zh.wikipedia.org/wiki?curid=76176\" title=\"素食主义\">',\n",
       " '<doc id=\"76178\" url=\"https://zh.wikipedia.org/wiki?curid=76178\" title=\"南卡罗来纳州\">',\n",
       " '<doc id=\"76183\" url=\"https://zh.wikipedia.org/wiki?curid=76183\" title=\"锌\">',\n",
       " '<doc id=\"76185\" url=\"https://zh.wikipedia.org/wiki?curid=76185\" title=\"南达科他州\">',\n",
       " '<doc id=\"76187\" url=\"https://zh.wikipedia.org/wiki?curid=76187\" title=\"上海工程技术大学\">',\n",
       " '<doc id=\"76188\" url=\"https://zh.wikipedia.org/wiki?curid=76188\" title=\"西维吉尼亚州\">',\n",
       " '<doc id=\"76191\" url=\"https://zh.wikipedia.org/wiki?curid=76191\" title=\"镓\">',\n",
       " '<doc id=\"76193\" url=\"https://zh.wikipedia.org/wiki?curid=76193\" title=\"万古霉素\">',\n",
       " '<doc id=\"76198\" url=\"https://zh.wikipedia.org/wiki?curid=76198\" title=\"地质公园\">',\n",
       " '<doc id=\"76199\" url=\"https://zh.wikipedia.org/wiki?curid=76199\" title=\"世界地质公园列表\">',\n",
       " '<doc id=\"76202\" url=\"https://zh.wikipedia.org/wiki?curid=76202\" title=\"石林\">',\n",
       " '<doc id=\"76206\" url=\"https://zh.wikipedia.org/wiki?curid=76206\" title=\"甘罗\">',\n",
       " '<doc id=\"76220\" url=\"https://zh.wikipedia.org/wiki?curid=76220\" title=\"五大连池市\">',\n",
       " '<doc id=\"76239\" url=\"https://zh.wikipedia.org/wiki?curid=76239\" title=\"谢觉哉\">',\n",
       " '<doc id=\"76243\" url=\"https://zh.wikipedia.org/wiki?curid=76243\" title=\"北京三环路\">',\n",
       " '<doc id=\"76244\" url=\"https://zh.wikipedia.org/wiki?curid=76244\" title=\"英布\">',\n",
       " '<doc id=\"76248\" url=\"https://zh.wikipedia.org/wiki?curid=76248\" title=\"吴樾\">',\n",
       " '<doc id=\"76249\" url=\"https://zh.wikipedia.org/wiki?curid=76249\" title=\"锗\">',\n",
       " '<doc id=\"76251\" url=\"https://zh.wikipedia.org/wiki?curid=76251\" title=\"分众分类法\">',\n",
       " '<doc id=\"76261\" url=\"https://zh.wikipedia.org/wiki?curid=76261\" title=\"瑞士历史\">',\n",
       " '<doc id=\"76264\" url=\"https://zh.wikipedia.org/wiki?curid=76264\" title=\"砷\">',\n",
       " '<doc id=\"76272\" url=\"https://zh.wikipedia.org/wiki?curid=76272\" title=\"硒\">',\n",
       " '<doc id=\"76273\" url=\"https://zh.wikipedia.org/wiki?curid=76273\" title=\"成功高中\">',\n",
       " '<doc id=\"76276\" url=\"https://zh.wikipedia.org/wiki?curid=76276\" title=\"太平鸟\">',\n",
       " '<doc id=\"76284\" url=\"https://zh.wikipedia.org/wiki?curid=76284\" title=\"氪\">',\n",
       " '<doc id=\"76286\" url=\"https://zh.wikipedia.org/wiki?curid=76286\" title=\"李经方\">',\n",
       " '<doc id=\"76289\" url=\"https://zh.wikipedia.org/wiki?curid=76289\" title=\"柏文蔚\">',\n",
       " '<doc id=\"76298\" url=\"https://zh.wikipedia.org/wiki?curid=76298\" title=\"陈布雷\">',\n",
       " '<doc id=\"76299\" url=\"https://zh.wikipedia.org/wiki?curid=76299\" title=\"胺\">',\n",
       " '<doc id=\"76302\" url=\"https://zh.wikipedia.org/wiki?curid=76302\" title=\"氙\">',\n",
       " '<doc id=\"76307\" url=\"https://zh.wikipedia.org/wiki?curid=76307\" title=\"达那厄\">',\n",
       " '<doc id=\"76308\" url=\"https://zh.wikipedia.org/wiki?curid=76308\" title=\"氡\">',\n",
       " '<doc id=\"76312\" url=\"https://zh.wikipedia.org/wiki?curid=76312\" title=\"林正英\">',\n",
       " '<doc id=\"76315\" url=\"https://zh.wikipedia.org/wiki?curid=76315\" title=\"陈师孟\">',\n",
       " '<doc id=\"76316\" url=\"https://zh.wikipedia.org/wiki?curid=76316\" title=\"B级片\">',\n",
       " '<doc id=\"76318\" url=\"https://zh.wikipedia.org/wiki?curid=76318\" title=\"陈宰均\">',\n",
       " '<doc id=\"76322\" url=\"https://zh.wikipedia.org/wiki?curid=76322\" title=\"北京东岳庙\">',\n",
       " '<doc id=\"76333\" url=\"https://zh.wikipedia.org/wiki?curid=76333\" title=\"珠城\">',\n",
       " '<doc id=\"76342\" url=\"https://zh.wikipedia.org/wiki?curid=76342\" title=\"前三头同盟\">',\n",
       " '<doc id=\"76343\" url=\"https://zh.wikipedia.org/wiki?curid=76343\" title=\"后三头同盟\">',\n",
       " '<doc id=\"76344\" url=\"https://zh.wikipedia.org/wiki?curid=76344\" title=\"陈慧琳\">',\n",
       " '<doc id=\"76356\" url=\"https://zh.wikipedia.org/wiki?curid=76356\" title=\"南方民主同盟\">',\n",
       " '<doc id=\"146559\" url=\"https://zh.wikipedia.org/wiki?curid=146559\" title=\"母系制度\">',\n",
       " '<doc id=\"146563\" url=\"https://zh.wikipedia.org/wiki?curid=146563\" title=\"深圳宝安国际机场\">',\n",
       " '<doc id=\"146566\" url=\"https://zh.wikipedia.org/wiki?curid=146566\" title=\"李承仙\">',\n",
       " '<doc id=\"146581\" url=\"https://zh.wikipedia.org/wiki?curid=146581\" title=\"昆明巫家坝国际机场\">',\n",
       " '<doc id=\"146587\" url=\"https://zh.wikipedia.org/wiki?curid=146587\" title=\"海口美兰国际机场\">',\n",
       " '<doc id=\"146589\" url=\"https://zh.wikipedia.org/wiki?curid=146589\" title=\"西乡局\">',\n",
       " '<doc id=\"146607\" url=\"https://zh.wikipedia.org/wiki?curid=146607\" title=\"捷克语\">',\n",
       " '<doc id=\"146609\" url=\"https://zh.wikipedia.org/wiki?curid=146609\" title=\"下水道\">',\n",
       " '<doc id=\"146616\" url=\"https://zh.wikipedia.org/wiki?curid=146616\" title=\"洛奇\">',\n",
       " '<doc id=\"146627\" url=\"https://zh.wikipedia.org/wiki?curid=146627\" title=\"资讯鑑识\">',\n",
       " '<doc id=\"146630\" url=\"https://zh.wikipedia.org/wiki?curid=146630\" title=\"俄罗斯国家管弦乐团\">',\n",
       " '<doc id=\"146639\" url=\"https://zh.wikipedia.org/wiki?curid=146639\" title=\"高秀敏\">',\n",
       " '<doc id=\"146644\" url=\"https://zh.wikipedia.org/wiki?curid=146644\" title=\"天师道世家\">',\n",
       " '<doc id=\"146646\" url=\"https://zh.wikipedia.org/wiki?curid=146646\" title=\"平文\">',\n",
       " '<doc id=\"146650\" url=\"https://zh.wikipedia.org/wiki?curid=146650\" title=\"欧足联室内五人足球锦标赛\">',\n",
       " '<doc id=\"146657\" url=\"https://zh.wikipedia.org/wiki?curid=146657\" title=\"西门站\">',\n",
       " '<doc id=\"146659\" url=\"https://zh.wikipedia.org/wiki?curid=146659\" title=\"佐川一政\">',\n",
       " '<doc id=\"146660\" url=\"https://zh.wikipedia.org/wiki?curid=146660\" title=\"管弦乐团\">',\n",
       " '<doc id=\"146672\" url=\"https://zh.wikipedia.org/wiki?curid=146672\" title=\"张宝华\">',\n",
       " '<doc id=\"146674\" url=\"https://zh.wikipedia.org/wiki?curid=146674\" title=\"郭羡妮\">',\n",
       " '<doc id=\"146682\" url=\"https://zh.wikipedia.org/wiki?curid=146682\" title=\"火星运河\">',\n",
       " '<doc id=\"146689\" url=\"https://zh.wikipedia.org/wiki?curid=146689\" title=\"唎咧\">',\n",
       " '<doc id=\"146690\" url=\"https://zh.wikipedia.org/wiki?curid=146690\" title=\"葡属澳门\">',\n",
       " '<doc id=\"146703\" url=\"https://zh.wikipedia.org/wiki?curid=146703\" title=\"蒋公路\">',\n",
       " '<doc id=\"146707\" url=\"https://zh.wikipedia.org/wiki?curid=146707\" title=\"东门站\">',\n",
       " '<doc id=\"146709\" url=\"https://zh.wikipedia.org/wiki?curid=146709\" title=\"美国传统英语字典\">',\n",
       " '<doc id=\"146719\" url=\"https://zh.wikipedia.org/wiki?curid=146719\" title=\"罗策群\">',\n",
       " '<doc id=\"146720\" url=\"https://zh.wikipedia.org/wiki?curid=146720\" title=\"潘源良\">',\n",
       " '<doc id=\"146724\" url=\"https://zh.wikipedia.org/wiki?curid=146724\" title=\"王佛松\">',\n",
       " '<doc id=\"146725\" url=\"https://zh.wikipedia.org/wiki?curid=146725\" title=\"罗雄才\">',\n",
       " '<doc id=\"146727\" url=\"https://zh.wikipedia.org/wiki?curid=146727\" title=\"林和立\">',\n",
       " '<doc id=\"146728\" url=\"https://zh.wikipedia.org/wiki?curid=146728\" title=\"卓韵芝\">',\n",
       " '<doc id=\"146733\" url=\"https://zh.wikipedia.org/wiki?curid=146733\" title=\"德川纲吉\">',\n",
       " '<doc id=\"146734\" url=\"https://zh.wikipedia.org/wiki?curid=146734\" title=\"广东十虎\">',\n",
       " '<doc id=\"146739\" url=\"https://zh.wikipedia.org/wiki?curid=146739\" title=\"蚊香\">',\n",
       " '<doc id=\"146749\" url=\"https://zh.wikipedia.org/wiki?curid=146749\" title=\"六州歌头\">',\n",
       " '<doc id=\"146760\" url=\"https://zh.wikipedia.org/wiki?curid=146760\" title=\"酒店风云\">',\n",
       " '<doc id=\"146764\" url=\"https://zh.wikipedia.org/wiki?curid=146764\" title=\"天国八福\">',\n",
       " '<doc id=\"146766\" url=\"https://zh.wikipedia.org/wiki?curid=146766\" title=\"布里斯班\">',\n",
       " '<doc id=\"146768\" url=\"https://zh.wikipedia.org/wiki?curid=146768\" title=\"戏曲曲艺\">',\n",
       " '<doc id=\"146771\" url=\"https://zh.wikipedia.org/wiki?curid=146771\" title=\"基围虾\">',\n",
       " '<doc id=\"146774\" url=\"https://zh.wikipedia.org/wiki?curid=146774\" title=\"扁率\">',\n",
       " '<doc id=\"146786\" url=\"https://zh.wikipedia.org/wiki?curid=146786\" title=\"核苷酸\">',\n",
       " '<doc id=\"146793\" url=\"https://zh.wikipedia.org/wiki?curid=146793\" title=\"雷神之锤II\">',\n",
       " '<doc id=\"146802\" url=\"https://zh.wikipedia.org/wiki?curid=146802\" title=\"诺氟沙星\">',\n",
       " '<doc id=\"146804\" url=\"https://zh.wikipedia.org/wiki?curid=146804\" title=\"侯西铁路\">',\n",
       " '<doc id=\"146807\" url=\"https://zh.wikipedia.org/wiki?curid=146807\" title=\"侯月铁路\">',\n",
       " '<doc id=\"146816\" url=\"https://zh.wikipedia.org/wiki?curid=146816\" title=\"皇名月\">',\n",
       " '<doc id=\"146825\" url=\"https://zh.wikipedia.org/wiki?curid=146825\" title=\"江南女子公学\">',\n",
       " '<doc id=\"146826\" url=\"https://zh.wikipedia.org/wiki?curid=146826\" title=\"木斯岛\">',\n",
       " '<doc id=\"146836\" url=\"https://zh.wikipedia.org/wiki?curid=146836\" title=\"江南水师学堂\">',\n",
       " '<doc id=\"146840\" url=\"https://zh.wikipedia.org/wiki?curid=146840\" title=\"洛达尔隧道\">',\n",
       " '<doc id=\"146841\" url=\"https://zh.wikipedia.org/wiki?curid=146841\" title=\"半山园\">',\n",
       " '<doc id=\"146843\" url=\"https://zh.wikipedia.org/wiki?curid=146843\" title=\"邓普顿奖\">',\n",
       " '<doc id=\"146845\" url=\"https://zh.wikipedia.org/wiki?curid=146845\" title=\"2006年国际足协世界盃外围赛\">',\n",
       " '<doc id=\"146849\" url=\"https://zh.wikipedia.org/wiki?curid=146849\" title=\"神朔铁路\">',\n",
       " '<doc id=\"146852\" url=\"https://zh.wikipedia.org/wiki?curid=146852\" title=\"摩托\">',\n",
       " '<doc id=\"146854\" url=\"https://zh.wikipedia.org/wiki?curid=146854\" title=\"余家班\">',\n",
       " '<doc id=\"146858\" url=\"https://zh.wikipedia.org/wiki?curid=146858\" title=\"包神铁路\">',\n",
       " '<doc id=\"146865\" url=\"https://zh.wikipedia.org/wiki?curid=146865\" title=\"江南陆师学堂\">',\n",
       " '<doc id=\"146867\" url=\"https://zh.wikipedia.org/wiki?curid=146867\" title=\"智齿\">',\n",
       " '<doc id=\"146869\" url=\"https://zh.wikipedia.org/wiki?curid=146869\" title=\"八一九事件\">',\n",
       " '<doc id=\"146870\" url=\"https://zh.wikipedia.org/wiki?curid=146870\" title=\"神延铁路\">',\n",
       " '<doc id=\"146881\" url=\"https://zh.wikipedia.org/wiki?curid=146881\" title=\"江南高等学堂\">',\n",
       " '<doc id=\"146889\" url=\"https://zh.wikipedia.org/wiki?curid=146889\" title=\"赤大白铁路\">',\n",
       " '<doc id=\"146890\" url=\"https://zh.wikipedia.org/wiki?curid=146890\" title=\"金陵工艺大学堂\">',\n",
       " '<doc id=\"146896\" url=\"https://zh.wikipedia.org/wiki?curid=146896\" title=\"兰氏贾第鞭毛虫\">',\n",
       " '<doc id=\"146898\" url=\"https://zh.wikipedia.org/wiki?curid=146898\" title=\"洛湛铁路\">',\n",
       " '<doc id=\"146900\" url=\"https://zh.wikipedia.org/wiki?curid=146900\" title=\"国立武汉大学农学院\">',\n",
       " '<doc id=\"146928\" url=\"https://zh.wikipedia.org/wiki?curid=146928\" title=\"铜黄高速公路\">',\n",
       " '<doc id=\"146929\" url=\"https://zh.wikipedia.org/wiki?curid=146929\" title=\"江南武备学堂\">',\n",
       " '<doc id=\"146934\" url=\"https://zh.wikipedia.org/wiki?curid=146934\" title=\"西延铁路\">',\n",
       " '<doc id=\"146936\" url=\"https://zh.wikipedia.org/wiki?curid=146936\" title=\"包西铁路\">',\n",
       " '<doc id=\"146937\" url=\"https://zh.wikipedia.org/wiki?curid=146937\" title=\"财产保险\">',\n",
       " '<doc id=\"146943\" url=\"https://zh.wikipedia.org/wiki?curid=146943\" title=\"美式足球\">',\n",
       " '<doc id=\"146951\" url=\"https://zh.wikipedia.org/wiki?curid=146951\" title=\"二十六人团\">',\n",
       " '<doc id=\"146963\" url=\"https://zh.wikipedia.org/wiki?curid=146963\" title=\"中国人民解放军军事学院\">',\n",
       " '<doc id=\"146968\" url=\"https://zh.wikipedia.org/wiki?curid=146968\" title=\"道重沙由美\">',\n",
       " '<doc id=\"146980\" url=\"https://zh.wikipedia.org/wiki?curid=146980\" title=\"欧洲杯赛冠军杯\">',\n",
       " '<doc id=\"146983\" url=\"https://zh.wikipedia.org/wiki?curid=146983\" title=\"救世传说\">',\n",
       " '<doc id=\"146988\" url=\"https://zh.wikipedia.org/wiki?curid=146988\" title=\"澳门航空\">',\n",
       " '<doc id=\"146993\" url=\"https://zh.wikipedia.org/wiki?curid=146993\" title=\"樊须\">',\n",
       " '<doc id=\"147003\" url=\"https://zh.wikipedia.org/wiki?curid=147003\" title=\"金芳蓉\">',\n",
       " '<doc id=\"147009\" url=\"https://zh.wikipedia.org/wiki?curid=147009\" title=\"婚前性行为\">',\n",
       " '<doc id=\"147015\" url=\"https://zh.wikipedia.org/wiki?curid=147015\" title=\"色彩民俗地理\">',\n",
       " '<doc id=\"147024\" url=\"https://zh.wikipedia.org/wiki?curid=147024\" title=\"南阳盆地\">',\n",
       " '<doc id=\"147025\" url=\"https://zh.wikipedia.org/wiki?curid=147025\" title=\"影子政府\">',\n",
       " '<doc id=\"147027\" url=\"https://zh.wikipedia.org/wiki?curid=147027\" title=\"熙宁\">',\n",
       " '<doc id=\"147030\" url=\"https://zh.wikipedia.org/wiki?curid=147030\" title=\"庆历\">',\n",
       " '<doc id=\"147032\" url=\"https://zh.wikipedia.org/wiki?curid=147032\" title=\"曾点\">',\n",
       " '<doc id=\"147038\" url=\"https://zh.wikipedia.org/wiki?curid=147038\" title=\"山口真弓\">',\n",
       " '<doc id=\"147039\" url=\"https://zh.wikipedia.org/wiki?curid=147039\" title=\"黄埔军校旧址\">',\n",
       " '<doc id=\"147042\" url=\"https://zh.wikipedia.org/wiki?curid=147042\" title=\"澳门国际机场\">',\n",
       " '<doc id=\"147047\" url=\"https://zh.wikipedia.org/wiki?curid=147047\" title=\"台客\">',\n",
       " '<doc id=\"147048\" url=\"https://zh.wikipedia.org/wiki?curid=147048\" title=\"饭岛爱\">',\n",
       " '<doc id=\"147053\" url=\"https://zh.wikipedia.org/wiki?curid=147053\" title=\"国际佛教旗\">',\n",
       " '<doc id=\"147055\" url=\"https://zh.wikipedia.org/wiki?curid=147055\" title=\"圆山交流道\">',\n",
       " '<doc id=\"147057\" url=\"https://zh.wikipedia.org/wiki?curid=147057\" title=\"欧洲女子篮球锦标赛\">',\n",
       " '<doc id=\"147061\" url=\"https://zh.wikipedia.org/wiki?curid=147061\" title=\"影刻本\">',\n",
       " '<doc id=\"147063\" url=\"https://zh.wikipedia.org/wiki?curid=147063\" title=\"专业会议\">',\n",
       " '<doc id=\"147065\" url=\"https://zh.wikipedia.org/wiki?curid=147065\" title=\"澳门旅游塔会展娱乐中心\">',\n",
       " '<doc id=\"147070\" url=\"https://zh.wikipedia.org/wiki?curid=147070\" title=\"欧洲篮球锦标赛\">',\n",
       " '<doc id=\"147072\" url=\"https://zh.wikipedia.org/wiki?curid=147072\" title=\"梅塔\">',\n",
       " '<doc id=\"147073\" url=\"https://zh.wikipedia.org/wiki?curid=147073\" title=\"Hello\">',\n",
       " '<doc id=\"147075\" url=\"https://zh.wikipedia.org/wiki?curid=147075\" title=\"欧洲微型国家篮球锦标赛\">',\n",
       " '<doc id=\"147086\" url=\"https://zh.wikipedia.org/wiki?curid=147086\" title=\"宛如飞翔\">',\n",
       " '<doc id=\"147093\" url=\"https://zh.wikipedia.org/wiki?curid=147093\" title=\"欧洲U20篮球锦标赛\">',\n",
       " '<doc id=\"147094\" url=\"https://zh.wikipedia.org/wiki?curid=147094\" title=\"中华职棒年度新人王\">',\n",
       " '<doc id=\"147097\" url=\"https://zh.wikipedia.org/wiki?curid=147097\" title=\"菲舍尔任意制象棋\">',\n",
       " '<doc id=\"147100\" url=\"https://zh.wikipedia.org/wiki?curid=147100\" title=\"欧洲U18篮球锦标赛\">',\n",
       " '<doc id=\"147106\" url=\"https://zh.wikipedia.org/wiki?curid=147106\" title=\"欧洲U16女子篮球锦标赛\">',\n",
       " '<doc id=\"147114\" url=\"https://zh.wikipedia.org/wiki?curid=147114\" title=\"地海故事集\">',\n",
       " '<doc id=\"147117\" url=\"https://zh.wikipedia.org/wiki?curid=147117\" title=\"功名十字路\">',\n",
       " '<doc id=\"147118\" url=\"https://zh.wikipedia.org/wiki?curid=147118\" title=\"赤道仪\">',\n",
       " '<doc id=\"147124\" url=\"https://zh.wikipedia.org/wiki?curid=147124\" title=\"香港热带气旋警告信号\">',\n",
       " '<doc id=\"147130\" url=\"https://zh.wikipedia.org/wiki?curid=147130\" title=\"M79榴弹发射器\">',\n",
       " '<doc id=\"147131\" url=\"https://zh.wikipedia.org/wiki?curid=147131\" title=\"黄伟文\">',\n",
       " '<doc id=\"147133\" url=\"https://zh.wikipedia.org/wiki?curid=147133\" title=\"蝰蛇科\">',\n",
       " '<doc id=\"147135\" url=\"https://zh.wikipedia.org/wiki?curid=147135\" title=\"叱咤903\">',\n",
       " '<doc id=\"147136\" url=\"https://zh.wikipedia.org/wiki?curid=147136\" title=\"雷霆881\">',\n",
       " '<doc id=\"147137\" url=\"https://zh.wikipedia.org/wiki?curid=147137\" title=\"拔萃男书院\">',\n",
       " '<doc id=\"147138\" url=\"https://zh.wikipedia.org/wiki?curid=147138\" title=\"犀牛\">',\n",
       " '<doc id=\"147139\" url=\"https://zh.wikipedia.org/wiki?curid=147139\" title=\"经纬仪\">',\n",
       " '<doc id=\"147144\" url=\"https://zh.wikipedia.org/wiki?curid=147144\" title=\"科学普及\">',\n",
       " '<doc id=\"147153\" url=\"https://zh.wikipedia.org/wiki?curid=147153\" title=\"山斑马\">',\n",
       " '<doc id=\"147155\" url=\"https://zh.wikipedia.org/wiki?curid=147155\" title=\"乐善堂顾超文中学\">',\n",
       " '<doc id=\"147156\" url=\"https://zh.wikipedia.org/wiki?curid=147156\" title=\"梁荣忠\">',\n",
       " '<doc id=\"147161\" url=\"https://zh.wikipedia.org/wiki?curid=147161\" title=\"文昌鱼目\">',\n",
       " '<doc id=\"147164\" url=\"https://zh.wikipedia.org/wiki?curid=147164\" title=\"鳃口科\">',\n",
       " '<doc id=\"147167\" url=\"https://zh.wikipedia.org/wiki?curid=147167\" title=\"偏文昌鱼属\">',\n",
       " '<doc id=\"147168\" url=\"https://zh.wikipedia.org/wiki?curid=147168\" title=\"110\">',\n",
       " '<doc id=\"147170\" url=\"https://zh.wikipedia.org/wiki?curid=147170\" title=\"安田纪念赛\">',\n",
       " '<doc id=\"147173\" url=\"https://zh.wikipedia.org/wiki?curid=147173\" title=\"武汉大学标本馆\">',\n",
       " '<doc id=\"147181\" url=\"https://zh.wikipedia.org/wiki?curid=147181\" title=\"林嘉欣\">',\n",
       " '<doc id=\"147202\" url=\"https://zh.wikipedia.org/wiki?curid=147202\" title=\"乳香\">',\n",
       " '<doc id=\"147204\" url=\"https://zh.wikipedia.org/wiki?curid=147204\" title=\"中国印刷博物馆\">',\n",
       " '<doc id=\"147210\" url=\"https://zh.wikipedia.org/wiki?curid=147210\" title=\"阿勒泰市\">',\n",
       " '<doc id=\"147259\" url=\"https://zh.wikipedia.org/wiki?curid=147259\" title=\"跳出我天地\">',\n",
       " '<doc id=\"147270\" url=\"https://zh.wikipedia.org/wiki?curid=147270\" title=\"全闽大学堂\">',\n",
       " '<doc id=\"147277\" url=\"https://zh.wikipedia.org/wiki?curid=147277\" title=\"手护台湾大游行\">',\n",
       " '<doc id=\"147283\" url=\"https://zh.wikipedia.org/wiki?curid=147283\" title=\"钢\">',\n",
       " '<doc id=\"147290\" url=\"https://zh.wikipedia.org/wiki?curid=147290\" title=\"香港保护儿童会谭雅士幼儿学校\">',\n",
       " '<doc id=\"147292\" url=\"https://zh.wikipedia.org/wiki?curid=147292\" title=\"金融法学\">',\n",
       " '<doc id=\"147301\" url=\"https://zh.wikipedia.org/wiki?curid=147301\" title=\"美茵茨国际象棋节\">',\n",
       " '<doc id=\"147304\" url=\"https://zh.wikipedia.org/wiki?curid=147304\" title=\"皮姆斯勒语言学习系统\">',\n",
       " '<doc id=\"147306\" url=\"https://zh.wikipedia.org/wiki?curid=147306\" title=\"美国往事\">',\n",
       " '<doc id=\"147317\" url=\"https://zh.wikipedia.org/wiki?curid=147317\" title=\"大额美国纸币\">',\n",
       " '<doc id=\"147318\" url=\"https://zh.wikipedia.org/wiki?curid=147318\" title=\"欧洲U16篮球锦标赛\">',\n",
       " '<doc id=\"147319\" url=\"https://zh.wikipedia.org/wiki?curid=147319\" title=\"欧洲U20女子篮球锦标赛\">',\n",
       " '<doc id=\"147320\" url=\"https://zh.wikipedia.org/wiki?curid=147320\" title=\"欧洲U18女子篮球锦标赛\">',\n",
       " '<doc id=\"147325\" url=\"https://zh.wikipedia.org/wiki?curid=147325\" title=\"五公祠\">',\n",
       " '<doc id=\"147326\" url=\"https://zh.wikipedia.org/wiki?curid=147326\" title=\"左派和右派\">',\n",
       " '<doc id=\"147328\" url=\"https://zh.wikipedia.org/wiki?curid=147328\" title=\"反右运动\">',\n",
       " '<doc id=\"147330\" url=\"https://zh.wikipedia.org/wiki?curid=147330\" title=\"欧洲女子促进者篮球锦标赛\">',\n",
       " '<doc id=\"147335\" url=\"https://zh.wikipedia.org/wiki?curid=147335\" title=\"遗传编程\">',\n",
       " '<doc id=\"147338\" url=\"https://zh.wikipedia.org/wiki?curid=147338\" title=\"水沙连高速公路\">',\n",
       " '<doc id=\"147341\" url=\"https://zh.wikipedia.org/wiki?curid=147341\" title=\"广东宏远\">',\n",
       " '<doc id=\"147343\" url=\"https://zh.wikipedia.org/wiki?curid=147343\" title=\"便秘\">',\n",
       " '<doc id=\"147349\" url=\"https://zh.wikipedia.org/wiki?curid=147349\" title=\"双城区\">',\n",
       " '<doc id=\"147350\" url=\"https://zh.wikipedia.org/wiki?curid=147350\" title=\"五常市\">',\n",
       " '<doc id=\"147351\" url=\"https://zh.wikipedia.org/wiki?curid=147351\" title=\"讷河市\">',\n",
       " '<doc id=\"147352\" url=\"https://zh.wikipedia.org/wiki?curid=147352\" title=\"北安市\">',\n",
       " '<doc id=\"147353\" url=\"https://zh.wikipedia.org/wiki?curid=147353\" title=\"铁力市\">',\n",
       " '<doc id=\"147354\" url=\"https://zh.wikipedia.org/wiki?curid=147354\" title=\"虎林市\">',\n",
       " '<doc id=\"147355\" url=\"https://zh.wikipedia.org/wiki?curid=147355\" title=\"肇东市\">',\n",
       " '<doc id=\"147356\" url=\"https://zh.wikipedia.org/wiki?curid=147356\" title=\"安达市\">',\n",
       " '<doc id=\"147357\" url=\"https://zh.wikipedia.org/wiki?curid=147357\" title=\"海林市\">',\n",
       " '<doc id=\"147358\" url=\"https://zh.wikipedia.org/wiki?curid=147358\" title=\"绥芬河市\">',\n",
       " '<doc id=\"147359\" url=\"https://zh.wikipedia.org/wiki?curid=147359\" title=\"密山市\">',\n",
       " '<doc id=\"147362\" url=\"https://zh.wikipedia.org/wiki?curid=147362\" title=\"安宁市\">',\n",
       " '<doc id=\"147363\" url=\"https://zh.wikipedia.org/wiki?curid=147363\" title=\"宣威市\">',\n",
       " '<doc id=\"147365\" url=\"https://zh.wikipedia.org/wiki?curid=147365\" title=\"瑞丽市\">',\n",
       " '<doc id=\"147367\" url=\"https://zh.wikipedia.org/wiki?curid=147367\" title=\"个旧市\">',\n",
       " '<doc id=\"147368\" url=\"https://zh.wikipedia.org/wiki?curid=147368\" title=\"开远市\">',\n",
       " '<doc id=\"147382\" url=\"https://zh.wikipedia.org/wiki?curid=147382\" title=\"空中乘务员\">',\n",
       " '<doc id=\"147387\" url=\"https://zh.wikipedia.org/wiki?curid=147387\" title=\"元秋\">',\n",
       " '<doc id=\"147389\" url=\"https://zh.wikipedia.org/wiki?curid=147389\" title=\"巩珍\">',\n",
       " '<doc id=\"147393\" url=\"https://zh.wikipedia.org/wiki?curid=147393\" title=\"朴宪永\">',\n",
       " '<doc id=\"147396\" url=\"https://zh.wikipedia.org/wiki?curid=147396\" title=\"南沙区\">',\n",
       " '<doc id=\"147399\" url=\"https://zh.wikipedia.org/wiki?curid=147399\" title=\"2005年ATP巡回赛\">',\n",
       " '<doc id=\"147400\" url=\"https://zh.wikipedia.org/wiki?curid=147400\" title=\"猫和老鼠\">',\n",
       " '<doc id=\"147401\" url=\"https://zh.wikipedia.org/wiki?curid=147401\" title=\"福建省福州第一中学\">',\n",
       " '<doc id=\"147404\" url=\"https://zh.wikipedia.org/wiki?curid=147404\" title=\"杜布森望远镜\">',\n",
       " '<doc id=\"147408\" url=\"https://zh.wikipedia.org/wiki?curid=147408\" title=\"雷神之锤引擎\">',\n",
       " '<doc id=\"147409\" url=\"https://zh.wikipedia.org/wiki?curid=147409\" title=\"香港经济日报\">',\n",
       " '<doc id=\"147411\" url=\"https://zh.wikipedia.org/wiki?curid=147411\" title=\"字位\">',\n",
       " '<doc id=\"147413\" url=\"https://zh.wikipedia.org/wiki?curid=147413\" title=\"农业水资源\">',\n",
       " '<doc id=\"147414\" url=\"https://zh.wikipedia.org/wiki?curid=147414\" title=\"剪应力\">',\n",
       " '<doc id=\"147432\" url=\"https://zh.wikipedia.org/wiki?curid=147432\" title=\"福建人\">',\n",
       " '<doc id=\"147442\" url=\"https://zh.wikipedia.org/wiki?curid=147442\" title=\"太极会\">',\n",
       " '<doc id=\"147445\" url=\"https://zh.wikipedia.org/wiki?curid=147445\" title=\"霸机\">',\n",
       " '<doc id=\"147446\" url=\"https://zh.wikipedia.org/wiki?curid=147446\" title=\"孝子山\">',\n",
       " '<doc id=\"147448\" url=\"https://zh.wikipedia.org/wiki?curid=147448\" title=\"莲花山\">',\n",
       " '<doc id=\"147450\" url=\"https://zh.wikipedia.org/wiki?curid=147450\" title=\"方镛钦\">',\n",
       " '<doc id=\"147455\" url=\"https://zh.wikipedia.org/wiki?curid=147455\" title=\"中华人民共和国城市建制\">',\n",
       " '<doc id=\"147456\" url=\"https://zh.wikipedia.org/wiki?curid=147456\" title=\"云霄会\">',\n",
       " '<doc id=\"147457\" url=\"https://zh.wikipedia.org/wiki?curid=147457\" title=\"慈母峰\">',\n",
       " '<doc id=\"147461\" url=\"https://zh.wikipedia.org/wiki?curid=147461\" title=\"望天会\">',\n",
       " '<doc id=\"147465\" url=\"https://zh.wikipedia.org/wiki?curid=147465\" title=\"小黄山\">',\n",
       " '<doc id=\"147475\" url=\"https://zh.wikipedia.org/wiki?curid=147475\" title=\"三商虎\">',\n",
       " '<doc id=\"147479\" url=\"https://zh.wikipedia.org/wiki?curid=147479\" title=\"汐止会\">',\n",
       " '<doc id=\"147480\" url=\"https://zh.wikipedia.org/wiki?curid=147480\" title=\"华北会\">',\n",
       " '<doc id=\"147483\" url=\"https://zh.wikipedia.org/wiki?curid=147483\" title=\"台湾通史\">',\n",
       " '<doc id=\"147485\" url=\"https://zh.wikipedia.org/wiki?curid=147485\" title=\"彭孟缉\">',\n",
       " '<doc id=\"147486\" url=\"https://zh.wikipedia.org/wiki?curid=147486\" title=\"李友邦\">',\n",
       " '<doc id=\"147490\" url=\"https://zh.wikipedia.org/wiki?curid=147490\" title=\"美鹰会\">',\n",
       " '<doc id=\"147491\" url=\"https://zh.wikipedia.org/wiki?curid=147491\" title=\"林木顺\">',\n",
       " '<doc id=\"147492\" url=\"https://zh.wikipedia.org/wiki?curid=147492\" title=\"滇金丝猴\">',\n",
       " '<doc id=\"147495\" url=\"https://zh.wikipedia.org/wiki?curid=147495\" title=\"许强\">',\n",
       " '<doc id=\"147498\" url=\"https://zh.wikipedia.org/wiki?curid=147498\" title=\"埼玉西武狮\">',\n",
       " '<doc id=\"147499\" url=\"https://zh.wikipedia.org/wiki?curid=147499\" title=\"郭怀一\">',\n",
       " '<doc id=\"147500\" url=\"https://zh.wikipedia.org/wiki?curid=147500\" title=\"环南会\">',\n",
       " '<doc id=\"147503\" url=\"https://zh.wikipedia.org/wiki?curid=147503\" title=\"邓上文\">',\n",
       " '<doc id=\"147504\" url=\"https://zh.wikipedia.org/wiki?curid=147504\" title=\"林莉\">',\n",
       " '<doc id=\"147506\" url=\"https://zh.wikipedia.org/wiki?curid=147506\" title=\"叶翠翠\">',\n",
       " '<doc id=\"147509\" url=\"https://zh.wikipedia.org/wiki?curid=147509\" title=\"暴龙\">',\n",
       " '<doc id=\"147514\" url=\"https://zh.wikipedia.org/wiki?curid=147514\" title=\"竹风会\">',\n",
       " '<doc id=\"147515\" url=\"https://zh.wikipedia.org/wiki?curid=147515\" title=\"国际表意文字核心\">',\n",
       " '<doc id=\"147523\" url=\"https://zh.wikipedia.org/wiki?curid=147523\" title=\"袁弥明\">',\n",
       " '<doc id=\"147527\" url=\"https://zh.wikipedia.org/wiki?curid=147527\" title=\"韩亚航空\">',\n",
       " '<doc id=\"147529\" url=\"https://zh.wikipedia.org/wiki?curid=147529\" title=\"电脑蠕虫\">',\n",
       " '<doc id=\"147536\" url=\"https://zh.wikipedia.org/wiki?curid=147536\" title=\"肯特\">',\n",
       " '<doc id=\"147542\" url=\"https://zh.wikipedia.org/wiki?curid=147542\" title=\"余隆\">',\n",
       " '<doc id=\"147547\" url=\"https://zh.wikipedia.org/wiki?curid=147547\" title=\"鳗\">',\n",
       " '<doc id=\"147554\" url=\"https://zh.wikipedia.org/wiki?curid=147554\" title=\"郭树清\">',\n",
       " '<doc id=\"147579\" url=\"https://zh.wikipedia.org/wiki?curid=147579\" title=\"M79\">',\n",
       " '<doc id=\"147588\" url=\"https://zh.wikipedia.org/wiki?curid=147588\" title=\"雷神世界\">',\n",
       " '<doc id=\"147595\" url=\"https://zh.wikipedia.org/wiki?curid=147595\" title=\"冒泡排序\">',\n",
       " '<doc id=\"147604\" url=\"https://zh.wikipedia.org/wiki?curid=147604\" title=\"林昭\">',\n",
       " '<doc id=\"147609\" url=\"https://zh.wikipedia.org/wiki?curid=147609\" title=\"Quakecon\">',\n",
       " '<doc id=\"147610\" url=\"https://zh.wikipedia.org/wiki?curid=147610\" title=\"福建热线\">',\n",
       " '<doc id=\"147615\" url=\"https://zh.wikipedia.org/wiki?curid=147615\" title=\"世界盃篮球赛\">',\n",
       " '<doc id=\"147618\" url=\"https://zh.wikipedia.org/wiki?curid=147618\" title=\"贝瑞塔92手枪\">',\n",
       " '<doc id=\"147619\" url=\"https://zh.wikipedia.org/wiki?curid=147619\" title=\"洛斯阿拉莫斯西洋棋\">',\n",
       " '<doc id=\"147624\" url=\"https://zh.wikipedia.org/wiki?curid=147624\" title=\"瑞萨电子\">',\n",
       " '<doc id=\"147625\" url=\"https://zh.wikipedia.org/wiki?curid=147625\" title=\"职业电子竞技联盟\">',\n",
       " '<doc id=\"147627\" url=\"https://zh.wikipedia.org/wiki?curid=147627\" title=\"德国DAX指数\">',\n",
       " '<doc id=\"147630\" url=\"https://zh.wikipedia.org/wiki?curid=147630\" title=\"GameSpy\">',\n",
       " '<doc id=\"147636\" url=\"https://zh.wikipedia.org/wiki?curid=147636\" title=\"手榴弹\">',\n",
       " '<doc id=\"147648\" url=\"https://zh.wikipedia.org/wiki?curid=147648\" title=\"凌纯声\">',\n",
       " '<doc id=\"147649\" url=\"https://zh.wikipedia.org/wiki?curid=147649\" title=\"蒋徐乃锦\">',\n",
       " '<doc id=\"147655\" url=\"https://zh.wikipedia.org/wiki?curid=147655\" title=\"陈启天\">',\n",
       " '<doc id=\"147661\" url=\"https://zh.wikipedia.org/wiki?curid=147661\" title=\"反式脂肪\">',\n",
       " '<doc id=\"147665\" url=\"https://zh.wikipedia.org/wiki?curid=147665\" title=\"安敦尼王朝\">',\n",
       " '<doc id=\"147667\" url=\"https://zh.wikipedia.org/wiki?curid=147667\" title=\"宣武区\">',\n",
       " '<doc id=\"147669\" url=\"https://zh.wikipedia.org/wiki?curid=147669\" title=\"练乙铮\">',\n",
       " '<doc id=\"147680\" url=\"https://zh.wikipedia.org/wiki?curid=147680\" title=\"启蒙文学\">',\n",
       " '<doc id=\"147681\" url=\"https://zh.wikipedia.org/wiki?curid=147681\" title=\"川金丝猴\">',\n",
       " '<doc id=\"147687\" url=\"https://zh.wikipedia.org/wiki?curid=147687\" title=\"李淳阳\">',\n",
       " '<doc id=\"147688\" url=\"https://zh.wikipedia.org/wiki?curid=147688\" title=\"中华人民共和国第五届农民运动会\">',\n",
       " '<doc id=\"147699\" url=\"https://zh.wikipedia.org/wiki?curid=147699\" title=\"中华人民共和国第四届农民运动会\">',\n",
       " '<doc id=\"147701\" url=\"https://zh.wikipedia.org/wiki?curid=147701\" title=\"中国篮球联赛\">',\n",
       " '<doc id=\"147712\" url=\"https://zh.wikipedia.org/wiki?curid=147712\" title=\"劫机\">',\n",
       " '<doc id=\"147714\" url=\"https://zh.wikipedia.org/wiki?curid=147714\" title=\"快速排序\">',\n",
       " '<doc id=\"147715\" url=\"https://zh.wikipedia.org/wiki?curid=147715\" title=\"颅骨\">',\n",
       " '<doc id=\"147727\" url=\"https://zh.wikipedia.org/wiki?curid=147727\" title=\"刺马案\">',\n",
       " '<doc id=\"147728\" url=\"https://zh.wikipedia.org/wiki?curid=147728\" title=\"格拉斯哥卡利多尼安大学\">',\n",
       " '<doc id=\"147731\" url=\"https://zh.wikipedia.org/wiki?curid=147731\" title=\"灌木\">',\n",
       " '<doc id=\"95291\" url=\"https://zh.wikipedia.org/wiki?curid=95291\" title=\"板球\">',\n",
       " '<doc id=\"95305\" url=\"https://zh.wikipedia.org/wiki?curid=95305\" title=\"Animax\">',\n",
       " '<doc id=\"95309\" url=\"https://zh.wikipedia.org/wiki?curid=95309\" title=\"佐藤荣作\">',\n",
       " '<doc id=\"95316\" url=\"https://zh.wikipedia.org/wiki?curid=95316\" title=\"构效关系\">',\n",
       " '<doc id=\"95325\" url=\"https://zh.wikipedia.org/wiki?curid=95325\" title=\"国际铁路联盟\">',\n",
       " '<doc id=\"95340\" url=\"https://zh.wikipedia.org/wiki?curid=95340\" title=\"Aniplex\">',\n",
       " '<doc id=\"95348\" url=\"https://zh.wikipedia.org/wiki?curid=95348\" title=\"天一阁\">',\n",
       " '<doc id=\"95351\" url=\"https://zh.wikipedia.org/wiki?curid=95351\" title=\"元昭宗\">',\n",
       " '<doc id=\"95355\" url=\"https://zh.wikipedia.org/wiki?curid=95355\" title=\"达烂因陀罗跋摩二世\">',\n",
       " '<doc id=\"95357\" url=\"https://zh.wikipedia.org/wiki?curid=95357\" title=\"郭庄\">',\n",
       " '<doc id=\"95358\" url=\"https://zh.wikipedia.org/wiki?curid=95358\" title=\"思维的乐趣\">',\n",
       " '<doc id=\"95361\" url=\"https://zh.wikipedia.org/wiki?curid=95361\" title=\"手\">',\n",
       " '<doc id=\"95367\" url=\"https://zh.wikipedia.org/wiki?curid=95367\" title=\"红场\">',\n",
       " '<doc id=\"95391\" url=\"https://zh.wikipedia.org/wiki?curid=95391\" title=\"计算几何\">',\n",
       " '<doc id=\"95393\" url=\"https://zh.wikipedia.org/wiki?curid=95393\" title=\"马铃薯\">',\n",
       " '<doc id=\"95395\" url=\"https://zh.wikipedia.org/wiki?curid=95395\" title=\"伊奢那跋摩一世\">',\n",
       " '<doc id=\"95400\" url=\"https://zh.wikipedia.org/wiki?curid=95400\" title=\"林俊杰\">',\n",
       " '<doc id=\"95409\" url=\"https://zh.wikipedia.org/wiki?curid=95409\" title=\"汉文化\">',\n",
       " '<doc id=\"95412\" url=\"https://zh.wikipedia.org/wiki?curid=95412\" title=\"脱古思帖木儿\">',\n",
       " '<doc id=\"95415\" url=\"https://zh.wikipedia.org/wiki?curid=95415\" title=\"卓里克图\">',\n",
       " '<doc id=\"95416\" url=\"https://zh.wikipedia.org/wiki?curid=95416\" title=\"Diablo\">',\n",
       " '<doc id=\"95423\" url=\"https://zh.wikipedia.org/wiki?curid=95423\" title=\"朱标\">',\n",
       " '<doc id=\"95424\" url=\"https://zh.wikipedia.org/wiki?curid=95424\" title=\"卡斯蒂利亚君主列表\">',\n",
       " '<doc id=\"95425\" url=\"https://zh.wikipedia.org/wiki?curid=95425\" title=\"鄂州市\">',\n",
       " '<doc id=\"95426\" url=\"https://zh.wikipedia.org/wiki?curid=95426\" title=\"咸宁市\">',\n",
       " '<doc id=\"95427\" url=\"https://zh.wikipedia.org/wiki?curid=95427\" title=\"随州市\">',\n",
       " '<doc id=\"95428\" url=\"https://zh.wikipedia.org/wiki?curid=95428\" title=\"恩施土家族苗族自治州\">',\n",
       " '<doc id=\"95429\" url=\"https://zh.wikipedia.org/wiki?curid=95429\" title=\"段思平\">',\n",
       " '<doc id=\"95430\" url=\"https://zh.wikipedia.org/wiki?curid=95430\" title=\"二氧化硅\">',\n",
       " '<doc id=\"95432\" url=\"https://zh.wikipedia.org/wiki?curid=95432\" title=\"大天兴\">',\n",
       " '<doc id=\"95433\" url=\"https://zh.wikipedia.org/wiki?curid=95433\" title=\"硅酸\">',\n",
       " '<doc id=\"95437\" url=\"https://zh.wikipedia.org/wiki?curid=95437\" title=\"原硅酸\">',\n",
       " '<doc id=\"95441\" url=\"https://zh.wikipedia.org/wiki?curid=95441\" title=\"标枪\">',\n",
       " '<doc id=\"95443\" url=\"https://zh.wikipedia.org/wiki?curid=95443\" title=\"康沃尔公爵夫人卡蜜拉\">',\n",
       " '<doc id=\"95446\" url=\"https://zh.wikipedia.org/wiki?curid=95446\" title=\"巴中市\">',\n",
       " '<doc id=\"95447\" url=\"https://zh.wikipedia.org/wiki?curid=95447\" title=\"达州市\">',\n",
       " '<doc id=\"95448\" url=\"https://zh.wikipedia.org/wiki?curid=95448\" title=\"资阳市\">',\n",
       " '<doc id=\"95449\" url=\"https://zh.wikipedia.org/wiki?curid=95449\" title=\"眉山市\">',\n",
       " '<doc id=\"95451\" url=\"https://zh.wikipedia.org/wiki?curid=95451\" title=\"湘桂铁路\">',\n",
       " '<doc id=\"95456\" url=\"https://zh.wikipedia.org/wiki?curid=95456\" title=\"凉山彝族自治州\">',\n",
       " '<doc id=\"95457\" url=\"https://zh.wikipedia.org/wiki?curid=95457\" title=\"甘孜\">',\n",
       " '<doc id=\"95459\" url=\"https://zh.wikipedia.org/wiki?curid=95459\" title=\"大中\">',\n",
       " '<doc id=\"95465\" url=\"https://zh.wikipedia.org/wiki?curid=95465\" title=\"五胡十六国君主列表\">',\n",
       " '<doc id=\"95466\" url=\"https://zh.wikipedia.org/wiki?curid=95466\" title=\"高金素梅\">',\n",
       " '<doc id=\"95467\" url=\"https://zh.wikipedia.org/wiki?curid=95467\" title=\"黄花岗公园\">',\n",
       " '<doc id=\"95470\" url=\"https://zh.wikipedia.org/wiki?curid=95470\" title=\"濮阳市\">',\n",
       " '<doc id=\"95475\" url=\"https://zh.wikipedia.org/wiki?curid=95475\" title=\"满洲国国歌\">',\n",
       " '<doc id=\"95476\" url=\"https://zh.wikipedia.org/wiki?curid=95476\" title=\"丁磊\">',\n",
       " '<doc id=\"95477\" url=\"https://zh.wikipedia.org/wiki?curid=95477\" title=\"牛肉面\">',\n",
       " '<doc id=\"95478\" url=\"https://zh.wikipedia.org/wiki?curid=95478\" title=\"郭璞\">',\n",
       " '<doc id=\"95486\" url=\"https://zh.wikipedia.org/wiki?curid=95486\" title=\"蝴蝶\">',\n",
       " '<doc id=\"95487\" url=\"https://zh.wikipedia.org/wiki?curid=95487\" title=\"熊庆来\">',\n",
       " '<doc id=\"95488\" url=\"https://zh.wikipedia.org/wiki?curid=95488\" title=\"扁肉燕\">',\n",
       " '<doc id=\"95493\" url=\"https://zh.wikipedia.org/wiki?curid=95493\" title=\"町村信孝\">',\n",
       " '<doc id=\"95504\" url=\"https://zh.wikipedia.org/wiki?curid=95504\" title=\"北京大学元培学院\">',\n",
       " '<doc id=\"95508\" url=\"https://zh.wikipedia.org/wiki?curid=95508\" title=\"约旦河\">',\n",
       " '<doc id=\"95529\" url=\"https://zh.wikipedia.org/wiki?curid=95529\" title=\"宋哲宗\">',\n",
       " '<doc id=\"95534\" url=\"https://zh.wikipedia.org/wiki?curid=95534\" title=\"维也纳爱乐乐团\">',\n",
       " '<doc id=\"95538\" url=\"https://zh.wikipedia.org/wiki?curid=95538\" title=\"2005年英国大选\">',\n",
       " '<doc id=\"95557\" url=\"https://zh.wikipedia.org/wiki?curid=95557\" title=\"桂林市宁远小学\">',\n",
       " '<doc id=\"95562\" url=\"https://zh.wikipedia.org/wiki?curid=95562\" title=\"广西师范大学附属外国语学校\">',\n",
       " '<doc id=\"95563\" url=\"https://zh.wikipedia.org/wiki?curid=95563\" title=\"游泳\">',\n",
       " '<doc id=\"95568\" url=\"https://zh.wikipedia.org/wiki?curid=95568\" title=\"大丰区\">',\n",
       " '<doc id=\"95569\" url=\"https://zh.wikipedia.org/wiki?curid=95569\" title=\"标志\">',\n",
       " '<doc id=\"95577\" url=\"https://zh.wikipedia.org/wiki?curid=95577\" title=\"腐皮\">',\n",
       " '<doc id=\"95585\" url=\"https://zh.wikipedia.org/wiki?curid=95585\" title=\"北一辉\">',\n",
       " '<doc id=\"95587\" url=\"https://zh.wikipedia.org/wiki?curid=95587\" title=\"Blue\">',\n",
       " '<doc id=\"95592\" url=\"https://zh.wikipedia.org/wiki?curid=95592\" title=\"天使之翼\">',\n",
       " '<doc id=\"95593\" url=\"https://zh.wikipedia.org/wiki?curid=95593\" title=\"绍武帝\">',\n",
       " '<doc id=\"95602\" url=\"https://zh.wikipedia.org/wiki?curid=95602\" title=\"最终兵器少女\">',\n",
       " '<doc id=\"95603\" url=\"https://zh.wikipedia.org/wiki?curid=95603\" title=\"日昇动画\">',\n",
       " '<doc id=\"95604\" url=\"https://zh.wikipedia.org/wiki?curid=95604\" title=\"CV\">',\n",
       " '<doc id=\"95606\" url=\"https://zh.wikipedia.org/wiki?curid=95606\" title=\"阳朔县\">',\n",
       " '<doc id=\"95612\" url=\"https://zh.wikipedia.org/wiki?curid=95612\" title=\"罪责\">',\n",
       " '<doc id=\"95613\" url=\"https://zh.wikipedia.org/wiki?curid=95613\" title=\"灵川县\">',\n",
       " '<doc id=\"95626\" url=\"https://zh.wikipedia.org/wiki?curid=95626\" title=\"空屋\">',\n",
       " '<doc id=\"95628\" url=\"https://zh.wikipedia.org/wiki?curid=95628\" title=\"宋武帝\">',\n",
       " '<doc id=\"95629\" url=\"https://zh.wikipedia.org/wiki?curid=95629\" title=\"市中区\">',\n",
       " '<doc id=\"95630\" url=\"https://zh.wikipedia.org/wiki?curid=95630\" title=\"逗子市\">',\n",
       " '<doc id=\"95634\" url=\"https://zh.wikipedia.org/wiki?curid=95634\" title=\"火山高校\">',\n",
       " '<doc id=\"95637\" url=\"https://zh.wikipedia.org/wiki?curid=95637\" title=\"梁山伯与祝英台\">',\n",
       " '<doc id=\"95638\" url=\"https://zh.wikipedia.org/wiki?curid=95638\" title=\"罗马尼亚社会主义共和国\">',\n",
       " '<doc id=\"95640\" url=\"https://zh.wikipedia.org/wiki?curid=95640\" title=\"欢乐在一起\">',\n",
       " '<doc id=\"95645\" url=\"https://zh.wikipedia.org/wiki?curid=95645\" title=\"伊藤清\">',\n",
       " '<doc id=\"95653\" url=\"https://zh.wikipedia.org/wiki?curid=95653\" title=\"生物无机化学\">',\n",
       " '<doc id=\"95657\" url=\"https://zh.wikipedia.org/wiki?curid=95657\" title=\"新竹市立玻璃工艺博物馆\">',\n",
       " '<doc id=\"95674\" url=\"https://zh.wikipedia.org/wiki?curid=95674\" title=\"金寨县\">',\n",
       " '<doc id=\"95676\" url=\"https://zh.wikipedia.org/wiki?curid=95676\" title=\"高吸水性高分子\">',\n",
       " '<doc id=\"95677\" url=\"https://zh.wikipedia.org/wiki?curid=95677\" title=\"倩女幽魂\">',\n",
       " '<doc id=\"95686\" url=\"https://zh.wikipedia.org/wiki?curid=95686\" title=\"土肥原贤二\">',\n",
       " '<doc id=\"95687\" url=\"https://zh.wikipedia.org/wiki?curid=95687\" title=\"数控机床\">',\n",
       " '<doc id=\"95690\" url=\"https://zh.wikipedia.org/wiki?curid=95690\" title=\"王保保\">',\n",
       " '<doc id=\"95692\" url=\"https://zh.wikipedia.org/wiki?curid=95692\" title=\"安娜堡\">',\n",
       " '<doc id=\"95700\" url=\"https://zh.wikipedia.org/wiki?curid=95700\" title=\"亚洲流感\">',\n",
       " '<doc id=\"95703\" url=\"https://zh.wikipedia.org/wiki?curid=95703\" title=\"香港流感\">',\n",
       " '<doc id=\"95704\" url=\"https://zh.wikipedia.org/wiki?curid=95704\" title=\"雅瑞希尔\">',\n",
       " '<doc id=\"95709\" url=\"https://zh.wikipedia.org/wiki?curid=95709\" title=\"喜剧演员\">',\n",
       " '<doc id=\"95713\" url=\"https://zh.wikipedia.org/wiki?curid=95713\" title=\"流行病\">',\n",
       " '<doc id=\"95714\" url=\"https://zh.wikipedia.org/wiki?curid=95714\" title=\"日野富子\">',\n",
       " '<doc id=\"95718\" url=\"https://zh.wikipedia.org/wiki?curid=95718\" title=\"庐阳区\">',\n",
       " '<doc id=\"95719\" url=\"https://zh.wikipedia.org/wiki?curid=95719\" title=\"许不了\">',\n",
       " '<doc id=\"95727\" url=\"https://zh.wikipedia.org/wiki?curid=95727\" title=\"周日\">',\n",
       " '<doc id=\"95728\" url=\"https://zh.wikipedia.org/wiki?curid=95728\" title=\"瑶海区\">',\n",
       " '<doc id=\"95730\" url=\"https://zh.wikipedia.org/wiki?curid=95730\" title=\"蜀山\">',\n",
       " '<doc id=\"95731\" url=\"https://zh.wikipedia.org/wiki?curid=95731\" title=\"包河区\">',\n",
       " '<doc id=\"95732\" url=\"https://zh.wikipedia.org/wiki?curid=95732\" title=\"墨西拿\">',\n",
       " '<doc id=\"95733\" url=\"https://zh.wikipedia.org/wiki?curid=95733\" title=\"长丰县\">',\n",
       " '<doc id=\"95734\" url=\"https://zh.wikipedia.org/wiki?curid=95734\" title=\"地方性流行\">',\n",
       " '<doc id=\"95739\" url=\"https://zh.wikipedia.org/wiki?curid=95739\" title=\"肥东县\">',\n",
       " '<doc id=\"95741\" url=\"https://zh.wikipedia.org/wiki?curid=95741\" title=\"肥西县\">',\n",
       " '<doc id=\"95742\" url=\"https://zh.wikipedia.org/wiki?curid=95742\" title=\"英国下议院\">',\n",
       " '<doc id=\"95743\" url=\"https://zh.wikipedia.org/wiki?curid=95743\" title=\"燕山君\">',\n",
       " '<doc id=\"95744\" url=\"https://zh.wikipedia.org/wiki?curid=95744\" title=\"加来\">',\n",
       " '<doc id=\"95745\" url=\"https://zh.wikipedia.org/wiki?curid=95745\" title=\"基本传染数\">',\n",
       " '<doc id=\"95748\" url=\"https://zh.wikipedia.org/wiki?curid=95748\" title=\"岩石\">',\n",
       " '<doc id=\"95750\" url=\"https://zh.wikipedia.org/wiki?curid=95750\" title=\"外伞顶洲\">',\n",
       " '<doc id=\"95753\" url=\"https://zh.wikipedia.org/wiki?curid=95753\" title=\"富兰克林\">',\n",
       " '<doc id=\"95759\" url=\"https://zh.wikipedia.org/wiki?curid=95759\" title=\"白姓\">',\n",
       " '<doc id=\"95760\" url=\"https://zh.wikipedia.org/wiki?curid=95760\" title=\"罗布泊\">',\n",
       " '<doc id=\"95770\" url=\"https://zh.wikipedia.org/wiki?curid=95770\" title=\"XHTML\">',\n",
       " '<doc id=\"95771\" url=\"https://zh.wikipedia.org/wiki?curid=95771\" title=\"熊姓\">',\n",
       " '<doc id=\"95776\" url=\"https://zh.wikipedia.org/wiki?curid=95776\" title=\"柴达木盆地\">',\n",
       " '<doc id=\"95786\" url=\"https://zh.wikipedia.org/wiki?curid=95786\" title=\"四大奇书\">',\n",
       " '<doc id=\"95792\" url=\"https://zh.wikipedia.org/wiki?curid=95792\" title=\"马赛\">',\n",
       " '<doc id=\"95795\" url=\"https://zh.wikipedia.org/wiki?curid=95795\" title=\"六才子书\">',\n",
       " '<doc id=\"95800\" url=\"https://zh.wikipedia.org/wiki?curid=95800\" title=\"最游记\">',\n",
       " '<doc id=\"95801\" url=\"https://zh.wikipedia.org/wiki?curid=95801\" title=\"三字经\">',\n",
       " '<doc id=\"95803\" url=\"https://zh.wikipedia.org/wiki?curid=95803\" title=\"香蕉共和国\">',\n",
       " '<doc id=\"95804\" url=\"https://zh.wikipedia.org/wiki?curid=95804\" title=\"塔克拉玛干沙漠\">',\n",
       " '<doc id=\"95807\" url=\"https://zh.wikipedia.org/wiki?curid=95807\" title=\"尼罗河女儿\">',\n",
       " '<doc id=\"95808\" url=\"https://zh.wikipedia.org/wiki?curid=95808\" title=\"章回小说\">',\n",
       " '<doc id=\"95813\" url=\"https://zh.wikipedia.org/wiki?curid=95813\" title=\"李雪健\">',\n",
       " '<doc id=\"95816\" url=\"https://zh.wikipedia.org/wiki?curid=95816\" title=\"准噶尔盆地\">',\n",
       " '<doc id=\"95817\" url=\"https://zh.wikipedia.org/wiki?curid=95817\" title=\"座位安全带\">',\n",
       " '<doc id=\"95821\" url=\"https://zh.wikipedia.org/wiki?curid=95821\" title=\"天心\">',\n",
       " '<doc id=\"95822\" url=\"https://zh.wikipedia.org/wiki?curid=95822\" title=\"黄土高原\">',\n",
       " '<doc id=\"95823\" url=\"https://zh.wikipedia.org/wiki?curid=95823\" title=\"山东丘陵\">',\n",
       " '<doc id=\"95825\" url=\"https://zh.wikipedia.org/wiki?curid=95825\" title=\"水晶之夜\">',\n",
       " '<doc id=\"95826\" url=\"https://zh.wikipedia.org/wiki?curid=95826\" title=\"东南丘陵\">',\n",
       " '<doc id=\"95830\" url=\"https://zh.wikipedia.org/wiki?curid=95830\" title=\"Delicious\">',\n",
       " '<doc id=\"95831\" url=\"https://zh.wikipedia.org/wiki?curid=95831\" title=\"云贵高原\">',\n",
       " '<doc id=\"95837\" url=\"https://zh.wikipedia.org/wiki?curid=95837\" title=\"东北平原\">',\n",
       " '<doc id=\"95840\" url=\"https://zh.wikipedia.org/wiki?curid=95840\" title=\"华北平原\">',\n",
       " '<doc id=\"95844\" url=\"https://zh.wikipedia.org/wiki?curid=95844\" title=\"南华早报\">',\n",
       " '<doc id=\"95854\" url=\"https://zh.wikipedia.org/wiki?curid=95854\" title=\"江南丘陵\">',\n",
       " '<doc id=\"95856\" url=\"https://zh.wikipedia.org/wiki?curid=95856\" title=\"森重文\">',\n",
       " '<doc id=\"95865\" url=\"https://zh.wikipedia.org/wiki?curid=95865\" title=\"始信峰\">',\n",
       " '<doc id=\"95866\" url=\"https://zh.wikipedia.org/wiki?curid=95866\" title=\"伊奥\">',\n",
       " '<doc id=\"95867\" url=\"https://zh.wikipedia.org/wiki?curid=95867\" title=\"分水岭\">',\n",
       " '<doc id=\"95869\" url=\"https://zh.wikipedia.org/wiki?curid=95869\" title=\"艾莫斯谷森林\">',\n",
       " '<doc id=\"95889\" url=\"https://zh.wikipedia.org/wiki?curid=95889\" title=\"欢乐谷\">',\n",
       " '<doc id=\"95890\" url=\"https://zh.wikipedia.org/wiki?curid=95890\" title=\"Juke和Kallilak家族\">',\n",
       " '<doc id=\"95895\" url=\"https://zh.wikipedia.org/wiki?curid=95895\" title=\"陈嘉庚\">',\n",
       " '<doc id=\"95897\" url=\"https://zh.wikipedia.org/wiki?curid=95897\" title=\"中松义郎\">',\n",
       " '<doc id=\"95900\" url=\"https://zh.wikipedia.org/wiki?curid=95900\" title=\"梁文道\">',\n",
       " '<doc id=\"95901\" url=\"https://zh.wikipedia.org/wiki?curid=95901\" title=\"鼠疫桿菌\">',\n",
       " '<doc id=\"95902\" url=\"https://zh.wikipedia.org/wiki?curid=95902\" title=\"杉本京太\">',\n",
       " '<doc id=\"95904\" url=\"https://zh.wikipedia.org/wiki?curid=95904\" title=\"美国动画\">',\n",
       " '<doc id=\"95906\" url=\"https://zh.wikipedia.org/wiki?curid=95906\" title=\"亚冈\">',\n",
       " '<doc id=\"95907\" url=\"https://zh.wikipedia.org/wiki?curid=95907\" title=\"无线网络\">',\n",
       " '<doc id=\"95911\" url=\"https://zh.wikipedia.org/wiki?curid=95911\" title=\"周群达\">',\n",
       " '<doc id=\"95912\" url=\"https://zh.wikipedia.org/wiki?curid=95912\" title=\"池田菊苗\">',\n",
       " '<doc id=\"95914\" url=\"https://zh.wikipedia.org/wiki?curid=95914\" title=\"香港文化\">',\n",
       " '<doc id=\"95916\" url=\"https://zh.wikipedia.org/wiki?curid=95916\" title=\"关智一\">',\n",
       " '<doc id=\"95917\" url=\"https://zh.wikipedia.org/wiki?curid=95917\" title=\"二十年目睹之怪现状\">',\n",
       " '<doc id=\"95919\" url=\"https://zh.wikipedia.org/wiki?curid=95919\" title=\"神谷明\">',\n",
       " '<doc id=\"95922\" url=\"https://zh.wikipedia.org/wiki?curid=95922\" title=\"烟草\">',\n",
       " '<doc id=\"95926\" url=\"https://zh.wikipedia.org/wiki?curid=95926\" title=\"三道眉草鹀\">',\n",
       " '<doc id=\"95929\" url=\"https://zh.wikipedia.org/wiki?curid=95929\" title=\"小樽商科大学\">',\n",
       " '<doc id=\"95930\" url=\"https://zh.wikipedia.org/wiki?curid=95930\" title=\"旭川医科大学\">',\n",
       " '<doc id=\"95935\" url=\"https://zh.wikipedia.org/wiki?curid=95935\" title=\"香港邮政\">',\n",
       " '<doc id=\"95939\" url=\"https://zh.wikipedia.org/wiki?curid=95939\" title=\"花鸟画\">',\n",
       " '<doc id=\"95941\" url=\"https://zh.wikipedia.org/wiki?curid=95941\" title=\"带广畜产大学\">',\n",
       " '<doc id=\"95942\" url=\"https://zh.wikipedia.org/wiki?curid=95942\" title=\"喜灵洲\">',\n",
       " '<doc id=\"95943\" url=\"https://zh.wikipedia.org/wiki?curid=95943\" title=\"北见工业大学\">',\n",
       " '<doc id=\"95944\" url=\"https://zh.wikipedia.org/wiki?curid=95944\" title=\"室兰工业大学\">',\n",
       " '<doc id=\"95945\" url=\"https://zh.wikipedia.org/wiki?curid=95945\" title=\"动画术语列表\">',\n",
       " '<doc id=\"95946\" url=\"https://zh.wikipedia.org/wiki?curid=95946\" title=\"段思英\">',\n",
       " '<doc id=\"95948\" url=\"https://zh.wikipedia.org/wiki?curid=95948\" title=\"钏路公立大学\">',\n",
       " '<doc id=\"95954\" url=\"https://zh.wikipedia.org/wiki?curid=95954\" title=\"公立函馆未来大学\">',\n",
       " '<doc id=\"95957\" url=\"https://zh.wikipedia.org/wiki?curid=95957\" title=\"巴拉圭河\">',\n",
       " '<doc id=\"95958\" url=\"https://zh.wikipedia.org/wiki?curid=95958\" title=\"梅格林\">',\n",
       " '<doc id=\"95960\" url=\"https://zh.wikipedia.org/wiki?curid=95960\" title=\"札幌医科大学\">',\n",
       " '<doc id=\"95971\" url=\"https://zh.wikipedia.org/wiki?curid=95971\" title=\"宫城教育大学\">',\n",
       " '<doc id=\"95973\" url=\"https://zh.wikipedia.org/wiki?curid=95973\" title=\"秋田大学\">',\n",
       " '<doc id=\"95980\" url=\"https://zh.wikipedia.org/wiki?curid=95980\" title=\"青森公立大学\">',\n",
       " '<doc id=\"95981\" url=\"https://zh.wikipedia.org/wiki?curid=95981\" title=\"吕雉\">',\n",
       " '<doc id=\"95982\" url=\"https://zh.wikipedia.org/wiki?curid=95982\" title=\"费纳芬\">',\n",
       " '<doc id=\"95993\" url=\"https://zh.wikipedia.org/wiki?curid=95993\" title=\"李云迪\">',\n",
       " '<doc id=\"95997\" url=\"https://zh.wikipedia.org/wiki?curid=95997\" title=\"中国银行外汇兑换券\">',\n",
       " '<doc id=\"96001\" url=\"https://zh.wikipedia.org/wiki?curid=96001\" title=\"东正教北京传道团\">',\n",
       " '<doc id=\"96007\" url=\"https://zh.wikipedia.org/wiki?curid=96007\" title=\"百战天龙\">',\n",
       " '<doc id=\"96009\" url=\"https://zh.wikipedia.org/wiki?curid=96009\" title=\"美国化学学会\">',\n",
       " '<doc id=\"96010\" url=\"https://zh.wikipedia.org/wiki?curid=96010\" title=\"伊珥雯\">',\n",
       " '<doc id=\"96012\" url=\"https://zh.wikipedia.org/wiki?curid=96012\" title=\"香港电灯\">',\n",
       " '<doc id=\"96013\" url=\"https://zh.wikipedia.org/wiki?curid=96013\" title=\"羽毛球\">',\n",
       " '<doc id=\"96031\" url=\"https://zh.wikipedia.org/wiki?curid=96031\" title=\"康克由\">',\n",
       " '<doc id=\"96032\" url=\"https://zh.wikipedia.org/wiki?curid=96032\" title=\"中华民国教育\">',\n",
       " '<doc id=\"96033\" url=\"https://zh.wikipedia.org/wiki?curid=96033\" title=\"弘前大学\">',\n",
       " '<doc id=\"96034\" url=\"https://zh.wikipedia.org/wiki?curid=96034\" title=\"吐斯廉屠杀博物馆\">',\n",
       " '<doc id=\"96037\" url=\"https://zh.wikipedia.org/wiki?curid=96037\" title=\"岩手大学\">',\n",
       " '<doc id=\"96039\" url=\"https://zh.wikipedia.org/wiki?curid=96039\" title=\"山形大学\">',\n",
       " '<doc id=\"96044\" url=\"https://zh.wikipedia.org/wiki?curid=96044\" title=\"万人冢\">',\n",
       " '<doc id=\"96047\" url=\"https://zh.wikipedia.org/wiki?curid=96047\" title=\"沈家本\">',\n",
       " '<doc id=\"96054\" url=\"https://zh.wikipedia.org/wiki?curid=96054\" title=\"沈尹默\">',\n",
       " '<doc id=\"96065\" url=\"https://zh.wikipedia.org/wiki?curid=96065\" title=\"科学博物馆\">',\n",
       " '<doc id=\"96072\" url=\"https://zh.wikipedia.org/wiki?curid=96072\" title=\"导盲犬\">',\n",
       " '<doc id=\"96073\" url=\"https://zh.wikipedia.org/wiki?curid=96073\" title=\"香港科学馆\">',\n",
       " '<doc id=\"96081\" url=\"https://zh.wikipedia.org/wiki?curid=96081\" title=\"乐兰\">',\n",
       " '<doc id=\"96096\" url=\"https://zh.wikipedia.org/wiki?curid=96096\" title=\"童行岁月\">',\n",
       " '<doc id=\"96105\" url=\"https://zh.wikipedia.org/wiki?curid=96105\" title=\"喻皓\">',\n",
       " '<doc id=\"96114\" url=\"https://zh.wikipedia.org/wiki?curid=96114\" title=\"全国中等学校运动会\">',\n",
       " '<doc id=\"96119\" url=\"https://zh.wikipedia.org/wiki?curid=96119\" title=\"柬埔寨人民党\">',\n",
       " '<doc id=\"96126\" url=\"https://zh.wikipedia.org/wiki?curid=96126\" title=\"白柳诚一\">',\n",
       " '<doc id=\"96178\" url=\"https://zh.wikipedia.org/wiki?curid=96178\" title=\"飓风\">',\n",
       " '<doc id=\"96186\" url=\"https://zh.wikipedia.org/wiki?curid=96186\" title=\"德国邮政\">',\n",
       " '<doc id=\"96191\" url=\"https://zh.wikipedia.org/wiki?curid=96191\" title=\"入野自由\">',\n",
       " '<doc id=\"96198\" url=\"https://zh.wikipedia.org/wiki?curid=96198\" title=\"何南丰\">',\n",
       " '<doc id=\"96202\" url=\"https://zh.wikipedia.org/wiki?curid=96202\" title=\"森久保祥太郎\">',\n",
       " '<doc id=\"96208\" url=\"https://zh.wikipedia.org/wiki?curid=96208\" title=\"2005年国家领导人列表\">',\n",
       " '<doc id=\"96210\" url=\"https://zh.wikipedia.org/wiki?curid=96210\" title=\"比利牛斯山\">',\n",
       " '<doc id=\"96211\" url=\"https://zh.wikipedia.org/wiki?curid=96211\" title=\"杀手\">',\n",
       " '<doc id=\"96212\" url=\"https://zh.wikipedia.org/wiki?curid=96212\" title=\"号\">',\n",
       " '<doc id=\"96218\" url=\"https://zh.wikipedia.org/wiki?curid=96218\" title=\"燕青\">',\n",
       " '<doc id=\"96225\" url=\"https://zh.wikipedia.org/wiki?curid=96225\" title=\"自虐史观\">',\n",
       " '<doc id=\"96232\" url=\"https://zh.wikipedia.org/wiki?curid=96232\" title=\"葛饰北斋\">',\n",
       " '<doc id=\"96245\" url=\"https://zh.wikipedia.org/wiki?curid=96245\" title=\"张邦昌\">',\n",
       " '<doc id=\"96249\" url=\"https://zh.wikipedia.org/wiki?curid=96249\" title=\"杨思琦\">',\n",
       " '<doc id=\"96251\" url=\"https://zh.wikipedia.org/wiki?curid=96251\" title=\"骨骼\">',\n",
       " '<doc id=\"96252\" url=\"https://zh.wikipedia.org/wiki?curid=96252\" title=\"深圳报业集团\">',\n",
       " '<doc id=\"96253\" url=\"https://zh.wikipedia.org/wiki?curid=96253\" title=\"库思老一世\">',\n",
       " '<doc id=\"96255\" url=\"https://zh.wikipedia.org/wiki?curid=96255\" title=\"官能团\">',\n",
       " '<doc id=\"96260\" url=\"https://zh.wikipedia.org/wiki?curid=96260\" title=\"奖门人系列\">',\n",
       " '<doc id=\"96261\" url=\"https://zh.wikipedia.org/wiki?curid=96261\" title=\"Chobits\">',\n",
       " '<doc id=\"96262\" url=\"https://zh.wikipedia.org/wiki?curid=96262\" title=\"消化系统\">',\n",
       " '<doc id=\"96266\" url=\"https://zh.wikipedia.org/wiki?curid=96266\" title=\"毛主席像章\">',\n",
       " '<doc id=\"96267\" url=\"https://zh.wikipedia.org/wiki?curid=96267\" title=\"内幕\">',\n",
       " '<doc id=\"96268\" url=\"https://zh.wikipedia.org/wiki?curid=96268\" title=\"宗座缺出论\">',\n",
       " '<doc id=\"96271\" url=\"https://zh.wikipedia.org/wiki?curid=96271\" title=\"DA师\">',\n",
       " '<doc id=\"96274\" url=\"https://zh.wikipedia.org/wiki?curid=96274\" title=\"追日\">',\n",
       " '<doc id=\"96278\" url=\"https://zh.wikipedia.org/wiki?curid=96278\" title=\"东英吉利亚大学\">',\n",
       " '<doc id=\"96282\" url=\"https://zh.wikipedia.org/wiki?curid=96282\" title=\"科学考察\">',\n",
       " '<doc id=\"96291\" url=\"https://zh.wikipedia.org/wiki?curid=96291\" title=\"镜湖区\">',\n",
       " '<doc id=\"96293\" url=\"https://zh.wikipedia.org/wiki?curid=96293\" title=\"石龙\">',\n",
       " '<doc id=\"96301\" url=\"https://zh.wikipedia.org/wiki?curid=96301\" title=\"新芜区\">',\n",
       " '<doc id=\"96303\" url=\"https://zh.wikipedia.org/wiki?curid=96303\" title=\"徐洪浩\">',\n",
       " '<doc id=\"96305\" url=\"https://zh.wikipedia.org/wiki?curid=96305\" title=\"人类帝国\">',\n",
       " '<doc id=\"96307\" url=\"https://zh.wikipedia.org/wiki?curid=96307\" title=\"鸠江区\">',\n",
       " '<doc id=\"96308\" url=\"https://zh.wikipedia.org/wiki?curid=96308\" title=\"库思老\">',\n",
       " '<doc id=\"96309\" url=\"https://zh.wikipedia.org/wiki?curid=96309\" title=\"芜湖县\">',\n",
       " '<doc id=\"96311\" url=\"https://zh.wikipedia.org/wiki?curid=96311\" title=\"200年国家领导人列表\">',\n",
       " '<doc id=\"96314\" url=\"https://zh.wikipedia.org/wiki?curid=96314\" title=\"儿童节\">',\n",
       " '<doc id=\"96316\" url=\"https://zh.wikipedia.org/wiki?curid=96316\" title=\"南陵县\">',\n",
       " '<doc id=\"96319\" url=\"https://zh.wikipedia.org/wiki?curid=96319\" title=\"关胜\">',\n",
       " '<doc id=\"96320\" url=\"https://zh.wikipedia.org/wiki?curid=96320\" title=\"北京四合院\">',\n",
       " '<doc id=\"96321\" url=\"https://zh.wikipedia.org/wiki?curid=96321\" title=\"繁昌县\">',\n",
       " '<doc id=\"96322\" url=\"https://zh.wikipedia.org/wiki?curid=96322\" title=\"仙后座号列车\">',\n",
       " '<doc id=\"96324\" url=\"https://zh.wikipedia.org/wiki?curid=96324\" title=\"甘孜藏族自治州\">',\n",
       " '<doc id=\"96326\" url=\"https://zh.wikipedia.org/wiki?curid=96326\" title=\"齿龈音\">',\n",
       " '<doc id=\"96330\" url=\"https://zh.wikipedia.org/wiki?curid=96330\" title=\"塘厦镇\">',\n",
       " '<doc id=\"96331\" url=\"https://zh.wikipedia.org/wiki?curid=96331\" title=\"海棠\">',\n",
       " '<doc id=\"96335\" url=\"https://zh.wikipedia.org/wiki?curid=96335\" title=\"霍斯劳一世\">',\n",
       " '<doc id=\"96341\" url=\"https://zh.wikipedia.org/wiki?curid=96341\" title=\"重油\">',\n",
       " '<doc id=\"96342\" url=\"https://zh.wikipedia.org/wiki?curid=96342\" title=\"阜南县\">',\n",
       " '<doc id=\"96343\" url=\"https://zh.wikipedia.org/wiki?curid=96343\" title=\"齿音\">',\n",
       " '<doc id=\"96346\" url=\"https://zh.wikipedia.org/wiki?curid=96346\" title=\"铁路电气化\">',\n",
       " '<doc id=\"96347\" url=\"https://zh.wikipedia.org/wiki?curid=96347\" title=\"颍上县\">',\n",
       " '<doc id=\"96356\" url=\"https://zh.wikipedia.org/wiki?curid=96356\" title=\"克拉克曼南郡\">',\n",
       " '<doc id=\"96369\" url=\"https://zh.wikipedia.org/wiki?curid=96369\" title=\"梁洛施\">',\n",
       " '<doc id=\"323886\" url=\"https://zh.wikipedia.org/wiki?curid=323886\" title=\"中国国际航空航天博览会\">',\n",
       " '<doc id=\"323889\" url=\"https://zh.wikipedia.org/wiki?curid=323889\" title=\"翻转角\">',\n",
       " '<doc id=\"323890\" url=\"https://zh.wikipedia.org/wiki?curid=323890\" title=\"五块厝站\">',\n",
       " '<doc id=\"323891\" url=\"https://zh.wikipedia.org/wiki?curid=323891\" title=\"154\">',\n",
       " '<doc id=\"323895\" url=\"https://zh.wikipedia.org/wiki?curid=323895\" title=\"技击馆站\">',\n",
       " '<doc id=\"323896\" url=\"https://zh.wikipedia.org/wiki?curid=323896\" title=\"协同中学\">',\n",
       " '<doc id=\"323897\" url=\"https://zh.wikipedia.org/wiki?curid=323897\" title=\"公教报\">',\n",
       " '<doc id=\"323898\" url=\"https://zh.wikipedia.org/wiki?curid=323898\" title=\"卫武营站\">',\n",
       " '<doc id=\"323899\" url=\"https://zh.wikipedia.org/wiki?curid=323899\" title=\"小柴胡汤\">',\n",
       " '<doc id=\"323900\" url=\"https://zh.wikipedia.org/wiki?curid=323900\" title=\"凤山西站\">',\n",
       " '<doc id=\"323908\" url=\"https://zh.wikipedia.org/wiki?curid=323908\" title=\"大东站\">',\n",
       " '<doc id=\"323911\" url=\"https://zh.wikipedia.org/wiki?curid=323911\" title=\"凤山国中站\">',\n",
       " '<doc id=\"323963\" url=\"https://zh.wikipedia.org/wiki?curid=323963\" title=\"铁线蕨科\">',\n",
       " '<doc id=\"323971\" url=\"https://zh.wikipedia.org/wiki?curid=323971\" title=\"水韭\">',\n",
       " '<doc id=\"324006\" url=\"https://zh.wikipedia.org/wiki?curid=324006\" title=\"苹科\">',\n",
       " '<doc id=\"324017\" url=\"https://zh.wikipedia.org/wiki?curid=324017\" title=\"中草药\">',\n",
       " '<doc id=\"324068\" url=\"https://zh.wikipedia.org/wiki?curid=324068\" title=\"水蕨科\">',\n",
       " '<doc id=\"324070\" url=\"https://zh.wikipedia.org/wiki?curid=324070\" title=\"哈里斯堡\">',\n",
       " '<doc id=\"324075\" url=\"https://zh.wikipedia.org/wiki?curid=324075\" title=\"同量素\">',\n",
       " '<doc id=\"324076\" url=\"https://zh.wikipedia.org/wiki?curid=324076\" title=\"中华民国足球协会\">',\n",
       " '<doc id=\"324077\" url=\"https://zh.wikipedia.org/wiki?curid=324077\" title=\"水龙骨科\">',\n",
       " '<doc id=\"324080\" url=\"https://zh.wikipedia.org/wiki?curid=324080\" title=\"金星蕨科\">',\n",
       " '<doc id=\"324081\" url=\"https://zh.wikipedia.org/wiki?curid=324081\" title=\"2006年国家领导人列表\">',\n",
       " '<doc id=\"324083\" url=\"https://zh.wikipedia.org/wiki?curid=324083\" title=\"蓼科\">',\n",
       " '<doc id=\"324084\" url=\"https://zh.wikipedia.org/wiki?curid=324084\" title=\"唐义方\">',\n",
       " '<doc id=\"324086\" url=\"https://zh.wikipedia.org/wiki?curid=324086\" title=\"三白草科\">',\n",
       " '<doc id=\"324087\" url=\"https://zh.wikipedia.org/wiki?curid=324087\" title=\"水马齿科\">',\n",
       " '<doc id=\"324091\" url=\"https://zh.wikipedia.org/wiki?curid=324091\" title=\"苋科\">',\n",
       " '<doc id=\"324094\" url=\"https://zh.wikipedia.org/wiki?curid=324094\" title=\"克鲁耶区\">',\n",
       " '<doc id=\"324095\" url=\"https://zh.wikipedia.org/wiki?curid=324095\" title=\"蕰藻浜\">',\n",
       " '<doc id=\"324098\" url=\"https://zh.wikipedia.org/wiki?curid=324098\" title=\"本田S2000\">',\n",
       " '<doc id=\"324100\" url=\"https://zh.wikipedia.org/wiki?curid=324100\" title=\"科赤区\">',\n",
       " '<doc id=\"324101\" url=\"https://zh.wikipedia.org/wiki?curid=324101\" title=\"库克斯区\">',\n",
       " '<doc id=\"324110\" url=\"https://zh.wikipedia.org/wiki?curid=324110\" title=\"石竹科\">',\n",
       " '<doc id=\"324115\" url=\"https://zh.wikipedia.org/wiki?curid=324115\" title=\"藤黄科\">',\n",
       " '<doc id=\"324117\" url=\"https://zh.wikipedia.org/wiki?curid=324117\" title=\"茅膏菜科\">',\n",
       " '<doc id=\"324124\" url=\"https://zh.wikipedia.org/wiki?curid=324124\" title=\"美国医师执照考试\">',\n",
       " '<doc id=\"324142\" url=\"https://zh.wikipedia.org/wiki?curid=324142\" title=\"跳房子\">',\n",
       " '<doc id=\"324143\" url=\"https://zh.wikipedia.org/wiki?curid=324143\" title=\"菲利普斯曲线\">',\n",
       " '<doc id=\"324145\" url=\"https://zh.wikipedia.org/wiki?curid=324145\" title=\"奥肯法则\">',\n",
       " '<doc id=\"324149\" url=\"https://zh.wikipedia.org/wiki?curid=324149\" title=\"纪晓芙\">',\n",
       " '<doc id=\"324150\" url=\"https://zh.wikipedia.org/wiki?curid=324150\" title=\"大浦洞1号飞弹\">',\n",
       " '<doc id=\"324160\" url=\"https://zh.wikipedia.org/wiki?curid=324160\" title=\"小港站\">',\n",
       " '<doc id=\"324161\" url=\"https://zh.wikipedia.org/wiki?curid=324161\" title=\"高雄国际机场站\">',\n",
       " '<doc id=\"324162\" url=\"https://zh.wikipedia.org/wiki?curid=324162\" title=\"沟繁缕科\">',\n",
       " '<doc id=\"324163\" url=\"https://zh.wikipedia.org/wiki?curid=324163\" title=\"草衙站\">',\n",
       " '<doc id=\"324165\" url=\"https://zh.wikipedia.org/wiki?curid=324165\" title=\"流星3型飞弹\">',\n",
       " '<doc id=\"324166\" url=\"https://zh.wikipedia.org/wiki?curid=324166\" title=\"千屈菜科\">',\n",
       " '<doc id=\"324167\" url=\"https://zh.wikipedia.org/wiki?curid=324167\" title=\"前镇高中站\">',\n",
       " '<doc id=\"324168\" url=\"https://zh.wikipedia.org/wiki?curid=324168\" title=\"柳叶菜科\">',\n",
       " '<doc id=\"324171\" url=\"https://zh.wikipedia.org/wiki?curid=324171\" title=\"你所期望的永远\">',\n",
       " ...]"
      ]
     },
     "execution_count": 37,
     "metadata": {},
     "output_type": "execute_result"
    }
   ],
   "source": [
    "re.findall('<doc\\s+id=\"\\d+\"\\s+url=\"https:\\/\\/zh.wikipedia.org\\/wiki\\?curid=\\d+\"\\s+title=\"\\w+\">',text)"
   ]
  },
  {
   "cell_type": "code",
   "execution_count": 39,
   "metadata": {},
   "outputs": [],
   "source": [
    "text = re.sub('<doc\\s+id=\"\\d+\"\\s+url=\"https:\\/\\/zh.wikipedia.org\\/wiki\\?curid=\\d+\"\\s+title=\"\\w+\">','',text)"
   ]
  },
  {
   "cell_type": "code",
   "execution_count": 41,
   "metadata": {},
   "outputs": [],
   "source": [
    "text = re.sub('</doc>','',text)"
   ]
  },
  {
   "cell_type": "code",
   "execution_count": 13,
   "metadata": {},
   "outputs": [],
   "source": [
    "def token(content):\n",
    "    return \" \".join(re.findall('[\\w|\\d]+', content))"
   ]
  },
  {
   "cell_type": "code",
   "execution_count": 42,
   "metadata": {},
   "outputs": [],
   "source": [
    "content = token(text)"
   ]
  },
  {
   "cell_type": "code",
   "execution_count": 43,
   "metadata": {},
   "outputs": [
    {
     "data": {
      "text/plain": [
       "9340191"
      ]
     },
     "execution_count": 43,
     "metadata": {},
     "output_type": "execute_result"
    }
   ],
   "source": [
    "len(content)"
   ]
  },
  {
   "cell_type": "markdown",
   "metadata": {},
   "source": [
    "（3）切词，统计词频"
   ]
  },
  {
   "cell_type": "code",
   "execution_count": 25,
   "metadata": {},
   "outputs": [],
   "source": [
    "import jieba"
   ]
  },
  {
   "cell_type": "code",
   "execution_count": 28,
   "metadata": {},
   "outputs": [],
   "source": [
    "def cut(string): return list(jieba.cut(string))"
   ]
  },
  {
   "cell_type": "code",
   "execution_count": 44,
   "metadata": {},
   "outputs": [],
   "source": [
    "all_tokens = cut(content)"
   ]
  },
  {
   "cell_type": "code",
   "execution_count": 45,
   "metadata": {},
   "outputs": [
    {
     "name": "stdout",
     "output_type": "stream",
     "text": [
      "5201765\n"
     ]
    }
   ],
   "source": [
    "print(len(all_tokens))"
   ]
  },
  {
   "cell_type": "code",
   "execution_count": 47,
   "metadata": {},
   "outputs": [],
   "source": [
    "valid_token = [t for t in all_tokens if t.strip()]"
   ]
  },
  {
   "cell_type": "code",
   "execution_count": 48,
   "metadata": {},
   "outputs": [
    {
     "name": "stdout",
     "output_type": "stream",
     "text": [
      "4233082\n"
     ]
    }
   ],
   "source": [
    "print(len(valid_token))"
   ]
  },
  {
   "cell_type": "code",
   "execution_count": 34,
   "metadata": {},
   "outputs": [],
   "source": [
    "from collections import Counter"
   ]
  },
  {
   "cell_type": "code",
   "execution_count": 49,
   "metadata": {},
   "outputs": [],
   "source": [
    "words_count = Counter(valid_token)"
   ]
  },
  {
   "cell_type": "code",
   "execution_count": 105,
   "metadata": {},
   "outputs": [],
   "source": [
    "words_sum = sum(words_count.values())"
   ]
  },
  {
   "cell_type": "code",
   "execution_count": 50,
   "metadata": {},
   "outputs": [
    {
     "data": {
      "text/plain": [
       "[('的', 208037),\n",
       " ('年', 65621),\n",
       " ('在', 58832),\n",
       " ('是', 46525),\n",
       " ('和', 30974),\n",
       " ('为', 29324),\n",
       " ('月', 27738),\n",
       " ('了', 27664),\n",
       " ('与', 19952),\n",
       " ('于', 17291)]"
      ]
     },
     "execution_count": 50,
     "metadata": {},
     "output_type": "execute_result"
    }
   ],
   "source": [
    "words_count.most_common(10)"
   ]
  },
  {
   "cell_type": "markdown",
   "metadata": {},
   "source": [
    "### 2-gram:在text中统计相邻两个词在整个分词中出现的概率，作为两个词同时出现的概率的计算方式"
   ]
  },
  {
   "cell_type": "code",
   "execution_count": 112,
   "metadata": {},
   "outputs": [],
   "source": [
    "all_2_gram_word = [''.join(valid_token[i:i+2]) for i in range(len(valid_token[:-1]))]"
   ]
  },
  {
   "cell_type": "code",
   "execution_count": 111,
   "metadata": {},
   "outputs": [
    {
     "data": {
      "text/plain": [
       "2"
      ]
     },
     "execution_count": 111,
     "metadata": {},
     "output_type": "execute_result"
    }
   ],
   "source": [
    "len(valid_token[0:2])"
   ]
  },
  {
   "cell_type": "code",
   "execution_count": 113,
   "metadata": {},
   "outputs": [],
   "source": [
    "_2_gram_word = len(all_2_gram_word)"
   ]
  },
  {
   "cell_type": "code",
   "execution_count": 114,
   "metadata": {},
   "outputs": [],
   "source": [
    "_2_gram_count = Counter(all_2_gram_word)"
   ]
  },
  {
   "cell_type": "code",
   "execution_count": 115,
   "metadata": {},
   "outputs": [
    {
     "data": {
      "text/plain": [
       "4"
      ]
     },
     "execution_count": 115,
     "metadata": {},
     "output_type": "execute_result"
    }
   ],
   "source": [
    "_2_gram_count['飞机降落']"
   ]
  },
  {
   "cell_type": "markdown",
   "metadata": {},
   "source": [
    "### 注意！！！，这个p(w1,w2) 和p(w1)的分母是一样的，都是总个数，不是种类数，如果加上bigram的第一个单个的话"
   ]
  },
  {
   "cell_type": "code",
   "execution_count": 106,
   "metadata": {},
   "outputs": [
    {
     "data": {
      "text/plain": [
       "4233082"
      ]
     },
     "execution_count": 106,
     "metadata": {},
     "output_type": "execute_result"
    }
   ],
   "source": [
    "words_sum"
   ]
  },
  {
   "cell_type": "code",
   "execution_count": 116,
   "metadata": {},
   "outputs": [
    {
     "data": {
      "text/plain": [
       "4233081"
      ]
     },
     "execution_count": 116,
     "metadata": {},
     "output_type": "execute_result"
    }
   ],
   "source": [
    "_2_gram_word"
   ]
  },
  {
   "cell_type": "code",
   "execution_count": 65,
   "metadata": {},
   "outputs": [],
   "source": [
    "def get_combitation_prob(w1,w2):\n",
    "    if w1+w2 in _2_gram_count: return _2_gram_count[w1+w2] / _2_gram_word\n",
    "    else: return 1 / _2_gram_word"
   ]
  },
  {
   "cell_type": "code",
   "execution_count": 68,
   "metadata": {},
   "outputs": [],
   "source": [
    "def get_prob(word):\n",
    "    if word in words_count: return words_count[word] / words_sum\n",
    "    else: return 1 / words_sum"
   ]
  },
  {
   "cell_type": "code",
   "execution_count": 70,
   "metadata": {},
   "outputs": [],
   "source": [
    "def get_prob_2_gram(w1,w2):\n",
    "    return get_combitation_prob(w1,w2) / get_prob(w1)"
   ]
  },
  {
   "cell_type": "code",
   "execution_count": 72,
   "metadata": {},
   "outputs": [],
   "source": [
    "def get_2gram_language_model(sentence):\n",
    "    sentence_prob = 1\n",
    "    words = cut(sentence)\n",
    "    for i, word in enumerate(words):\n",
    "        if i == 0:\n",
    "            prob = get_prob(word)\n",
    "        else:\n",
    "            pre = words[i-1]\n",
    "            prob = get_prob_2_gram(pre, word)\n",
    "        sentence_prob *= prob\n",
    "    return sentence_prob"
   ]
  },
  {
   "cell_type": "code",
   "execution_count": 117,
   "metadata": {},
   "outputs": [
    {
     "data": {
      "text/plain": [
       "2.362345535084257e-07"
      ]
     },
     "execution_count": 117,
     "metadata": {},
     "output_type": "execute_result"
    }
   ],
   "source": [
    "get_2gram_language_model(\"柠檬养乐\")"
   ]
  },
  {
   "cell_type": "code",
   "execution_count": 118,
   "metadata": {},
   "outputs": [
    {
     "data": {
      "text/plain": [
       "9.33733633656877e-10"
      ]
     },
     "execution_count": 118,
     "metadata": {},
     "output_type": "execute_result"
    }
   ],
   "source": [
    "get_2gram_language_model(\"今晚吃披萨\")"
   ]
  },
  {
   "cell_type": "markdown",
   "metadata": {},
   "source": [
    " $$ p(w_2|w_1)  = \\frac{p(w_1 \\cdot w_2)}{p(w_1)} = \\frac {C(w_1w_2)}{C(w_1)}$$\n",
    " \n",
    " 注：意思就是w1w2的个数（不分顺序的同时出现的个数）除以w1的出现个数"
   ]
  },
  {
   "cell_type": "code",
   "execution_count": 79,
   "metadata": {},
   "outputs": [
    {
     "data": {
      "text/plain": [
       "4.404713069882999e-23"
      ]
     },
     "execution_count": 79,
     "metadata": {},
     "output_type": "execute_result"
    }
   ],
   "source": [
    "get_2gram_language_model(\"樱花公主与火龙的秘密\")"
   ]
  },
  {
   "cell_type": "code",
   "execution_count": 80,
   "metadata": {},
   "outputs": [
    {
     "data": {
      "text/plain": [
       "8.894204812127475e-15"
      ]
     },
     "execution_count": 80,
     "metadata": {},
     "output_type": "execute_result"
    }
   ],
   "source": [
    "get_2gram_language_model(\"我看见了樱木花道\")"
   ]
  },
  {
   "cell_type": "markdown",
   "metadata": {},
   "source": [
    "### OOV问题：如何解决没见过的单词\n",
    "    把一个个出现过的单词的频率获得后，面临一个问题就是观察有限，如何解决没有见过的单词频率？单词没见过并不表示它的频率就是0，而只能说是一个比较低的数字\n",
    "    关于未见过的事件预测，Laplace提出一个估算方法，例如明天太阳不再升起，概率的计算是\n",
    "$$ p(sun) = \\frac{n+1}{n+2} $$\n",
    "     \n",
    "     在频率计算的时候，全部发生的可能性是已知的数据，再在分母加上一个位置的占位符。\n",
    "     那么，当我们的观察次数n = 0时，也就是说，我没见过太阳没升起的时候，概率就是1/2，随着观察到的升起次数越来越多，那么频率就会逐渐解决\n",
    "     对于现在的问题，我们假设\n",
    "   **全部的单词是已知的单词数加上现有单词的种类数**，就可以对没见过的单词进行一个估计"
   ]
  },
  {
   "cell_type": "code",
   "execution_count": 81,
   "metadata": {},
   "outputs": [],
   "source": [
    "def laplace_smooth(count, c=1):\n",
    "    N = sum(count.values()) # 单词的总个数\n",
    "    Nplus = N + c * (len(count) + 1) # 单词的种类\n",
    "    return lambda word: (count[word] + c) / Nplus"
   ]
  },
  {
   "cell_type": "markdown",
   "metadata": {},
   "source": [
    "**words_count是每个单词的统计结果**"
   ]
  },
  {
   "cell_type": "code",
   "execution_count": 119,
   "metadata": {},
   "outputs": [],
   "source": [
    "laplace_prob = laplace_smooth(words_count)"
   ]
  },
  {
   "cell_type": "code",
   "execution_count": 120,
   "metadata": {},
   "outputs": [
    {
     "data": {
      "text/plain": [
       "2.6702655912913737e-06"
      ]
     },
     "execution_count": 120,
     "metadata": {},
     "output_type": "execute_result"
    }
   ],
   "source": [
    "laplace_prob('你好')"
   ]
  },
  {
   "cell_type": "code",
   "execution_count": 121,
   "metadata": {},
   "outputs": [
    {
     "data": {
      "text/plain": [
       "2.225221326076145e-07"
      ]
     },
     "execution_count": 121,
     "metadata": {},
     "output_type": "execute_result"
    }
   ],
   "source": [
    "laplace_prob('从未见过啊')"
   ]
  },
  {
   "cell_type": "markdown",
   "metadata": {},
   "source": [
    "**good-tuning使用出现1次的单词来对出现0次的单词进行重新估计，当然也可以使用出现N次的单词对N-1的单词进行重新估计，不过为了简便，这里只解决出现为0的问题**"
   ]
  },
  {
   "cell_type": "code",
   "execution_count": 89,
   "metadata": {},
   "outputs": [],
   "source": [
    "single_words = [w for w in words_count if words_count[w] == 1]"
   ]
  },
  {
   "cell_type": "code",
   "execution_count": 90,
   "metadata": {},
   "outputs": [
    {
     "data": {
      "text/plain": [
       "126500"
      ]
     },
     "execution_count": 90,
     "metadata": {},
     "output_type": "execute_result"
    }
   ],
   "source": [
    "len(single_words)"
   ]
  },
  {
   "cell_type": "markdown",
   "metadata": {},
   "source": [
    " 这些单词的**分布情况**"
   ]
  },
  {
   "cell_type": "code",
   "execution_count": 91,
   "metadata": {},
   "outputs": [],
   "source": [
    "lengths = list(map(len, single_words))"
   ]
  },
  {
   "cell_type": "code",
   "execution_count": 94,
   "metadata": {
    "scrolled": true
   },
   "outputs": [
    {
     "data": {
      "text/plain": [
       "[(2, 55600),\n",
       " (3, 37009),\n",
       " (4, 14678),\n",
       " (5, 4160),\n",
       " (6, 3537),\n",
       " (7, 2964),\n",
       " (8, 2328),\n",
       " (9, 1709),\n",
       " (1, 1584),\n",
       " (10, 1163),\n",
       " (11, 751),\n",
       " (12, 393),\n",
       " (13, 244),\n",
       " (14, 161),\n",
       " (15, 73),\n",
       " (16, 52),\n",
       " (17, 31),\n",
       " (19, 14),\n",
       " (18, 12),\n",
       " (20, 9),\n",
       " (24, 7),\n",
       " (22, 5),\n",
       " (25, 5),\n",
       " (21, 2),\n",
       " (27, 2),\n",
       " (23, 2),\n",
       " (33, 1),\n",
       " (30, 1),\n",
       " (28, 1),\n",
       " (26, 1),\n",
       " (36, 1)]"
      ]
     },
     "execution_count": 94,
     "metadata": {},
     "output_type": "execute_result"
    }
   ],
   "source": [
    "Counter(lengths).most_common()"
   ]
  },
  {
   "cell_type": "code",
   "execution_count": 95,
   "metadata": {},
   "outputs": [],
   "source": [
    "from matplotlib.pyplot import hist"
   ]
  },
  {
   "cell_type": "code",
   "execution_count": 97,
   "metadata": {},
   "outputs": [
    {
     "data": {
      "text/plain": [
       "(array([5.7184e+04, 3.7009e+04, 1.4678e+04, 4.1600e+03, 3.5370e+03,\n",
       "        2.9640e+03, 2.3280e+03, 2.8720e+03, 7.5100e+02, 3.9300e+02,\n",
       "        2.4400e+02, 1.6100e+02, 7.3000e+01, 5.2000e+01, 3.1000e+01,\n",
       "        2.6000e+01, 9.0000e+00, 2.0000e+00, 5.0000e+00, 2.0000e+00,\n",
       "        7.0000e+00, 5.0000e+00, 1.0000e+00, 3.0000e+00, 0.0000e+00,\n",
       "        1.0000e+00, 0.0000e+00, 0.0000e+00, 1.0000e+00, 0.0000e+00,\n",
       "        1.0000e+00]),\n",
       " array([ 1.        ,  2.12903226,  3.25806452,  4.38709677,  5.51612903,\n",
       "         6.64516129,  7.77419355,  8.90322581, 10.03225806, 11.16129032,\n",
       "        12.29032258, 13.41935484, 14.5483871 , 15.67741935, 16.80645161,\n",
       "        17.93548387, 19.06451613, 20.19354839, 21.32258065, 22.4516129 ,\n",
       "        23.58064516, 24.70967742, 25.83870968, 26.96774194, 28.09677419,\n",
       "        29.22580645, 30.35483871, 31.48387097, 32.61290323, 33.74193548,\n",
       "        34.87096774, 36.        ]),\n",
       " <a list of 31 Patch objects>)"
      ]
     },
     "execution_count": 97,
     "metadata": {},
     "output_type": "execute_result"
    },
    {
     "data": {
      "image/png": "[encoded data removed]",
      "text/plain": [
       "<Figure size 432x288 with 1 Axes>"
      ]
     },
     "metadata": {},
     "output_type": "display_data"
    }
   ],
   "source": [
    "hist(lengths, bins = len(set(lengths)))"
   ]
  },
  {
   "cell_type": "markdown",
   "metadata": {},
   "source": [
    "#### 参考good-tuning方法，使用出现次数为1的单词，重新评估单词的概率，并加上单词长度的影响\n",
    "其中的参数：\n",
    "* base:指若单词长度过长，则概率衰减的速度\n",
    "* prior: 指出现次数是0的单词比1的单词少的估计倍数，这个可以自行调节"
   ]
  },
  {
   "cell_type": "code",
   "execution_count": 139,
   "metadata": {},
   "outputs": [],
   "source": [
    "def simple_good_tuning(counter, base= 1/26, prior=1e-8):\n",
    "    N = sum(counter.values())\n",
    "    lengthes = map(len, [w for w in counter if counter[w] == 1])\n",
    "    ones = Counter(lengths)\n",
    "    longest =  max(ones)\n",
    "    def _get_prob(w):\n",
    "        if w in counter: prob = counter[w] / N\n",
    "        elif len(w) in ones: prob = prior * ones[len(w)] / N \n",
    "        else: prob = prior * ones[longest] / N * base ** (len(w) - longest)\n",
    "        return prob\n",
    "    return _get_prob"
   ]
  },
  {
   "cell_type": "code",
   "execution_count": 140,
   "metadata": {},
   "outputs": [],
   "source": [
    "gt_prob = simple_good_tuning(words_count)"
   ]
  },
  {
   "cell_type": "code",
   "execution_count": 125,
   "metadata": {},
   "outputs": [
    {
     "data": {
      "text/plain": [
       "9.827355104389663e-12"
      ]
     },
     "execution_count": 125,
     "metadata": {},
     "output_type": "execute_result"
    }
   ],
   "source": [
    "gt_prob('测测测测试')"
   ]
  },
  {
   "cell_type": "code",
   "execution_count": 126,
   "metadata": {},
   "outputs": [
    {
     "data": {
      "text/plain": [
       "8.35561418370823e-12"
      ]
     },
     "execution_count": 126,
     "metadata": {},
     "output_type": "execute_result"
    }
   ],
   "source": [
    "gt_prob('酷酷酷酷酷狗')"
   ]
  },
  {
   "cell_type": "code",
   "execution_count": 127,
   "metadata": {},
   "outputs": [
    {
     "data": {
      "text/plain": [
       "9.827355104389663e-12"
      ]
     },
     "execution_count": 127,
     "metadata": {},
     "output_type": "execute_result"
    }
   ],
   "source": [
    "gt_prob(\"泪失禁体制\")"
   ]
  },
  {
   "cell_type": "code",
   "execution_count": 130,
   "metadata": {},
   "outputs": [
    {
     "data": {
      "text/plain": [
       "0.00020410660601424683"
      ]
     },
     "execution_count": 130,
     "metadata": {},
     "output_type": "execute_result"
    }
   ],
   "source": [
    "gt_prob(\"我们\")"
   ]
  },
  {
   "cell_type": "code",
   "execution_count": 143,
   "metadata": {},
   "outputs": [
    {
     "data": {
      "text/plain": [
       "1.131244641020657e-26"
      ]
     },
     "execution_count": 143,
     "metadata": {},
     "output_type": "execute_result"
    }
   ],
   "source": [
    "gt_prob('啦啦啦啦啦啦啦啦啦啦啦啦啦啦啦啦啦啦啦啦啦啦啦啦啦啦啦啦啦啦啦啦啦啦啦啦啦啦啦啦啦啦啦啊')"
   ]
  },
  {
   "cell_type": "markdown",
   "metadata": {},
   "source": [
    "这样就可以获得生词的概率了"
   ]
  }
 ],
 "metadata": {
  "kernelspec": {
   "display_name": "Python 3",
   "language": "python",
   "name": "python3"
  },
  "language_info": {
   "codemirror_mode": {
    "name": "ipython",
    "version": 3
   },
   "file_extension": ".py",
   "mimetype": "text/x-python",
   "name": "python",
   "nbconvert_exporter": "python",
   "pygments_lexer": "ipython3",
   "version": "3.6.5"
  }
 },
 "nbformat": 4,
 "nbformat_minor": 2
}
