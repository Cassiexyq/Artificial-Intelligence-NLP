{
 "cells": [
  {
   "cell_type": "markdown",
   "metadata": {},
   "source": [
    "### 语言模型"
   ]
  },
  {
   "cell_type": "code",
   "execution_count": 3,
   "metadata": {},
   "outputs": [],
   "source": [
    "database  = 'F:\\\\NLP-dataset\\\\sqlResult_1558435.csv'"
   ]
  },
  {
   "cell_type": "code",
   "execution_count": 4,
   "metadata": {},
   "outputs": [],
   "source": [
    "import os"
   ]
  },
  {
   "cell_type": "code",
   "execution_count": 5,
   "metadata": {},
   "outputs": [
    {
     "data": {
      "text/plain": [
       "True"
      ]
     },
     "execution_count": 5,
     "metadata": {},
     "output_type": "execute_result"
    }
   ],
   "source": [
    "os.path.exists(database)"
   ]
  },
  {
   "cell_type": "code",
   "execution_count": 7,
   "metadata": {},
   "outputs": [],
   "source": [
    "import pandas as pd"
   ]
  },
  {
   "cell_type": "code",
   "execution_count": 8,
   "metadata": {},
   "outputs": [],
   "source": [
    "df = pd.read_csv(database, encoding='gb18030')"
   ]
  },
  {
   "cell_type": "code",
   "execution_count": 13,
   "metadata": {},
   "outputs": [
    {
     "data": {
      "text/plain": [
       "['此外，自本周（6月12日）起，除小米手机6等15款机型外，其余机型已暂停更新发布（含开发版/体验版内测，稳定版暂不受影响），以确保工程师可以集中全部精力进行系统优化工作。有人猜测这也是将精力主要用到MIUI 9的研发之中。\\r\\nMIUI 8去年5月发布，距今已有一年有余，也是时候更新换代了。\\r\\n当然，关于MIUI 9的确切信息，我们还是等待官方消息。\\r\\n',\n",
       " '骁龙835作为唯一通过Windows 10桌面平台认证的ARM处理器，高通强调，不会因为只考虑性能而去屏蔽掉小核心。相反，他们正联手微软，找到一种适合桌面平台的、兼顾性能和功耗的完美方案。\\r\\n报道称，微软已经拿到了一些新的源码，以便Windows 10更好地理解big.little架构。\\r\\n资料显示，骁龙835作为一款集成了CPU、GPU、基带、蓝牙/Wi-Fi的SoC，比传统的Wintel方案可以节省至少30%的PCB空间。\\r\\n按计划，今年Q4，华硕、惠普、联想将首发骁龙835 Win10电脑，预计均是二合一形态的产品。\\r\\n当然，高通骁龙只是个开始，未来也许还能见到三星Exynos、联发科、华为麒麟、小米澎湃等进入Windows 10桌面平台。\\r\\n']"
      ]
     },
     "execution_count": 13,
     "metadata": {},
     "output_type": "execute_result"
    }
   ],
   "source": [
    "df['content'].tolist()[:2]"
   ]
  },
  {
   "cell_type": "code",
   "execution_count": 14,
   "metadata": {},
   "outputs": [],
   "source": [
    "import re"
   ]
  },
  {
   "cell_type": "code",
   "execution_count": 15,
   "metadata": {},
   "outputs": [],
   "source": [
    "def token(content):\n",
    "    return \" \".join(re.findall('[\\w|\\d]+',content))"
   ]
  },
  {
   "cell_type": "code",
   "execution_count": 19,
   "metadata": {},
   "outputs": [
    {
     "data": {
      "text/plain": [
       "'This is a case to figure out 正则表达式'"
      ]
     },
     "execution_count": 19,
     "metadata": {},
     "output_type": "execute_result"
    }
   ],
   "source": [
    "case = \"@@@&&&& This is a case\\u3000 to figure out 正则表达式\"\n",
    "token(case)"
   ]
  },
  {
   "cell_type": "code",
   "execution_count": 34,
   "metadata": {},
   "outputs": [],
   "source": [
    "all_articles = [token(str(a)) for a in all_articles]"
   ]
  },
  {
   "cell_type": "code",
   "execution_count": 35,
   "metadata": {},
   "outputs": [
    {
     "data": {
      "text/plain": [
       "['此外 自本周 6月12日 起 除小米手机6等15款机型外 其余机型已暂停更新发布 含开发版 体验版内测 稳定版暂不受影响 以确保工程师可以集中全部精力进行系统优化工作 有人猜测这也是将精力主要用到MIUI 9的研发之中 MIUI 8去年5月发布 距今已有一年有余 也是时候更新换代了 当然 关于MIUI 9的确切信息 我们还是等待官方消息',\n",
       " '骁龙835作为唯一通过Windows 10桌面平台认证的ARM处理器 高通强调 不会因为只考虑性能而去屏蔽掉小核心 相反 他们正联手微软 找到一种适合桌面平台的 兼顾性能和功耗的完美方案 报道称 微软已经拿到了一些新的源码 以便Windows 10更好地理解big little架构 资料显示 骁龙835作为一款集成了CPU GPU 基带 蓝牙 Wi Fi的SoC 比传统的Wintel方案可以节省至少30 的PCB空间 按计划 今年Q4 华硕 惠普 联想将首发骁龙835 Win10电脑 预计均是二合一形态的产品 当然 高通骁龙只是个开始 未来也许还能见到三星Exynos 联发科 华为麒麟 小米澎湃等进入Windows 10桌面平台']"
      ]
     },
     "execution_count": 35,
     "metadata": {},
     "output_type": "execute_result"
    }
   ],
   "source": [
    "all_articles[:2]"
   ]
  },
  {
   "cell_type": "code",
   "execution_count": 36,
   "metadata": {},
   "outputs": [
    {
     "name": "stdout",
     "output_type": "stream",
     "text": [
      "length:37412506\n"
     ]
    }
   ],
   "source": [
    "text = ''\n",
    "for i in all_articles:\n",
    "    text += i\n",
    "print('length:{}'.format(len(text)))"
   ]
  },
  {
   "cell_type": "code",
   "execution_count": 37,
   "metadata": {},
   "outputs": [],
   "source": [
    "from functools import reduce"
   ]
  },
  {
   "cell_type": "code",
   "execution_count": 39,
   "metadata": {},
   "outputs": [],
   "source": [
    "from_reduce = reduce(lambda a1,a2: a1+a2, all_articles[:2])"
   ]
  },
  {
   "cell_type": "code",
   "execution_count": 40,
   "metadata": {},
   "outputs": [],
   "source": [
    "import jieba"
   ]
  },
  {
   "cell_type": "code",
   "execution_count": 44,
   "metadata": {},
   "outputs": [],
   "source": [
    "def cut(string): return list(jieba.cut(string))"
   ]
  },
  {
   "cell_type": "code",
   "execution_count": 46,
   "metadata": {},
   "outputs": [
    {
     "name": "stderr",
     "output_type": "stream",
     "text": [
      "Building prefix dict from the default dictionary ...\n",
      "Loading model from cache C:\\Users\\cassi\\AppData\\Local\\Temp\\jieba.cache\n",
      "Loading model cost 0.601 seconds.\n",
      "Prefix dict has been built succesfully.\n"
     ]
    },
    {
     "name": "stdout",
     "output_type": "stream",
     "text": [
      "21906852\n"
     ]
    }
   ],
   "source": [
    "print(len(cut(text)))"
   ]
  },
  {
   "cell_type": "code",
   "execution_count": 47,
   "metadata": {},
   "outputs": [],
   "source": [
    "all_tokens = cut(text)"
   ]
  },
  {
   "cell_type": "code",
   "execution_count": 63,
   "metadata": {},
   "outputs": [],
   "source": [
    "valid_token = [t for t in all_tokens if t.strip()]"
   ]
  },
  {
   "cell_type": "code",
   "execution_count": 64,
   "metadata": {},
   "outputs": [
    {
     "name": "stdout",
     "output_type": "stream",
     "text": [
      "17830864\n"
     ]
    }
   ],
   "source": [
    "print(len(valid_token))"
   ]
  },
  {
   "cell_type": "markdown",
   "metadata": {},
   "source": [
    "### 获得词频"
   ]
  },
  {
   "cell_type": "code",
   "execution_count": 50,
   "metadata": {},
   "outputs": [],
   "source": [
    "from collections import Counter"
   ]
  },
  {
   "cell_type": "code",
   "execution_count": 65,
   "metadata": {},
   "outputs": [],
   "source": [
    "words_count = Counter(valid_token) # 获得每个词的出现次数"
   ]
  },
  {
   "cell_type": "code",
   "execution_count": 66,
   "metadata": {},
   "outputs": [
    {
     "data": {
      "text/plain": [
       "[('的', 703820),\n",
       " ('n', 609079),\n",
       " ('在', 264633),\n",
       " ('月', 189525),\n",
       " ('日', 169920),\n",
       " ('新华社', 142462),\n",
       " ('和', 134220),\n",
       " ('年', 123531),\n",
       " ('了', 121904),\n",
       " ('是', 100288)]"
      ]
     },
     "execution_count": 66,
     "metadata": {},
     "output_type": "execute_result"
    }
   ],
   "source": [
    "words_count.most_common(10)"
   ]
  },
  {
   "cell_type": "code",
   "execution_count": 68,
   "metadata": {},
   "outputs": [],
   "source": [
    "frequences = [f for w,f in words_count.most_common(100)]"
   ]
  },
  {
   "cell_type": "code",
   "execution_count": 69,
   "metadata": {},
   "outputs": [
    {
     "name": "stdout",
     "output_type": "stream",
     "text": [
      "[703820, 609079, 264633, 189525, 169920, 142462, 134220, 123531, 121904, 100288, 88187, 84945, 83263, 78950, 77935, 71180, 70521, 64720, 62276, 62082, 61657, 60640, 58383, 58317, 58103, 52271, 50582, 48836, 47399, 46556, 40857, 40081, 38168, 37648, 37118, 36906, 36059, 35921, 35082, 34659, 33954, 33893, 32235, 30575, 30575, 30451, 29693, 28679, 28420, 28042, 27189, 26691, 26575, 26456, 26386, 26155, 25986, 25510, 25391, 25288, 25252, 24945, 23925, 23362, 23334, 23044, 22761, 22556, 22208, 22175, 21937, 21920, 21786, 21713, 21589, 21406, 21076, 21046, 21004, 20722, 20701, 20327, 19987, 19982, 19209, 19029, 18995, 18905, 18882, 18757, 18678, 18416, 18167, 18152, 18128, 17644, 17404, 17350, 17310, 17309]\n"
     ]
    }
   ],
   "source": [
    "print(frequences)"
   ]
  },
  {
   "cell_type": "code",
   "execution_count": 70,
   "metadata": {},
   "outputs": [],
   "source": [
    "x = [i for i in range(len(frequences[:100]))] # 统计前100个词频的变化曲线图"
   ]
  },
  {
   "cell_type": "code",
   "execution_count": 71,
   "metadata": {},
   "outputs": [],
   "source": [
    "%matplotlib inline"
   ]
  },
  {
   "cell_type": "code",
   "execution_count": 73,
   "metadata": {},
   "outputs": [],
   "source": [
    "import matplotlib.pyplot as plt"
   ]
  },
  {
   "cell_type": "code",
   "execution_count": 74,
   "metadata": {},
   "outputs": [
    {
     "data": {
      "text/plain": [
       "[<matplotlib.lines.Line2D at 0x14e8cf5fd30>]"
      ]
     },
     "execution_count": 74,
     "metadata": {},
     "output_type": "execute_result"
    },
    {
     "data": {
      "image/png": "[encoded data removed]",
      "text/plain": [
       "<Figure size 432x288 with 1 Axes>"
      ]
     },
     "metadata": {},
     "output_type": "display_data"
    }
   ],
   "source": [
    "plt.plot(x, frequences)"
   ]
  },
  {
   "cell_type": "code",
   "execution_count": 75,
   "metadata": {},
   "outputs": [],
   "source": [
    "import numpy as np"
   ]
  },
  {
   "cell_type": "code",
   "execution_count": 76,
   "metadata": {},
   "outputs": [
    {
     "data": {
      "text/plain": [
       "[<matplotlib.lines.Line2D at 0x14e8f556ba8>]"
      ]
     },
     "execution_count": 76,
     "metadata": {},
     "output_type": "execute_result"
    },
    {
     "data": {
      "image/png": "[encoded data removed]",
      "text/plain": [
       "<Figure size 432x288 with 1 Axes>"
      ]
     },
     "metadata": {},
     "output_type": "display_data"
    }
   ],
   "source": [
    "plt.plot(x, np.log(frequences)) # 用log可以平缓"
   ]
  },
  {
   "cell_type": "markdown",
   "metadata": {},
   "source": [
    "### 1-gram"
   ]
  },
  {
   "cell_type": "code",
   "execution_count": 78,
   "metadata": {},
   "outputs": [
    {
     "data": {
      "text/plain": [
       "17830864"
      ]
     },
     "execution_count": 78,
     "metadata": {},
     "output_type": "execute_result"
    }
   ],
   "source": [
    "len(valid_token)"
   ]
  },
  {
   "cell_type": "code",
   "execution_count": 79,
   "metadata": {},
   "outputs": [],
   "source": [
    "frequences_sum = [f for w,f in words_count.most_common()]"
   ]
  },
  {
   "cell_type": "code",
   "execution_count": 83,
   "metadata": {},
   "outputs": [],
   "source": [
    "frequences_sum = sum(frequences_sum)"
   ]
  },
  {
   "cell_type": "code",
   "execution_count": 81,
   "metadata": {},
   "outputs": [],
   "source": [
    "esp = 1/sum(frequences_sum)"
   ]
  },
  {
   "cell_type": "code",
   "execution_count": 82,
   "metadata": {},
   "outputs": [
    {
     "data": {
      "text/plain": [
       "5.6082531951340104e-08"
      ]
     },
     "execution_count": 82,
     "metadata": {},
     "output_type": "execute_result"
    }
   ],
   "source": [
    "esp"
   ]
  },
  {
   "cell_type": "code",
   "execution_count": 84,
   "metadata": {},
   "outputs": [],
   "source": [
    "def get_prob(word): # 获得单个词的概率\n",
    "    if word in words_count:\n",
    "        return words_count[word] / frequences_sum\n",
    "    else:\n",
    "        return esp"
   ]
  },
  {
   "cell_type": "code",
   "execution_count": 85,
   "metadata": {},
   "outputs": [
    {
     "data": {
      "text/plain": [
       "1.3459807668321625e-05"
      ]
     },
     "execution_count": 85,
     "metadata": {},
     "output_type": "execute_result"
    }
   ],
   "source": [
    "get_prob('好像')"
   ]
  },
  {
   "cell_type": "code",
   "execution_count": 86,
   "metadata": {},
   "outputs": [],
   "source": [
    "def get_product(words_prob):\n",
    "    return reduce(lambda x1, x2: x1*x2, words_prob)"
   ]
  },
  {
   "cell_type": "code",
   "execution_count": 89,
   "metadata": {},
   "outputs": [],
   "source": [
    "def language_model_one_gram(content):\n",
    "    words = cut(content)\n",
    "    return get_product([get_prob(i) for i in words])"
   ]
  },
  {
   "cell_type": "code",
   "execution_count": 90,
   "metadata": {},
   "outputs": [
    {
     "data": {
      "text/plain": [
       "9.135165177262909e-14"
      ]
     },
     "execution_count": 90,
     "metadata": {},
     "output_type": "execute_result"
    }
   ],
   "source": [
    "language_model_one_gram('明天会下雨')"
   ]
  },
  {
   "cell_type": "code",
   "execution_count": 91,
   "metadata": {},
   "outputs": [
    {
     "data": {
      "text/plain": [
       "2.8231767501296e-11"
      ]
     },
     "execution_count": 91,
     "metadata": {},
     "output_type": "execute_result"
    }
   ],
   "source": [
    "language_model_one_gram('明天晴天')"
   ]
  },
  {
   "cell_type": "code",
   "execution_count": 99,
   "metadata": {},
   "outputs": [],
   "source": [
    "sentence = \"\"\"\n",
    "太阳从西边升起\n",
    "太阳从东边升起\n",
    "兔子会飞\n",
    "鸟会飞\n",
    "\"\"\""
   ]
  },
  {
   "cell_type": "code",
   "execution_count": 100,
   "metadata": {},
   "outputs": [
    {
     "name": "stdout",
     "output_type": "stream",
     "text": [
      "太阳从西边升起 2.8182096362742606e-19\n",
      "太阳从东边升起 3.330611388324126e-19\n",
      "兔子会飞 1.245519154468941e-12\n",
      "鸟会飞 3.311948660746957e-12\n"
     ]
    }
   ],
   "source": [
    "for s in sentence.split():\n",
    "    print(s,  language_model_one_gram(s))"
   ]
  },
  {
   "cell_type": "code",
   "execution_count": 101,
   "metadata": {},
   "outputs": [
    {
     "name": "stdout",
     "output_type": "stream",
     "text": [
      "今晚去吃火锅 is better\n",
      "\t今晚去吃火锅 with probility 8.462444417088839e-16\n",
      "\t去吃火锅今晚 with probility 8.4624444170888385e-16\n",
      "小猫躺在床上 is better\n",
      "\t小猫躺在床上 with probility 2.889542597771319e-18\n",
      "\t小猫躺在怀里 with probility 1.7887644652870068e-18\n",
      "太阳从东边升起 is better\n",
      "\t太阳从西边升起 with probility 2.8182096362742606e-19\n",
      "\t太阳从东边升起 with probility 3.330611388324126e-19\n",
      "鸟会飞 is better\n",
      "\t兔子会飞 with probility 1.245519154468941e-12\n",
      "\t鸟会飞 with probility 3.311948660746957e-12\n"
     ]
    }
   ],
   "source": [
    "need_compared = [\n",
    "    \"今晚去吃火锅 去吃火锅今晚\",\n",
    "    \"小猫躺在床上 小猫躺在怀里\",\n",
    "    \"太阳从西边升起 太阳从东边升起\",\n",
    "    \"兔子会飞 鸟会飞\"\n",
    "]\n",
    "for s in need_compared:\n",
    "    s1,s2 = s.split()\n",
    "    p1,p2 = language_model_one_gram(s1), language_model_one_gram(s2)\n",
    "    better = s1 if p1>p2 else s2\n",
    "    print('{} is better'.format(better))\n",
    "    print('\\t{} with probility {}'.format(s1,p1))\n",
    "    print('\\t{} with probility {}'.format(s2,p2))"
   ]
  },
  {
   "cell_type": "markdown",
   "metadata": {},
   "source": [
    "### 2-gram"
   ]
  },
  {
   "cell_type": "code",
   "execution_count": 104,
   "metadata": {},
   "outputs": [],
   "source": [
    "all_2_gram_word = [''.join(valid_token[i:i+2]) for i in range(len(valid_token[:-2]))]"
   ]
  },
  {
   "cell_type": "code",
   "execution_count": 106,
   "metadata": {},
   "outputs": [],
   "source": [
    "_2_gram_word = len(all_2_gram_word)"
   ]
  },
  {
   "cell_type": "code",
   "execution_count": 107,
   "metadata": {},
   "outputs": [],
   "source": [
    "_2_gram_countr = Counter(all_2_gram_word)"
   ]
  },
  {
   "cell_type": "code",
   "execution_count": 110,
   "metadata": {},
   "outputs": [],
   "source": [
    "def get_combination_prob(w1,w2):\n",
    "    if w1+w2 in _2_gram_countr: return _2_gram_countr[w1+w2] / _2_gram_word\n",
    "    else: return 1/_2_gram_word"
   ]
  },
  {
   "cell_type": "code",
   "execution_count": 116,
   "metadata": {},
   "outputs": [
    {
     "data": {
      "text/plain": [
       "5.608253824184159e-08"
      ]
     },
     "execution_count": 116,
     "metadata": {},
     "output_type": "execute_result"
    }
   ],
   "source": [
    "get_combination_prob('测试','开发')"
   ]
  },
  {
   "cell_type": "code",
   "execution_count": 115,
   "metadata": {},
   "outputs": [
    {
     "data": {
      "text/plain": [
       "2.5237142208828713e-06"
      ]
     },
     "execution_count": 115,
     "metadata": {},
     "output_type": "execute_result"
    }
   ],
   "source": [
    "get_combination_prob('苹果','手机')"
   ]
  },
  {
   "cell_type": "code",
   "execution_count": 117,
   "metadata": {},
   "outputs": [],
   "source": [
    "def get_prob_2_gram(w1,w2):\n",
    "    return get_combination_prob(w1,w2)/get_prob(w1)"
   ]
  },
  {
   "cell_type": "code",
   "execution_count": 127,
   "metadata": {},
   "outputs": [
    {
     "data": {
      "text/plain": [
       "0.03571428972018131"
      ]
     },
     "execution_count": 127,
     "metadata": {},
     "output_type": "execute_result"
    }
   ],
   "source": [
    "get_prob_2_gram('波音','飞机')"
   ]
  },
  {
   "cell_type": "code",
   "execution_count": 123,
   "metadata": {},
   "outputs": [
    {
     "data": {
      "text/plain": [
       "5.7773419155645994e-05"
      ]
     },
     "execution_count": 123,
     "metadata": {},
     "output_type": "execute_result"
    }
   ],
   "source": [
    "get_prob_2_gram('会','下雪')"
   ]
  },
  {
   "cell_type": "code",
   "execution_count": 126,
   "metadata": {},
   "outputs": [
    {
     "data": {
      "text/plain": [
       "0.0042518177859165234"
      ]
     },
     "execution_count": 126,
     "metadata": {},
     "output_type": "execute_result"
    }
   ],
   "source": [
    "get_prob_2_gram('去','北京')"
   ]
  },
  {
   "cell_type": "code",
   "execution_count": 128,
   "metadata": {},
   "outputs": [],
   "source": [
    "def get_language_model_2_gram(sentence): \n",
    "    words = cut(sentence)\n",
    "    sentence_prob = 1\n",
    "    for i, word in enumerate(words):\n",
    "        if i == 0:\n",
    "            prob = get_prob(word)\n",
    "        else:\n",
    "            pre = words[i-1]\n",
    "            prob = get_prob_2_gram(pre, word)\n",
    "        sentence_prob *= prob\n",
    "    return sentence_prob"
   ]
  },
  {
   "cell_type": "code",
   "execution_count": 129,
   "metadata": {},
   "outputs": [
    {
     "data": {
      "text/plain": [
       "4.473719251144208e-12"
      ]
     },
     "execution_count": 129,
     "metadata": {},
     "output_type": "execute_result"
    }
   ],
   "source": [
    "get_language_model_2_gram(\"明天是世界末日\")"
   ]
  },
  {
   "cell_type": "code",
   "execution_count": 130,
   "metadata": {},
   "outputs": [
    {
     "data": {
      "text/plain": [
       "2.3849689360979708e-11"
      ]
     },
     "execution_count": 130,
     "metadata": {},
     "output_type": "execute_result"
    }
   ],
   "source": [
    "get_language_model_2_gram(\"明天不是世界末日\")"
   ]
  },
  {
   "cell_type": "code",
   "execution_count": 132,
   "metadata": {},
   "outputs": [
    {
     "name": "stdout",
     "output_type": "stream",
     "text": [
      "去吃火锅今晚 is better\n",
      "\t今晚去吃火锅 with probility 7.69202366374212e-12\n",
      "\t去吃火锅今晚 with probility 8.011792076049114e-09\n",
      "小猫躺在床上 is better\n",
      "\t小猫躺在床上 with probility 4.909129694239965e-12\n",
      "\t小猫躺在怀里 with probility 9.043133647284147e-13\n",
      "太阳从西边升起 is better\n",
      "\t太阳从西边升起 with probility 1.717042303292992e-13\n",
      "\t太阳从东边升起 with probility 1.452881948940224e-13\n",
      "鸟会飞 is better\n",
      "\t兔子会飞 with probility 5.6082538241841596e-08\n",
      "\t鸟会飞 with probility 5.6082538241841596e-08\n",
      "明天放假 is better\n",
      "\t明天放假 with probility 5.608253824184159e-08\n",
      "\t明天不放假 with probility 9.866739009912698e-12\n"
     ]
    }
   ],
   "source": [
    "need_compared = [\n",
    "    \"今晚去吃火锅 去吃火锅今晚\",\n",
    "    \"小猫躺在床上 小猫躺在怀里\",\n",
    "    \"太阳从西边升起 太阳从东边升起\",\n",
    "    \"兔子会飞 鸟会飞\",\n",
    "    \"明天放假 明天不放假\"\n",
    "]\n",
    "for s in need_compared:\n",
    "    s1,s2 = s.split()\n",
    "    p1,p2 = get_language_model_2_gram(s1), get_language_model_2_gram(s2)\n",
    "    better = s1 if p1>p2 else s2\n",
    "    print('{} is better'.format(better))\n",
    "    print('\\t{} with probility {}'.format(s1,p1))\n",
    "    print('\\t{} with probility {}'.format(s2,p2))"
   ]
  },
  {
   "cell_type": "code",
   "execution_count": 133,
   "metadata": {},
   "outputs": [],
   "source": [
    "grammar = \"\"\"\n",
    "sentence => noun_phrase verb_phrase \n",
    "noun_phrase => Article Adj* noun belong \n",
    "belong => de property\n",
    "de => 的\n",
    "property => 眼睛 | 裙子 | 胳膊 | 尾巴\n",
    "Adj* => null | Adj Adj*\n",
    "verb_phrase => verb noun_phrase\n",
    "Article =>  一个 | 这个\n",
    "noun =>   女人 |  篮球 | 桌子 | 小猫\n",
    "verb => 看着   |  坐在 |  听着 | 看见\n",
    "Adj =>   蓝色的 |  好看的 | 小小的\n",
    "\"\"\""
   ]
  },
  {
   "cell_type": "code",
   "execution_count": 134,
   "metadata": {},
   "outputs": [],
   "source": [
    "import random"
   ]
  },
  {
   "cell_type": "code",
   "execution_count": 135,
   "metadata": {},
   "outputs": [],
   "source": [
    "def parse_grammar(grammar_str, sep='=>'):\n",
    "    grammar = {}\n",
    "    for line in grammar_str.split('\\n'):\n",
    "        line = line.strip()\n",
    "        if not line: continue\n",
    "        target,rules = line.split(sep)\n",
    "        grammar[target.strip()] = [r.split() for r in rules.split('|')] \n",
    "    return grammar"
   ]
  },
  {
   "cell_type": "code",
   "execution_count": 138,
   "metadata": {},
   "outputs": [],
   "source": [
    "parsed = parse_grammar(grammar)"
   ]
  },
  {
   "cell_type": "code",
   "execution_count": 142,
   "metadata": {},
   "outputs": [],
   "source": [
    "def gene(grammar_parsed, target='sentence'):\n",
    "    if target not in grammar_parsed: return target\n",
    "    rule = random.choice(grammar_parsed[target])\n",
    "    return ''.join(gene(grammar_parsed, target=r) for r in rule if r!= 'null')"
   ]
  },
  {
   "cell_type": "code",
   "execution_count": 144,
   "metadata": {},
   "outputs": [],
   "source": [
    "random_generated = [gene(parsed) for _ in range(100)]"
   ]
  },
  {
   "cell_type": "code",
   "execution_count": 145,
   "metadata": {},
   "outputs": [
    {
     "data": {
      "text/plain": [
       "['一个女人的尾巴看着这个小猫的眼睛',\n",
       " '这个桌子的尾巴看着这个桌子的眼睛',\n",
       " '这个桌子的胳膊看见这个小猫的眼睛',\n",
       " '一个女人的裙子坐在这个桌子的胳膊',\n",
       " '一个小猫的尾巴看着这个篮球的眼睛',\n",
       " '这个小猫的裙子坐在这个女人的胳膊',\n",
       " '一个女人的尾巴看着一个桌子的裙子',\n",
       " '一个小小的小猫的胳膊看着这个篮球的眼睛',\n",
       " '一个小猫的眼睛看见一个小猫的胳膊',\n",
       " '这个桌子的眼睛坐在这个篮球的眼睛',\n",
       " '一个女人的胳膊听着一个小猫的裙子',\n",
       " '这个篮球的眼睛看着这个篮球的胳膊',\n",
       " '一个小猫的裙子看见一个小猫的裙子',\n",
       " '一个小猫的眼睛坐在一个桌子的裙子',\n",
       " '这个桌子的尾巴看着一个桌子的胳膊',\n",
       " '一个女人的胳膊听着一个小小的小猫的胳膊',\n",
       " '这个女人的尾巴坐在这个篮球的裙子',\n",
       " '这个篮球的眼睛看见一个桌子的尾巴',\n",
       " '一个桌子的尾巴听着这个女人的尾巴',\n",
       " '这个小猫的胳膊听着一个篮球的眼睛',\n",
       " '一个小猫的眼睛听着这个女人的尾巴',\n",
       " '这个篮球的胳膊看着一个桌子的尾巴',\n",
       " '这个女人的眼睛听着一个篮球的裙子',\n",
       " '一个篮球的胳膊看见这个小小的小猫的裙子',\n",
       " '一个小小的女人的尾巴听着一个小猫的胳膊',\n",
       " '一个小猫的眼睛听着一个桌子的尾巴',\n",
       " '这个篮球的胳膊坐在这个篮球的尾巴',\n",
       " '一个小猫的眼睛听着这个桌子的裙子',\n",
       " '这个女人的尾巴听着一个小小的篮球的裙子',\n",
       " '一个小小的桌子的胳膊听着一个小猫的尾巴',\n",
       " '一个篮球的裙子看着一个小小的篮球的胳膊',\n",
       " '一个篮球的胳膊坐在这个小小的小猫的尾巴',\n",
       " '一个女人的胳膊坐在这个好看的女人的胳膊',\n",
       " '一个篮球的裙子听着这个篮球的裙子',\n",
       " '这个小小的小小的篮球的裙子看见一个小猫的眼睛',\n",
       " '这个桌子的尾巴听着一个小小的篮球的裙子',\n",
       " '一个蓝色的女人的裙子听着这个女人的眼睛',\n",
       " '一个小小的女人的胳膊看着这个蓝色的女人的尾巴',\n",
       " '一个桌子的眼睛看见这个蓝色的桌子的眼睛',\n",
       " '一个桌子的尾巴看见这个蓝色的桌子的胳膊',\n",
       " '一个桌子的眼睛看见一个蓝色的小猫的胳膊',\n",
       " '这个篮球的裙子坐在这个好看的女人的胳膊',\n",
       " '一个蓝色的女人的胳膊听着这个女人的尾巴',\n",
       " '这个蓝色的篮球的眼睛看着一个桌子的眼睛',\n",
       " '这个小猫的裙子坐在一个蓝色的桌子的胳膊',\n",
       " '一个好看的桌子的眼睛听着这个女人的胳膊',\n",
       " '这个桌子的胳膊听着这个小小的蓝色的女人的眼睛',\n",
       " '这个小猫的裙子看着一个好看的小猫的尾巴',\n",
       " '一个蓝色的小猫的胳膊看着这个小小的篮球的胳膊',\n",
       " '一个小小的桌子的胳膊听着这个好看的女人的胳膊',\n",
       " '这个好看的小猫的眼睛看着一个小猫的裙子',\n",
       " '一个小猫的眼睛听着一个小小的好看的女人的胳膊',\n",
       " '一个好看的篮球的眼睛听着一个小猫的胳膊',\n",
       " '这个小小的篮球的胳膊听着这个蓝色的女人的眼睛',\n",
       " '这个好看的小猫的眼睛听着一个小猫的尾巴',\n",
       " '一个好看的小猫的眼睛坐在这个小小的小猫的裙子',\n",
       " '这个小小的小小的蓝色的小猫的尾巴看见这个桌子的眼睛',\n",
       " '这个小小的蓝色的篮球的尾巴看见一个篮球的裙子',\n",
       " '一个小小的蓝色的篮球的眼睛听着一个小猫的胳膊',\n",
       " '这个小小的篮球的眼睛听着这个蓝色的女人的裙子',\n",
       " '一个蓝色的小小的桌子的裙子坐在这个小猫的眼睛',\n",
       " '一个小小的桌子的裙子看着这个好看的小小的桌子的胳膊',\n",
       " '一个女人的尾巴听着一个好看的蓝色的篮球的眼睛',\n",
       " '一个蓝色的女人的裙子看见这个蓝色的小猫的胳膊',\n",
       " '一个女人的胳膊看见这个好看的好看的篮球的胳膊',\n",
       " '一个小小的桌子的眼睛坐在一个小小的蓝色的小小的桌子的眼睛',\n",
       " '一个好看的蓝色的篮球的尾巴看着一个桌子的眼睛',\n",
       " '这个小小的好看的好看的女人的胳膊看见这个女人的胳膊',\n",
       " '一个桌子的眼睛看着一个蓝色的小小的小猫的尾巴',\n",
       " '一个蓝色的蓝色的小猫的胳膊坐在这个桌子的胳膊',\n",
       " '一个小猫的胳膊看见这个蓝色的蓝色的篮球的尾巴',\n",
       " '这个蓝色的好看的女人的眼睛坐在这个篮球的眼睛',\n",
       " '这个好看的女人的裙子听着一个蓝色的篮球的胳膊',\n",
       " '这个好看的小小的女人的眼睛听着这个小小的桌子的裙子',\n",
       " '一个篮球的尾巴看着一个好看的蓝色的篮球的胳膊',\n",
       " '这个小猫的胳膊坐在一个蓝色的好看的小猫的胳膊',\n",
       " '一个桌子的尾巴坐在这个好看的好看的桌子的胳膊',\n",
       " '这个小猫的尾巴坐在这个好看的好看的小猫的裙子',\n",
       " '一个蓝色的好看的篮球的尾巴听着一个小猫的裙子',\n",
       " '一个女人的胳膊听着一个蓝色的好看的小小的女人的尾巴',\n",
       " '这个好看的好看的蓝色的篮球的眼睛看着这个篮球的胳膊',\n",
       " '一个女人的裙子坐在一个蓝色的好看的好看的桌子的尾巴',\n",
       " '这个小小的好看的蓝色的女人的胳膊听着这个蓝色的桌子的胳膊',\n",
       " '这个蓝色的小猫的尾巴看见一个小小的好看的好看的桌子的胳膊',\n",
       " '一个小猫的裙子看着这个小小的好看的蓝色的好看的小小的女人的眼睛',\n",
       " '一个小小的蓝色的蓝色的篮球的胳膊看见一个好看的小小的女人的裙子',\n",
       " '这个蓝色的蓝色的蓝色的女人的眼睛坐在这个蓝色的篮球的尾巴',\n",
       " '一个好看的小小的好看的蓝色的桌子的胳膊听着一个小小的小猫的胳膊',\n",
       " '这个蓝色的桌子的眼睛看见这个蓝色的好看的蓝色的女人的裙子',\n",
       " '这个好看的女人的裙子坐在一个蓝色的蓝色的好看的桌子的尾巴',\n",
       " '这个好看的小小的女人的裙子听着这个蓝色的好看的篮球的裙子',\n",
       " '一个好看的小小的蓝色的好看的小猫的裙子看着一个小小的小小的女人的眼睛',\n",
       " '一个好看的蓝色的好看的小小的蓝色的女人的胳膊看见这个小猫的裙子',\n",
       " '一个好看的小小的好看的小猫的裙子看见这个好看的好看的桌子的尾巴',\n",
       " '一个桌子的裙子听着一个蓝色的好看的好看的小小的好看的女人的尾巴',\n",
       " '一个蓝色的小小的小小的蓝色的桌子的眼睛看着这个小小的好看的好看的小猫的眼睛',\n",
       " '这个小猫的胳膊听着这个好看的蓝色的蓝色的好看的小小的小小的篮球的眼睛',\n",
       " '一个蓝色的桌子的胳膊坐在这个好看的小小的好看的小小的好看的篮球的裙子',\n",
       " '一个蓝色的小小的蓝色的篮球的眼睛看着这个好看的小小的好看的小小的女人的裙子',\n",
       " '这个好看的小小的小小的桌子的尾巴坐在这个蓝色的小小的好看的好看的小小的蓝色的桌子的眼睛']"
      ]
     },
     "execution_count": 145,
     "metadata": {},
     "output_type": "execute_result"
    }
   ],
   "source": [
    "sorted(random_generated, key=get_language_model_2_gram,reverse = True)"
   ]
  }
 ],
 "metadata": {
  "kernelspec": {
   "display_name": "Python 3",
   "language": "python",
   "name": "python3"
  },
  "language_info": {
   "codemirror_mode": {
    "name": "ipython",
    "version": 3
   },
   "file_extension": ".py",
   "mimetype": "text/x-python",
   "name": "python",
   "nbconvert_exporter": "python",
   "pygments_lexer": "ipython3",
   "version": "3.6.5"
  }
 },
 "nbformat": 4,
 "nbformat_minor": 2
}
